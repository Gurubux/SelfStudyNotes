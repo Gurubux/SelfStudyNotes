{
  "nbformat": 4,
  "nbformat_minor": 0,
  "metadata": {
    "colab": {
      "name": "Logistic_Regression.ipynb",
      "version": "0.3.2",
      "provenance": [],
      "collapsed_sections": [
        "A3B85CcBtGun",
        "3sF6pzmtkFw8",
        "g_V4sj4SlfE4",
        "O6syBdHeoq8_"
      ],
      "toc_visible": true
    },
    "kernelspec": {
      "name": "python3",
      "display_name": "Python 3"
    }
  },
  "cells": [
    {
      "cell_type": "markdown",
      "metadata": {
        "id": "JDSGa0NVvpa1",
        "colab_type": "text"
      },
      "source": [
        "## Logistic Regression with cost and gradient descent Using scipy.optimize\n",
        "*opt.fmin_tnc()*\n",
        "### Includes plotting"
      ]
    },
    {
      "cell_type": "code",
      "metadata": {
        "id": "OX0Cy9lwrKVK",
        "colab_type": "code",
        "colab": {}
      },
      "source": [
        "import numpy as np\n",
        "import matplotlib.pyplot as plt\n",
        "import pandas as pd\n",
        "path = 'https://raw.githubusercontent.com/Gurubux/SelfStudyNotes/master/Linear_Regression/ex2data1.txt'\n",
        "data = pd.read_csv(path, header=None, names=['Exam 1', 'Exam 2', 'Admitted'])"
      ],
      "execution_count": 0,
      "outputs": []
    },
    {
      "cell_type": "code",
      "metadata": {
        "id": "XqevhEEfrPwu",
        "colab_type": "code",
        "outputId": "96405497-b02c-4f20-f2cc-b813ec3bab6e",
        "colab": {
          "base_uri": "https://localhost:8080/",
          "height": 517
        }
      },
      "source": [
        "positive = data[data['Admitted'].isin([1])]\n",
        "negative = data[data['Admitted'].isin([0])]\n",
        "\n",
        "fig, ax = plt.subplots(figsize=(12,8))\n",
        "ax.scatter(positive['Exam 1'], positive['Exam 2'], s=50, c='b', marker='o', label='Admitted')\n",
        "ax.scatter(negative['Exam 1'], negative['Exam 2'], s=50, c='r', marker='x', label='Rejected')\n",
        "ax.legend()\n",
        "ax.set_xlabel('Exam 1 Score')\n",
        "ax.set_ylabel('Exam 1 Score')"
      ],
      "execution_count": 4,
      "outputs": [
        {
          "output_type": "execute_result",
          "data": {
            "text/plain": [
              "Text(0, 0.5, 'Exam 1 Score')"
            ]
          },
          "metadata": {
            "tags": []
          },
          "execution_count": 4
        },
        {
          "output_type": "display_data",
          "data": {
            "image/png": "[encoded data removed]",
            "text/plain": [
              "<Figure size 864x576 with 1 Axes>"
            ]
          },
          "metadata": {
            "tags": []
          }
        }
      ]
    },
    {
      "cell_type": "code",
      "metadata": {
        "id": "2S6TqUWzrUnl",
        "colab_type": "code",
        "colab": {}
      },
      "source": [
        "def sigmoid(z):\n",
        "  return 1 / (1 + np.exp(-z))\n",
        "\n",
        "def cost(theta, X, y):\n",
        "    theta = np.matrix(theta)\n",
        "    X = np.matrix(X)\n",
        "    y = np.matrix(y)\n",
        "    first = np.multiply(-y, np.log(sigmoid(X * theta.T)))\n",
        "    second = np.multiply((1 - y), np.log(1 - sigmoid(X * theta.T)))\n",
        "    return np.sum(first - second) / (len(X))\n",
        "\n",
        "def gradient(theta, X, y):\n",
        "    theta = np.matrix(theta)\n",
        "    X = np.matrix(X)\n",
        "    y = np.matrix(y)\n",
        "    \n",
        "    parameters = int(theta.ravel().shape[1])\n",
        "    grad = np.zeros(parameters)\n",
        "    \n",
        "    error = sigmoid(X * theta.T) - y\n",
        "    \n",
        "    for i in range(parameters):\n",
        "        term = np.multiply(error, X[:,i])\n",
        "        grad[i] = np.sum(term) / len(X)\n",
        "    \n",
        "    return grad\n",
        "  \n",
        "def predict(theta, X):\n",
        "    probability = sigmoid(X * theta.T)\n",
        "    return [1 if x >= 0.5 else 0 for x in probability]"
      ],
      "execution_count": 0,
      "outputs": []
    },
    {
      "cell_type": "code",
      "metadata": {
        "id": "uhRDGtKArnlU",
        "colab_type": "code",
        "colab": {}
      },
      "source": [
        "# add a ones column - this makes the matrix multiplication work out easier\n",
        "data.insert(0, 'Ones', 1)"
      ],
      "execution_count": 0,
      "outputs": []
    },
    {
      "cell_type": "code",
      "metadata": {
        "id": "eBawkVB7rl2s",
        "colab_type": "code",
        "colab": {}
      },
      "source": [
        "\n",
        "# set X (training data) and y (target variable)\n",
        "cols = data.shape[1]\n",
        "X = data.iloc[:,0:cols-1]\n",
        "y = data.iloc[:,cols-1:cols]\n",
        "\n",
        "#print(X.head())\n",
        "#print(y.head())\n",
        "# convert to numpy arrays and initalize the parameter array theta\n",
        "X = np.array(X.values)\n",
        "y = np.array(y.values)\n",
        "theta = np.zeros(3)"
      ],
      "execution_count": 0,
      "outputs": []
    },
    {
      "cell_type": "code",
      "metadata": {
        "id": "ojkFLYYLseEU",
        "colab_type": "code",
        "colab": {}
      },
      "source": [
        "pos , neg = (y==1).reshape(100,1) , (y==0).reshape(100,1)"
      ],
      "execution_count": 0,
      "outputs": []
    },
    {
      "cell_type": "code",
      "metadata": {
        "id": "oN3M4eY0rw_1",
        "colab_type": "code",
        "outputId": "d2bb7d7c-ce4b-4337-af16-3a06d70aa397",
        "colab": {
          "base_uri": "https://localhost:8080/",
          "height": 34
        }
      },
      "source": [
        "cost(theta, X, y)"
      ],
      "execution_count": 9,
      "outputs": [
        {
          "output_type": "execute_result",
          "data": {
            "text/plain": [
              "0.6931471805599453"
            ]
          },
          "metadata": {
            "tags": []
          },
          "execution_count": 9
        }
      ]
    },
    {
      "cell_type": "code",
      "metadata": {
        "id": "kR1lVVDYr1is",
        "colab_type": "code",
        "outputId": "38e92415-06a6-4215-f60e-8a3e77a7c828",
        "colab": {
          "base_uri": "https://localhost:8080/",
          "height": 51
        }
      },
      "source": [
        "import scipy.optimize as opt\n",
        "result = opt.fmin_tnc(func=cost, x0=theta, fprime=gradient, args=(X, y))\n",
        "theta_min = np.matrix(result[0])\n",
        "print(result)\n",
        "cost(result[0], X, y)\n"
      ],
      "execution_count": 10,
      "outputs": [
        {
          "output_type": "stream",
          "text": [
            "(array([-25.16131863,   0.20623159,   0.20147149]), 36, 0)\n"
          ],
          "name": "stdout"
        },
        {
          "output_type": "execute_result",
          "data": {
            "text/plain": [
              "0.20349770158947458"
            ]
          },
          "metadata": {
            "tags": []
          },
          "execution_count": 10
        }
      ]
    },
    {
      "cell_type": "code",
      "metadata": {
        "id": "rdVTTQ_h2EuB",
        "colab_type": "code",
        "outputId": "6dff1ef0-0ce9-4764-afe7-e8c7d1383b06",
        "colab": {
          "base_uri": "https://localhost:8080/",
          "height": 34
        }
      },
      "source": [
        "predictions = predict(theta_min, X)\n",
        "predictions[:5],type(predictions)"
      ],
      "execution_count": 11,
      "outputs": [
        {
          "output_type": "execute_result",
          "data": {
            "text/plain": [
              "([0, 0, 0, 1, 1], list)"
            ]
          },
          "metadata": {
            "tags": []
          },
          "execution_count": 11
        }
      ]
    },
    {
      "cell_type": "code",
      "metadata": {
        "id": "TEGkAG_TyLKC",
        "colab_type": "code",
        "outputId": "cf2d255e-1016-430b-d7ad-4fa20e566239",
        "colab": {
          "base_uri": "https://localhost:8080/",
          "height": 102
        }
      },
      "source": [
        "X[:5],type(X)"
      ],
      "execution_count": 12,
      "outputs": [
        {
          "output_type": "execute_result",
          "data": {
            "text/plain": [
              "(array([[ 1.        , 34.62365962, 78.02469282],\n",
              "        [ 1.        , 30.28671077, 43.89499752],\n",
              "        [ 1.        , 35.84740877, 72.90219803],\n",
              "        [ 1.        , 60.18259939, 86.3085521 ],\n",
              "        [ 1.        , 79.03273605, 75.34437644]]), numpy.ndarray)"
            ]
          },
          "metadata": {
            "tags": []
          },
          "execution_count": 12
        }
      ]
    },
    {
      "cell_type": "code",
      "metadata": {
        "id": "77NWmtjxyOOb",
        "colab_type": "code",
        "outputId": "78980d36-60fc-45b5-d3dd-242f666a4ae4",
        "colab": {
          "base_uri": "https://localhost:8080/",
          "height": 34
        }
      },
      "source": [
        "theta_min[:5],type(theta_min)"
      ],
      "execution_count": 13,
      "outputs": [
        {
          "output_type": "execute_result",
          "data": {
            "text/plain": [
              "(matrix([[-25.16131863,   0.20623159,   0.20147149]]), numpy.matrix)"
            ]
          },
          "metadata": {
            "tags": []
          },
          "execution_count": 13
        }
      ]
    },
    {
      "cell_type": "code",
      "metadata": {
        "id": "R_0xGBzKzhJX",
        "colab_type": "code",
        "outputId": "214fbe1a-83ca-432c-fe4f-c89381e5d11d",
        "colab": {
          "base_uri": "https://localhost:8080/",
          "height": 102
        }
      },
      "source": [
        "(X * theta_min.T)[:5]"
      ],
      "execution_count": 14,
      "outputs": [
        {
          "output_type": "execute_result",
          "data": {
            "text/plain": [
              "matrix([[ -2.30107548],\n",
              "        [-10.07165177],\n",
              "        [ -3.08073639],\n",
              "        [  4.63894671],\n",
              "        [  6.31747157]])"
            ]
          },
          "metadata": {
            "tags": []
          },
          "execution_count": 14
        }
      ]
    },
    {
      "cell_type": "code",
      "metadata": {
        "id": "ZSJjuC7Qzj8t",
        "colab_type": "code",
        "colab": {}
      },
      "source": [
        ""
      ],
      "execution_count": 0,
      "outputs": []
    },
    {
      "cell_type": "code",
      "metadata": {
        "id": "nPpqsLW6sN-H",
        "colab_type": "code",
        "outputId": "c57d3993-11fc-401d-e72f-ac808355d095",
        "colab": {
          "base_uri": "https://localhost:8080/",
          "height": 204
        }
      },
      "source": [
        "import seaborn as sns\n",
        "w = np.squeeze(np.asarray((X * theta_min.T).reshape(1,-1)))\n",
        "t = np.squeeze(np.asarray(sigmoid(X * theta_min.T).reshape(1,-1)))\n",
        "new_df = pd.DataFrame({\"w\":w,\"t\":t,\"predictions\":predictions})\n",
        "new_df.head()"
      ],
      "execution_count": 15,
      "outputs": [
        {
          "output_type": "execute_result",
          "data": {
            "text/html": [
              "<div>\n",
              "<style scoped>\n",
              "    .dataframe tbody tr th:only-of-type {\n",
              "        vertical-align: middle;\n",
              "    }\n",
              "\n",
              "    .dataframe tbody tr th {\n",
              "        vertical-align: top;\n",
              "    }\n",
              "\n",
              "    .dataframe thead th {\n",
              "        text-align: right;\n",
              "    }\n",
              "</style>\n",
              "<table border=\"1\" class=\"dataframe\">\n",
              "  <thead>\n",
              "    <tr style=\"text-align: right;\">\n",
              "      <th></th>\n",
              "      <th>w</th>\n",
              "      <th>t</th>\n",
              "      <th>predictions</th>\n",
              "    </tr>\n",
              "  </thead>\n",
              "  <tbody>\n",
              "    <tr>\n",
              "      <th>0</th>\n",
              "      <td>-2.301075</td>\n",
              "      <td>0.091034</td>\n",
              "      <td>0</td>\n",
              "    </tr>\n",
              "    <tr>\n",
              "      <th>1</th>\n",
              "      <td>-10.071652</td>\n",
              "      <td>0.000042</td>\n",
              "      <td>0</td>\n",
              "    </tr>\n",
              "    <tr>\n",
              "      <th>2</th>\n",
              "      <td>-3.080736</td>\n",
              "      <td>0.043909</td>\n",
              "      <td>0</td>\n",
              "    </tr>\n",
              "    <tr>\n",
              "      <th>3</th>\n",
              "      <td>4.638947</td>\n",
              "      <td>0.990425</td>\n",
              "      <td>1</td>\n",
              "    </tr>\n",
              "    <tr>\n",
              "      <th>4</th>\n",
              "      <td>6.317472</td>\n",
              "      <td>0.998199</td>\n",
              "      <td>1</td>\n",
              "    </tr>\n",
              "  </tbody>\n",
              "</table>\n",
              "</div>"
            ],
            "text/plain": [
              "           w         t  predictions\n",
              "0  -2.301075  0.091034            0\n",
              "1 -10.071652  0.000042            0\n",
              "2  -3.080736  0.043909            0\n",
              "3   4.638947  0.990425            1\n",
              "4   6.317472  0.998199            1"
            ]
          },
          "metadata": {
            "tags": []
          },
          "execution_count": 15
        }
      ]
    },
    {
      "cell_type": "code",
      "metadata": {
        "id": "dWQUoFN-zOML",
        "colab_type": "code",
        "outputId": "1e215a06-3cc1-4c59-b139-408f3a1009a3",
        "colab": {
          "base_uri": "https://localhost:8080/",
          "height": 51
        }
      },
      "source": [
        "w[:5]"
      ],
      "execution_count": 16,
      "outputs": [
        {
          "output_type": "execute_result",
          "data": {
            "text/plain": [
              "array([ -2.30107548, -10.07165177,  -3.08073639,   4.63894671,\n",
              "         6.31747157])"
            ]
          },
          "metadata": {
            "tags": []
          },
          "execution_count": 16
        }
      ]
    },
    {
      "cell_type": "code",
      "metadata": {
        "id": "1osP4tLo05af",
        "colab_type": "code",
        "outputId": "34921a1c-14e6-428f-fb2b-b13da7b462b9",
        "colab": {
          "base_uri": "https://localhost:8080/",
          "height": 517
        }
      },
      "source": [
        "\n",
        "fig, ax = plt.subplots(figsize=(12,8))\n",
        "sns.scatterplot(x='w', y='t',\n",
        "              hue='predictions', data=new_df); \n",
        "ax.plot([np.min(w), np.max(w)], [0.5, 0.5], linewidth=2)"
      ],
      "execution_count": 17,
      "outputs": [
        {
          "output_type": "execute_result",
          "data": {
            "text/plain": [
              "[<matplotlib.lines.Line2D at 0x7fde7fcee9e8>]"
            ]
          },
          "metadata": {
            "tags": []
          },
          "execution_count": 17
        },
        {
          "output_type": "display_data",
          "data": {
            "image/png": "[encoded data removed]",
            "text/plain": [
              "<Figure size 864x576 with 1 Axes>"
            ]
          },
          "metadata": {
            "tags": []
          }
        }
      ]
    },
    {
      "cell_type": "code",
      "metadata": {
        "id": "E_80nXa2sP6V",
        "colab_type": "code",
        "outputId": "82ac1712-8f28-4226-b9f9-b324ca12c223",
        "colab": {
          "base_uri": "https://localhost:8080/",
          "height": 551
        }
      },
      "source": [
        "fig, ax = plt.subplots(figsize=(12,8))\n",
        "\n",
        "plt.scatter(X[pos[:,0],1],X[pos[:,0],2],c=\"r\",marker=\"+\",label=\"Admitted\")\n",
        "plt.scatter(X[neg[:,0],1],X[neg[:,0],2],c=\"b\",marker=\"x\",label=\"Not admitted\")\n",
        "x_value= np.array([np.min(X[:,1]),np.max(X[:,1])])\n",
        "print(np.squeeze(np.asarray(theta_min.reshape(1,-1))))\n",
        "theta_min = np.squeeze(np.asarray(theta_min.reshape(1,-1)))\n",
        "print(theta_min[0],theta_min[1],theta_min[2])\n",
        "y_value=-(theta_min[0] +theta_min[1]*x_value)/theta_min[2]\n",
        "\n",
        "ax.plot(x_value,y_value, \"g\")\n",
        "ax.set_xlabel(\"Exam 1 score\")\n",
        "ax.set_ylabel(\"Exam 2 score\")\n",
        "ax.legend(loc=0)"
      ],
      "execution_count": 18,
      "outputs": [
        {
          "output_type": "stream",
          "text": [
            "[-25.16131863   0.20623159   0.20147149]\n",
            "-25.16131862777957 0.20623158859990537 0.2014714861690025\n"
          ],
          "name": "stdout"
        },
        {
          "output_type": "execute_result",
          "data": {
            "text/plain": [
              "<matplotlib.legend.Legend at 0x7fde7fc055f8>"
            ]
          },
          "metadata": {
            "tags": []
          },
          "execution_count": 18
        },
        {
          "output_type": "display_data",
          "data": {
            "image/png": "[encoded data removed]",
            "text/plain": [
              "<Figure size 864x576 with 1 Axes>"
            ]
          },
          "metadata": {
            "tags": []
          }
        }
      ]
    },
    {
      "cell_type": "code",
      "metadata": {
        "id": "uAldw1aztgpO",
        "colab_type": "code",
        "outputId": "c885b4a7-a511-4731-a12e-0a5b2c1d8262",
        "colab": {
          "base_uri": "https://localhost:8080/",
          "height": 34
        }
      },
      "source": [
        "correct = [1 if ((a == 1 and b == 1) or (a == 0 and b == 0)) else 0 for (a, b) in zip(predictions, y)]\n",
        "accuracy = (sum(map(int, correct)) % len(correct))\n",
        "print('accuracy = {0}%'.format(accuracy))"
      ],
      "execution_count": 19,
      "outputs": [
        {
          "output_type": "stream",
          "text": [
            "accuracy = 89%\n"
          ],
          "name": "stdout"
        }
      ]
    },
    {
      "cell_type": "markdown",
      "metadata": {
        "id": "8uxT4_pNusze",
        "colab_type": "text"
      },
      "source": [
        "**References** :\n",
        "\n",
        "[*link 1*](https://github.com/Benlau93/Machine-Learning-by-Andrew-Ng-in-Python/blob/master/LogisticRegression/ML_LogisticRegression.ipynb)\n",
        "\n",
        "[*John Wittenauer*](https://www.johnwittenauer.net/machine-learning-exercises-in-python-part-3/)\n",
        "\n",
        "[*Benjamin Lau*](https://towardsdatascience.com/andrew-ngs-machine-learning-course-in-python-regularized-logistic-regression-lasso-regression-721f311130fb)"
      ]
    },
    {
      "cell_type": "code",
      "metadata": {
        "id": "OBFNOMkmjOD_",
        "colab_type": "code",
        "colab": {}
      },
      "source": [
        "data.head()\n",
        "data = data.iloc[:,1:]"
      ],
      "execution_count": 0,
      "outputs": []
    },
    {
      "cell_type": "markdown",
      "metadata": {
        "id": "A3B85CcBtGun",
        "colab_type": "text"
      },
      "source": [
        "# Assumptions and analysys steps"
      ]
    },
    {
      "cell_type": "markdown",
      "metadata": {
        "id": "3sF6pzmtkFw8",
        "colab_type": "text"
      },
      "source": [
        "## Assumption Of Continuous IVs Being Linearly Related To The **Log Odds**"
      ]
    },
    {
      "cell_type": "code",
      "metadata": {
        "id": "A0uzrIUFvIuV",
        "colab_type": "code",
        "colab": {
          "base_uri": "https://localhost:8080/",
          "height": 312
        },
        "outputId": "6b5bb455-d434-40bc-9c78-65303c5bd850"
      },
      "source": [
        "sns.regplot(x= 'Exam 1', y= 'Admitted', data= data, logistic= True).set_title(\"Exam 1 Log Odds Linear Plot\")\n",
        "#gre.figure.savefig(\"gre log lin.png\")"
      ],
      "execution_count": 36,
      "outputs": [
        {
          "output_type": "execute_result",
          "data": {
            "text/plain": [
              "Text(0.5, 1.0, 'Exam 1 Log Odds Linear Plot')"
            ]
          },
          "metadata": {
            "tags": []
          },
          "execution_count": 36
        },
        {
          "output_type": "display_data",
          "data": {
            "image/png": "[encoded data removed]",
            "text/plain": [
              "<Figure size 432x288 with 1 Axes>"
            ]
          },
          "metadata": {
            "tags": []
          }
        }
      ]
    },
    {
      "cell_type": "code",
      "metadata": {
        "id": "i9prjh5rjDdS",
        "colab_type": "code",
        "colab": {
          "base_uri": "https://localhost:8080/",
          "height": 312
        },
        "outputId": "a6bdf1ac-6d71-48e5-9d77-2f4737e69098"
      },
      "source": [
        "sns.regplot(x= 'Exam 2', y= 'Admitted', data= data, logistic= True).set_title(\"Exam 2 Log Odds Linear Plot\")\n",
        "#gpa.figure.savefig(\"gpa log lin.png\")"
      ],
      "execution_count": 37,
      "outputs": [
        {
          "output_type": "execute_result",
          "data": {
            "text/plain": [
              "Text(0.5, 1.0, 'Exam 2 Log Odds Linear Plot')"
            ]
          },
          "metadata": {
            "tags": []
          },
          "execution_count": 37
        },
        {
          "output_type": "display_data",
          "data": {
            "image/png": "[encoded data removed]",
            "text/plain": [
              "<Figure size 432x288 with 1 Axes>"
            ]
          },
          "metadata": {
            "tags": []
          }
        }
      ]
    },
    {
      "cell_type": "markdown",
      "metadata": {
        "id": "g_V4sj4SlfE4",
        "colab_type": "text"
      },
      "source": [
        "## ASSUMPTION OF THE ABSENCE OF MULTICOLLINEARITY"
      ]
    },
    {
      "cell_type": "code",
      "metadata": {
        "id": "PUOXWFPtljMV",
        "colab_type": "code",
        "colab": {}
      },
      "source": [
        "from scipy.stats.stats import pearsonr,spearmanr\n",
        "from scipy.stats import chi2_contingency\n",
        "from statsmodels.stats.outliers_influence import variance_inflation_factor\n",
        "\n",
        "\n",
        "\n"
      ],
      "execution_count": 0,
      "outputs": []
    },
    {
      "cell_type": "markdown",
      "metadata": {
        "id": "JYGodAy-mi1j",
        "colab_type": "text"
      },
      "source": [
        "### VIF"
      ]
    },
    {
      "cell_type": "code",
      "metadata": {
        "id": "edLIeHCNmkWn",
        "colab_type": "code",
        "colab": {
          "base_uri": "https://localhost:8080/",
          "height": 142
        },
        "outputId": "bebcf010-615b-4e21-df92-65b36ee0e3ae"
      },
      "source": [
        "vif = pd.DataFrame()\n",
        "vif[\"VIF Factor\"] = [variance_inflation_factor(data.values, i) for i in range(data.shape[1])]\n",
        "vif[\"features\"] = data.columns\n",
        "vif"
      ],
      "execution_count": 44,
      "outputs": [
        {
          "output_type": "execute_result",
          "data": {
            "text/html": [
              "<div>\n",
              "<style scoped>\n",
              "    .dataframe tbody tr th:only-of-type {\n",
              "        vertical-align: middle;\n",
              "    }\n",
              "\n",
              "    .dataframe tbody tr th {\n",
              "        vertical-align: top;\n",
              "    }\n",
              "\n",
              "    .dataframe thead th {\n",
              "        text-align: right;\n",
              "    }\n",
              "</style>\n",
              "<table border=\"1\" class=\"dataframe\">\n",
              "  <thead>\n",
              "    <tr style=\"text-align: right;\">\n",
              "      <th></th>\n",
              "      <th>VIF Factor</th>\n",
              "      <th>features</th>\n",
              "    </tr>\n",
              "  </thead>\n",
              "  <tbody>\n",
              "    <tr>\n",
              "      <th>0</th>\n",
              "      <td>7.676457</td>\n",
              "      <td>Exam 1</td>\n",
              "    </tr>\n",
              "    <tr>\n",
              "      <th>1</th>\n",
              "      <td>7.151108</td>\n",
              "      <td>Exam 2</td>\n",
              "    </tr>\n",
              "    <tr>\n",
              "      <th>2</th>\n",
              "      <td>3.762641</td>\n",
              "      <td>Admitted</td>\n",
              "    </tr>\n",
              "  </tbody>\n",
              "</table>\n",
              "</div>"
            ],
            "text/plain": [
              "   VIF Factor  features\n",
              "0    7.676457    Exam 1\n",
              "1    7.151108    Exam 2\n",
              "2    3.762641  Admitted"
            ]
          },
          "metadata": {
            "tags": []
          },
          "execution_count": 44
        }
      ]
    },
    {
      "cell_type": "markdown",
      "metadata": {
        "id": "LDu8o5QKmnx_",
        "colab_type": "text"
      },
      "source": [
        "### pearsonr and spearmanr"
      ]
    },
    {
      "cell_type": "code",
      "metadata": {
        "id": "A-yBRE20msWM",
        "colab_type": "code",
        "colab": {
          "base_uri": "https://localhost:8080/",
          "height": 34
        },
        "outputId": "11602f69-b032-4f61-d7cd-3c86a21ac032"
      },
      "source": [
        "pearsonr(data['Exam 1'], data['Exam 2'])"
      ],
      "execution_count": 45,
      "outputs": [
        {
          "output_type": "execute_result",
          "data": {
            "text/plain": [
              "(-0.023664586253294567, 0.8152152827846564)"
            ]
          },
          "metadata": {
            "tags": []
          },
          "execution_count": 45
        }
      ]
    },
    {
      "cell_type": "code",
      "metadata": {
        "id": "EcUMYhw3ng2O",
        "colab_type": "code",
        "colab": {
          "base_uri": "https://localhost:8080/",
          "height": 34
        },
        "outputId": "9e1084d8-e13e-492a-bc3d-cdec5ca94e92"
      },
      "source": [
        "spearmanr(data['Exam 1'], data['Exam 2'])"
      ],
      "execution_count": 46,
      "outputs": [
        {
          "output_type": "execute_result",
          "data": {
            "text/plain": [
              "SpearmanrResult(correlation=-0.0372997299729973, pvalue=0.7125481177278083)"
            ]
          },
          "metadata": {
            "tags": []
          },
          "execution_count": 46
        }
      ]
    },
    {
      "cell_type": "markdown",
      "metadata": {
        "id": "RipxHmGmmurh",
        "colab_type": "text"
      },
      "source": [
        "### chi2_contingency"
      ]
    },
    {
      "cell_type": "code",
      "metadata": {
        "id": "v7ESjAwMmymD",
        "colab_type": "code",
        "colab": {
          "base_uri": "https://localhost:8080/",
          "height": 34
        },
        "outputId": "0cd7f087-cca0-4ab5-ed64-a2b17a3525e0"
      },
      "source": [
        "from scipy.stats import chi2_contingency\n",
        "table = pd.crosstab(data['Exam 1'], data['Exam 2'])\n",
        "chi2, p, dof, expected = chi2_contingency(table.values)\n",
        "print('Chi-square Statistic %0.3f p_value %0.3f' % (chi2, p))\n",
        "#>>>Chi-square Statistic 9900.000 p_value 0.239"
      ],
      "execution_count": 47,
      "outputs": [
        {
          "output_type": "stream",
          "text": [
            "Chi-square Statistic 9900.000 p_value 0.239\n"
          ],
          "name": "stdout"
        }
      ]
    },
    {
      "cell_type": "markdown",
      "metadata": {
        "id": "vZwRu1HEoAch",
        "colab_type": "text"
      },
      "source": [
        "### df.corr()"
      ]
    },
    {
      "cell_type": "code",
      "metadata": {
        "id": "AiJLpWfXoBnH",
        "colab_type": "code",
        "colab": {
          "base_uri": "https://localhost:8080/",
          "height": 142
        },
        "outputId": "f11960a8-4e6a-45d5-ab33-165c3445ad98"
      },
      "source": [
        "data.corr()"
      ],
      "execution_count": 48,
      "outputs": [
        {
          "output_type": "execute_result",
          "data": {
            "text/html": [
              "<div>\n",
              "<style scoped>\n",
              "    .dataframe tbody tr th:only-of-type {\n",
              "        vertical-align: middle;\n",
              "    }\n",
              "\n",
              "    .dataframe tbody tr th {\n",
              "        vertical-align: top;\n",
              "    }\n",
              "\n",
              "    .dataframe thead th {\n",
              "        text-align: right;\n",
              "    }\n",
              "</style>\n",
              "<table border=\"1\" class=\"dataframe\">\n",
              "  <thead>\n",
              "    <tr style=\"text-align: right;\">\n",
              "      <th></th>\n",
              "      <th>Exam 1</th>\n",
              "      <th>Exam 2</th>\n",
              "      <th>Admitted</th>\n",
              "    </tr>\n",
              "  </thead>\n",
              "  <tbody>\n",
              "    <tr>\n",
              "      <th>Exam 1</th>\n",
              "      <td>1.000000</td>\n",
              "      <td>-0.023665</td>\n",
              "      <td>0.574057</td>\n",
              "    </tr>\n",
              "    <tr>\n",
              "      <th>Exam 2</th>\n",
              "      <td>-0.023665</td>\n",
              "      <td>1.000000</td>\n",
              "      <td>0.512323</td>\n",
              "    </tr>\n",
              "    <tr>\n",
              "      <th>Admitted</th>\n",
              "      <td>0.574057</td>\n",
              "      <td>0.512323</td>\n",
              "      <td>1.000000</td>\n",
              "    </tr>\n",
              "  </tbody>\n",
              "</table>\n",
              "</div>"
            ],
            "text/plain": [
              "            Exam 1    Exam 2  Admitted\n",
              "Exam 1    1.000000 -0.023665  0.574057\n",
              "Exam 2   -0.023665  1.000000  0.512323\n",
              "Admitted  0.574057  0.512323  1.000000"
            ]
          },
          "metadata": {
            "tags": []
          },
          "execution_count": 48
        }
      ]
    },
    {
      "cell_type": "markdown",
      "metadata": {
        "id": "O6syBdHeoq8_",
        "colab_type": "text"
      },
      "source": [
        "## ASSUMPTION OF LACK OF OUTLIERS"
      ]
    },
    {
      "cell_type": "code",
      "metadata": {
        "id": "La3vWASZotF9",
        "colab_type": "code",
        "colab": {
          "base_uri": "https://localhost:8080/",
          "height": 268
        },
        "outputId": "c6fd0302-ea22-44cf-86cd-8e03f9a80cc8"
      },
      "source": [
        "sns.boxplot(x= 'Exam 1', data= data, orient= 'v').set_title(\"Exam 1 Box Plot\")"
      ],
      "execution_count": 51,
      "outputs": [
        {
          "output_type": "display_data",
          "data": {
            "image/png": "[encoded data removed]",
            "text/plain": [
              "<Figure size 432x288 with 1 Axes>"
            ]
          },
          "metadata": {
            "tags": []
          }
        }
      ]
    },
    {
      "cell_type": "code",
      "metadata": {
        "id": "T_u0ECBtow6K",
        "colab_type": "code",
        "colab": {
          "base_uri": "https://localhost:8080/",
          "height": 268
        },
        "outputId": "58cf63d7-378e-480b-8ba3-f9f53acc6508"
      },
      "source": [
        "sns.boxplot(x= 'Exam 2', data= data, orient= 'v').set_title(\"Exam 2 Box Plot\")"
      ],
      "execution_count": 52,
      "outputs": [
        {
          "output_type": "display_data",
          "data": {
            "image/png": "[encoded data removed]",
            "text/plain": [
              "<Figure size 432x288 with 1 Axes>"
            ]
          },
          "metadata": {
            "tags": []
          }
        }
      ]
    }
  ]
}