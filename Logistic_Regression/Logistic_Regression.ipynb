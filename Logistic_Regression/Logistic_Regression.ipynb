{
  "nbformat": 4,
  "nbformat_minor": 0,
  "metadata": {
    "colab": {
      "name": "Logistic_Regression.ipynb",
      "version": "0.3.2",
      "provenance": [],
      "collapsed_sections": [
        "JDSGa0NVvpa1",
        "A3B85CcBtGun",
        "3sF6pzmtkFw8",
        "g_V4sj4SlfE4",
        "O6syBdHeoq8_",
        "Q3N0tqCo6-U_",
        "oKzj81fdDvfX",
        "prRV2oi1D0Xg",
        "xvQPNCpyT9sP",
        "AiEhBTREEsQH",
        "R7astNw1wjFO",
        "xeJ0PR0DxCHc",
        "C2cyoJxazQWc",
        "JjEODWwk6rqu",
        "A3xYLKwPX0vS",
        "diduPGxXPWXZ",
        "F4sw2cKZT42d",
        "kwgT6m_H1XvW",
        "WGUxWRzx6obo",
        "vb17dnYwAw9W",
        "sG29GOnAKF6H"
      ]
    },
    "kernelspec": {
      "name": "python3",
      "display_name": "Python 3"
    }
  },
  "cells": [
    {
      "cell_type": "markdown",
      "metadata": {
        "id": "JDSGa0NVvpa1",
        "colab_type": "text"
      },
      "source": [
        "## Logistic Regression with cost and gradient descent Using scipy.optimize\n",
        "*opt.fmin_tnc()*\n",
        "### Includes plotting"
      ]
    },
    {
      "cell_type": "code",
      "metadata": {
        "id": "OX0Cy9lwrKVK",
        "colab_type": "code",
        "colab": {}
      },
      "source": [
        "import numpy as np\n",
        "import matplotlib.pyplot as plt\n",
        "import pandas as pd\n",
        "path = 'https://raw.githubusercontent.com/Gurubux/SelfStudyNotes/master/Linear_Regression/ex2data1.txt'\n",
        "data = pd.read_csv(path, header=None, names=['Exam 1', 'Exam 2', 'Admitted'])"
      ],
      "execution_count": 0,
      "outputs": []
    },
    {
      "cell_type": "code",
      "metadata": {
        "id": "XqevhEEfrPwu",
        "colab_type": "code",
        "outputId": "9b7ee43d-2840-4137-e1f7-fd854158962f",
        "colab": {
          "base_uri": "https://localhost:8080/",
          "height": 517
        }
      },
      "source": [
        "positive = data[data['Admitted'].isin([1])]\n",
        "negative = data[data['Admitted'].isin([0])]\n",
        "\n",
        "fig, ax = plt.subplots(figsize=(12,8))\n",
        "ax.scatter(positive['Exam 1'], positive['Exam 2'], s=50, c='b', marker='o', label='Admitted')\n",
        "ax.scatter(negative['Exam 1'], negative['Exam 2'], s=50, c='r', marker='x', label='Rejected')\n",
        "ax.legend()\n",
        "ax.set_xlabel('Exam 1 Score')\n",
        "ax.set_ylabel('Exam 1 Score')"
      ],
      "execution_count": 2,
      "outputs": [
        {
          "output_type": "execute_result",
          "data": {
            "text/plain": [
              "Text(0, 0.5, 'Exam 1 Score')"
            ]
          },
          "metadata": {
            "tags": []
          },
          "execution_count": 2
        },
        {
          "output_type": "display_data",
          "data": {
            "image/png": "[encoded data removed]",
            "text/plain": [
              "<Figure size 864x576 with 1 Axes>"
            ]
          },
          "metadata": {
            "tags": []
          }
        }
      ]
    },
    {
      "cell_type": "code",
      "metadata": {
        "id": "2S6TqUWzrUnl",
        "colab_type": "code",
        "colab": {}
      },
      "source": [
        "def sigmoid(z):\n",
        "  return 1 / (1 + np.exp(-z))\n",
        "\n",
        "def cost(theta, X, y):\n",
        "    theta = np.matrix(theta)\n",
        "    X = np.matrix(X)\n",
        "    y = np.matrix(y)\n",
        "    first = np.multiply(-y, np.log(sigmoid(X * theta.T)))\n",
        "    second = np.multiply((1 - y), np.log(1 - sigmoid(X * theta.T)))\n",
        "    return np.sum(first - second) / (len(X))\n",
        "\n",
        "def gradient(theta, X, y):\n",
        "    theta = np.matrix(theta)\n",
        "    X = np.matrix(X)\n",
        "    y = np.matrix(y)\n",
        "    \n",
        "    parameters = int(theta.ravel().shape[1])\n",
        "    grad = np.zeros(parameters)\n",
        "    \n",
        "    error = sigmoid(X * theta.T) - y\n",
        "    \n",
        "    for i in range(parameters):\n",
        "        term = np.multiply(error, X[:,i])\n",
        "        grad[i] = np.sum(term) / len(X)\n",
        "    \n",
        "    return grad\n",
        "  \n",
        "def predict(theta, X):\n",
        "    probability = sigmoid(X * theta.T)\n",
        "    return [1 if x >= 0.5 else 0 for x in probability]"
      ],
      "execution_count": 0,
      "outputs": []
    },
    {
      "cell_type": "code",
      "metadata": {
        "id": "uhRDGtKArnlU",
        "colab_type": "code",
        "colab": {}
      },
      "source": [
        "# add a ones column - this makes the matrix multiplication work out easier\n",
        "data.insert(0, 'Ones', 1)"
      ],
      "execution_count": 0,
      "outputs": []
    },
    {
      "cell_type": "code",
      "metadata": {
        "id": "eBawkVB7rl2s",
        "colab_type": "code",
        "colab": {}
      },
      "source": [
        "\n",
        "# set X (training data) and y (target variable)\n",
        "cols = data.shape[1]\n",
        "X = data.iloc[:,0:cols-1]\n",
        "y = data.iloc[:,cols-1:cols]\n",
        "\n",
        "#print(X.head())\n",
        "#print(y.head())\n",
        "# convert to numpy arrays and initalize the parameter array theta\n",
        "X = np.array(X.values)\n",
        "y = np.array(y.values)\n",
        "theta = np.zeros(3)"
      ],
      "execution_count": 0,
      "outputs": []
    },
    {
      "cell_type": "code",
      "metadata": {
        "id": "ojkFLYYLseEU",
        "colab_type": "code",
        "colab": {}
      },
      "source": [
        "pos , neg = (y==1).reshape(100,1) , (y==0).reshape(100,1)"
      ],
      "execution_count": 0,
      "outputs": []
    },
    {
      "cell_type": "code",
      "metadata": {
        "id": "oN3M4eY0rw_1",
        "colab_type": "code",
        "outputId": "ba748ec9-a124-445c-f2f9-a5a0a1cd7cd1",
        "colab": {
          "base_uri": "https://localhost:8080/",
          "height": 34
        }
      },
      "source": [
        "cost(theta, X, y)"
      ],
      "execution_count": 7,
      "outputs": [
        {
          "output_type": "execute_result",
          "data": {
            "text/plain": [
              "0.6931471805599453"
            ]
          },
          "metadata": {
            "tags": []
          },
          "execution_count": 7
        }
      ]
    },
    {
      "cell_type": "code",
      "metadata": {
        "id": "kR1lVVDYr1is",
        "colab_type": "code",
        "outputId": "b287c4a6-ea33-43b1-fdf3-1e58636ea580",
        "colab": {
          "base_uri": "https://localhost:8080/",
          "height": 52
        }
      },
      "source": [
        "import scipy.optimize as opt\n",
        "result = opt.fmin_tnc(func=cost, x0=theta, fprime=gradient, args=(X, y))\n",
        "theta_min = np.matrix(result[0])\n",
        "print(result)\n",
        "cost(result[0], X, y)\n"
      ],
      "execution_count": 8,
      "outputs": [
        {
          "output_type": "stream",
          "text": [
            "(array([-25.16131863,   0.20623159,   0.20147149]), 36, 0)\n"
          ],
          "name": "stdout"
        },
        {
          "output_type": "execute_result",
          "data": {
            "text/plain": [
              "0.20349770158947458"
            ]
          },
          "metadata": {
            "tags": []
          },
          "execution_count": 8
        }
      ]
    },
    {
      "cell_type": "code",
      "metadata": {
        "id": "b2g757duLwb2",
        "colab_type": "code",
        "outputId": "172cd016-45b9-45a2-c767-be44f0f1f997",
        "colab": {
          "base_uri": "https://localhost:8080/",
          "height": 123
        }
      },
      "source": [
        "X[:5],theta_min[:5]"
      ],
      "execution_count": 9,
      "outputs": [
        {
          "output_type": "execute_result",
          "data": {
            "text/plain": [
              "(array([[ 1.        , 34.62365962, 78.02469282],\n",
              "        [ 1.        , 30.28671077, 43.89499752],\n",
              "        [ 1.        , 35.84740877, 72.90219803],\n",
              "        [ 1.        , 60.18259939, 86.3085521 ],\n",
              "        [ 1.        , 79.03273605, 75.34437644]]),\n",
              " matrix([[-25.16131863,   0.20623159,   0.20147149]]))"
            ]
          },
          "metadata": {
            "tags": []
          },
          "execution_count": 9
        }
      ]
    },
    {
      "cell_type": "code",
      "metadata": {
        "id": "rdVTTQ_h2EuB",
        "colab_type": "code",
        "outputId": "599e99fc-c3b5-4ce3-d939-cf3a3e166523",
        "colab": {
          "base_uri": "https://localhost:8080/",
          "height": 34
        }
      },
      "source": [
        "predictions = predict(theta_min, X)\n",
        "predictions[:5],type(predictions)"
      ],
      "execution_count": 10,
      "outputs": [
        {
          "output_type": "execute_result",
          "data": {
            "text/plain": [
              "([0, 0, 0, 1, 1], list)"
            ]
          },
          "metadata": {
            "tags": []
          },
          "execution_count": 10
        }
      ]
    },
    {
      "cell_type": "code",
      "metadata": {
        "id": "TEGkAG_TyLKC",
        "colab_type": "code",
        "outputId": "b3aa72fc-c0ab-4d5a-d9e7-596a99fa4a29",
        "colab": {
          "base_uri": "https://localhost:8080/",
          "height": 105
        }
      },
      "source": [
        "X[:5],type(X)"
      ],
      "execution_count": 11,
      "outputs": [
        {
          "output_type": "execute_result",
          "data": {
            "text/plain": [
              "(array([[ 1.        , 34.62365962, 78.02469282],\n",
              "        [ 1.        , 30.28671077, 43.89499752],\n",
              "        [ 1.        , 35.84740877, 72.90219803],\n",
              "        [ 1.        , 60.18259939, 86.3085521 ],\n",
              "        [ 1.        , 79.03273605, 75.34437644]]), numpy.ndarray)"
            ]
          },
          "metadata": {
            "tags": []
          },
          "execution_count": 11
        }
      ]
    },
    {
      "cell_type": "code",
      "metadata": {
        "id": "77NWmtjxyOOb",
        "colab_type": "code",
        "outputId": "20ae4fe2-55b7-4bb2-8365-a47447a17d56",
        "colab": {
          "base_uri": "https://localhost:8080/",
          "height": 34
        }
      },
      "source": [
        "theta_min[:5],type(theta_min)"
      ],
      "execution_count": 12,
      "outputs": [
        {
          "output_type": "execute_result",
          "data": {
            "text/plain": [
              "(matrix([[-25.16131863,   0.20623159,   0.20147149]]), numpy.matrix)"
            ]
          },
          "metadata": {
            "tags": []
          },
          "execution_count": 12
        }
      ]
    },
    {
      "cell_type": "code",
      "metadata": {
        "id": "R_0xGBzKzhJX",
        "colab_type": "code",
        "outputId": "07a1ceca-966d-4519-fefe-41df7e9b55bc",
        "colab": {
          "base_uri": "https://localhost:8080/",
          "height": 105
        }
      },
      "source": [
        "(X * theta_min.T)[:5]"
      ],
      "execution_count": 13,
      "outputs": [
        {
          "output_type": "execute_result",
          "data": {
            "text/plain": [
              "matrix([[ -2.30107548],\n",
              "        [-10.07165177],\n",
              "        [ -3.08073639],\n",
              "        [  4.63894671],\n",
              "        [  6.31747157]])"
            ]
          },
          "metadata": {
            "tags": []
          },
          "execution_count": 13
        }
      ]
    },
    {
      "cell_type": "code",
      "metadata": {
        "id": "ZSJjuC7Qzj8t",
        "colab_type": "code",
        "colab": {}
      },
      "source": [
        ""
      ],
      "execution_count": 0,
      "outputs": []
    },
    {
      "cell_type": "code",
      "metadata": {
        "id": "nPpqsLW6sN-H",
        "colab_type": "code",
        "outputId": "6dd1e84d-590e-4c3f-d997-819287976c8f",
        "colab": {
          "base_uri": "https://localhost:8080/",
          "height": 197
        }
      },
      "source": [
        "import seaborn as sns\n",
        "w = np.squeeze(np.asarray((X * theta_min.T).reshape(1,-1)))\n",
        "t = np.squeeze(np.asarray(sigmoid(X * theta_min.T).reshape(1,-1)))\n",
        "new_df = pd.DataFrame({\"w\":w,\"t\":t,\"predictions\":predictions})\n",
        "new_df.head()"
      ],
      "execution_count": 14,
      "outputs": [
        {
          "output_type": "execute_result",
          "data": {
            "text/html": [
              "<div>\n",
              "<style scoped>\n",
              "    .dataframe tbody tr th:only-of-type {\n",
              "        vertical-align: middle;\n",
              "    }\n",
              "\n",
              "    .dataframe tbody tr th {\n",
              "        vertical-align: top;\n",
              "    }\n",
              "\n",
              "    .dataframe thead th {\n",
              "        text-align: right;\n",
              "    }\n",
              "</style>\n",
              "<table border=\"1\" class=\"dataframe\">\n",
              "  <thead>\n",
              "    <tr style=\"text-align: right;\">\n",
              "      <th></th>\n",
              "      <th>w</th>\n",
              "      <th>t</th>\n",
              "      <th>predictions</th>\n",
              "    </tr>\n",
              "  </thead>\n",
              "  <tbody>\n",
              "    <tr>\n",
              "      <th>0</th>\n",
              "      <td>-2.301075</td>\n",
              "      <td>0.091034</td>\n",
              "      <td>0</td>\n",
              "    </tr>\n",
              "    <tr>\n",
              "      <th>1</th>\n",
              "      <td>-10.071652</td>\n",
              "      <td>0.000042</td>\n",
              "      <td>0</td>\n",
              "    </tr>\n",
              "    <tr>\n",
              "      <th>2</th>\n",
              "      <td>-3.080736</td>\n",
              "      <td>0.043909</td>\n",
              "      <td>0</td>\n",
              "    </tr>\n",
              "    <tr>\n",
              "      <th>3</th>\n",
              "      <td>4.638947</td>\n",
              "      <td>0.990425</td>\n",
              "      <td>1</td>\n",
              "    </tr>\n",
              "    <tr>\n",
              "      <th>4</th>\n",
              "      <td>6.317472</td>\n",
              "      <td>0.998199</td>\n",
              "      <td>1</td>\n",
              "    </tr>\n",
              "  </tbody>\n",
              "</table>\n",
              "</div>"
            ],
            "text/plain": [
              "           w         t  predictions\n",
              "0  -2.301075  0.091034            0\n",
              "1 -10.071652  0.000042            0\n",
              "2  -3.080736  0.043909            0\n",
              "3   4.638947  0.990425            1\n",
              "4   6.317472  0.998199            1"
            ]
          },
          "metadata": {
            "tags": []
          },
          "execution_count": 14
        }
      ]
    },
    {
      "cell_type": "code",
      "metadata": {
        "id": "dWQUoFN-zOML",
        "colab_type": "code",
        "outputId": "2414bf39-68a5-4e75-a4bd-b4f964318342",
        "colab": {
          "base_uri": "https://localhost:8080/",
          "height": 52
        }
      },
      "source": [
        "w[:5]"
      ],
      "execution_count": 15,
      "outputs": [
        {
          "output_type": "execute_result",
          "data": {
            "text/plain": [
              "array([ -2.30107548, -10.07165177,  -3.08073639,   4.63894671,\n",
              "         6.31747157])"
            ]
          },
          "metadata": {
            "tags": []
          },
          "execution_count": 15
        }
      ]
    },
    {
      "cell_type": "code",
      "metadata": {
        "id": "1osP4tLo05af",
        "colab_type": "code",
        "outputId": "ad8ee81d-22c0-4f8f-c589-fdd3f3de0631",
        "colab": {
          "base_uri": "https://localhost:8080/",
          "height": 517
        }
      },
      "source": [
        "\n",
        "fig, ax = plt.subplots(figsize=(12,8))\n",
        "sns.scatterplot(x='w', y='t',\n",
        "              hue='predictions', data=new_df); \n",
        "ax.plot([np.min(w), np.max(w)], [0.5, 0.5], linewidth=2)"
      ],
      "execution_count": 16,
      "outputs": [
        {
          "output_type": "execute_result",
          "data": {
            "text/plain": [
              "[<matplotlib.lines.Line2D at 0x7fb09f255278>]"
            ]
          },
          "metadata": {
            "tags": []
          },
          "execution_count": 16
        },
        {
          "output_type": "display_data",
          "data": {
            "image/png": "[encoded data removed]",
            "text/plain": [
              "<Figure size 864x576 with 1 Axes>"
            ]
          },
          "metadata": {
            "tags": []
          }
        }
      ]
    },
    {
      "cell_type": "code",
      "metadata": {
        "id": "E_80nXa2sP6V",
        "colab_type": "code",
        "outputId": "3e4e3d1a-507a-4a8e-ab0e-089e411b428a",
        "colab": {
          "base_uri": "https://localhost:8080/",
          "height": 553
        }
      },
      "source": [
        "fig, ax = plt.subplots(figsize=(12,8))\n",
        "\n",
        "plt.scatter(X[pos[:,0],1],X[pos[:,0],2],c=\"r\",marker=\"+\",label=\"Admitted\")\n",
        "plt.scatter(X[neg[:,0],1],X[neg[:,0],2],c=\"b\",marker=\"x\",label=\"Not admitted\")\n",
        "x_value= np.array([np.min(X[:,1]),np.max(X[:,1])])\n",
        "print(np.squeeze(np.asarray(theta_min.reshape(1,-1))))\n",
        "theta_min = np.squeeze(np.asarray(theta_min.reshape(1,-1)))\n",
        "print(theta_min[0],theta_min[1],theta_min[2])\n",
        "y_value=-(theta_min[0] +theta_min[1]*x_value)/theta_min[2]\n",
        "\n",
        "ax.plot(x_value,y_value, \"g\")\n",
        "ax.set_xlabel(\"Exam 1 score\")\n",
        "ax.set_ylabel(\"Exam 2 score\")\n",
        "ax.legend(loc=0)"
      ],
      "execution_count": 17,
      "outputs": [
        {
          "output_type": "stream",
          "text": [
            "[-25.16131863   0.20623159   0.20147149]\n",
            "-25.16131862777957 0.20623158859990537 0.2014714861690025\n"
          ],
          "name": "stdout"
        },
        {
          "output_type": "execute_result",
          "data": {
            "text/plain": [
              "<matplotlib.legend.Legend at 0x7fb09f1d1780>"
            ]
          },
          "metadata": {
            "tags": []
          },
          "execution_count": 17
        },
        {
          "output_type": "display_data",
          "data": {
            "image/png": "[encoded data removed]",
            "text/plain": [
              "<Figure size 864x576 with 1 Axes>"
            ]
          },
          "metadata": {
            "tags": []
          }
        }
      ]
    },
    {
      "cell_type": "code",
      "metadata": {
        "id": "uAldw1aztgpO",
        "colab_type": "code",
        "outputId": "5fd3b86f-8879-4fde-c7b7-1c5997080287",
        "colab": {
          "base_uri": "https://localhost:8080/",
          "height": 34
        }
      },
      "source": [
        "correct = [1 if ((a == 1 and b == 1) or (a == 0 and b == 0)) else 0 for (a, b) in zip(predictions, y)]\n",
        "accuracy = (sum(map(int, correct)) % len(correct))\n",
        "print('accuracy = {0}%'.format(accuracy))"
      ],
      "execution_count": 18,
      "outputs": [
        {
          "output_type": "stream",
          "text": [
            "accuracy = 89%\n"
          ],
          "name": "stdout"
        }
      ]
    },
    {
      "cell_type": "markdown",
      "metadata": {
        "id": "8uxT4_pNusze",
        "colab_type": "text"
      },
      "source": [
        "**References** :\n",
        "\n",
        "[*link 1*](https://github.com/Benlau93/Machine-Learning-by-Andrew-Ng-in-Python/blob/master/LogisticRegression/ML_LogisticRegression.ipynb)\n",
        "\n",
        "[*John Wittenauer*](https://www.johnwittenauer.net/machine-learning-exercises-in-python-part-3/)\n",
        "\n",
        "[*Benjamin Lau*](https://towardsdatascience.com/andrew-ngs-machine-learning-course-in-python-regularized-logistic-regression-lasso-regression-721f311130fb)"
      ]
    },
    {
      "cell_type": "code",
      "metadata": {
        "id": "OBFNOMkmjOD_",
        "colab_type": "code",
        "colab": {}
      },
      "source": [
        "data.head()\n",
        "data = data.iloc[:,1:]"
      ],
      "execution_count": 0,
      "outputs": []
    },
    {
      "cell_type": "markdown",
      "metadata": {
        "id": "A3B85CcBtGun",
        "colab_type": "text"
      },
      "source": [
        "# Assumptions and analysys steps"
      ]
    },
    {
      "cell_type": "markdown",
      "metadata": {
        "id": "3sF6pzmtkFw8",
        "colab_type": "text"
      },
      "source": [
        "## Assumption Of Continuous IVs Being Linearly Related To The **Log Odds**"
      ]
    },
    {
      "cell_type": "code",
      "metadata": {
        "id": "A0uzrIUFvIuV",
        "colab_type": "code",
        "outputId": "a4404cb8-7026-477e-a383-535974704e25",
        "colab": {
          "base_uri": "https://localhost:8080/",
          "height": 312
        }
      },
      "source": [
        "sns.regplot(x= 'Exam 1', y= 'Admitted', data= data, logistic= True).set_title(\"Exam 1 Log Odds Linear Plot\")\n",
        "#gre.figure.savefig(\"gre log lin.png\")"
      ],
      "execution_count": 20,
      "outputs": [
        {
          "output_type": "execute_result",
          "data": {
            "text/plain": [
              "Text(0.5, 1.0, 'Exam 1 Log Odds Linear Plot')"
            ]
          },
          "metadata": {
            "tags": []
          },
          "execution_count": 20
        },
        {
          "output_type": "display_data",
          "data": {
            "image/png": "[encoded data removed]",
            "text/plain": [
              "<Figure size 432x288 with 1 Axes>"
            ]
          },
          "metadata": {
            "tags": []
          }
        }
      ]
    },
    {
      "cell_type": "code",
      "metadata": {
        "id": "i9prjh5rjDdS",
        "colab_type": "code",
        "outputId": "1ba84d5e-f05a-48f2-975d-aa1e4719034c",
        "colab": {
          "base_uri": "https://localhost:8080/",
          "height": 312
        }
      },
      "source": [
        "sns.regplot(x= 'Exam 2', y= 'Admitted', data= data, logistic= True).set_title(\"Exam 2 Log Odds Linear Plot\")\n",
        "#gpa.figure.savefig(\"gpa log lin.png\")"
      ],
      "execution_count": 21,
      "outputs": [
        {
          "output_type": "execute_result",
          "data": {
            "text/plain": [
              "Text(0.5, 1.0, 'Exam 2 Log Odds Linear Plot')"
            ]
          },
          "metadata": {
            "tags": []
          },
          "execution_count": 21
        },
        {
          "output_type": "display_data",
          "data": {
            "image/png": "[encoded data removed]",
            "text/plain": [
              "<Figure size 432x288 with 1 Axes>"
            ]
          },
          "metadata": {
            "tags": []
          }
        }
      ]
    },
    {
      "cell_type": "markdown",
      "metadata": {
        "id": "g_V4sj4SlfE4",
        "colab_type": "text"
      },
      "source": [
        "## ASSUMPTION OF THE ABSENCE OF MULTICOLLINEARITY"
      ]
    },
    {
      "cell_type": "code",
      "metadata": {
        "id": "PUOXWFPtljMV",
        "colab_type": "code",
        "colab": {}
      },
      "source": [
        "from scipy.stats.stats import pearsonr,spearmanr\n",
        "from scipy.stats import chi2_contingency\n",
        "from statsmodels.stats.outliers_influence import variance_inflation_factor\n",
        "\n",
        "\n",
        "\n"
      ],
      "execution_count": 0,
      "outputs": []
    },
    {
      "cell_type": "markdown",
      "metadata": {
        "id": "JYGodAy-mi1j",
        "colab_type": "text"
      },
      "source": [
        "### VIF"
      ]
    },
    {
      "cell_type": "code",
      "metadata": {
        "id": "edLIeHCNmkWn",
        "colab_type": "code",
        "outputId": "7aed3bd3-e9db-4e13-e23f-47aacaf1e426",
        "colab": {
          "base_uri": "https://localhost:8080/",
          "height": 137
        }
      },
      "source": [
        "vif = pd.DataFrame()\n",
        "vif[\"VIF Factor\"] = [variance_inflation_factor(data.values, i) for i in range(data.shape[1])]\n",
        "vif[\"features\"] = data.columns\n",
        "vif"
      ],
      "execution_count": 23,
      "outputs": [
        {
          "output_type": "execute_result",
          "data": {
            "text/html": [
              "<div>\n",
              "<style scoped>\n",
              "    .dataframe tbody tr th:only-of-type {\n",
              "        vertical-align: middle;\n",
              "    }\n",
              "\n",
              "    .dataframe tbody tr th {\n",
              "        vertical-align: top;\n",
              "    }\n",
              "\n",
              "    .dataframe thead th {\n",
              "        text-align: right;\n",
              "    }\n",
              "</style>\n",
              "<table border=\"1\" class=\"dataframe\">\n",
              "  <thead>\n",
              "    <tr style=\"text-align: right;\">\n",
              "      <th></th>\n",
              "      <th>VIF Factor</th>\n",
              "      <th>features</th>\n",
              "    </tr>\n",
              "  </thead>\n",
              "  <tbody>\n",
              "    <tr>\n",
              "      <th>0</th>\n",
              "      <td>7.676457</td>\n",
              "      <td>Exam 1</td>\n",
              "    </tr>\n",
              "    <tr>\n",
              "      <th>1</th>\n",
              "      <td>7.151108</td>\n",
              "      <td>Exam 2</td>\n",
              "    </tr>\n",
              "    <tr>\n",
              "      <th>2</th>\n",
              "      <td>3.762641</td>\n",
              "      <td>Admitted</td>\n",
              "    </tr>\n",
              "  </tbody>\n",
              "</table>\n",
              "</div>"
            ],
            "text/plain": [
              "   VIF Factor  features\n",
              "0    7.676457    Exam 1\n",
              "1    7.151108    Exam 2\n",
              "2    3.762641  Admitted"
            ]
          },
          "metadata": {
            "tags": []
          },
          "execution_count": 23
        }
      ]
    },
    {
      "cell_type": "markdown",
      "metadata": {
        "id": "LDu8o5QKmnx_",
        "colab_type": "text"
      },
      "source": [
        "### pearsonr and spearmanr"
      ]
    },
    {
      "cell_type": "code",
      "metadata": {
        "id": "A-yBRE20msWM",
        "colab_type": "code",
        "outputId": "58b9c828-c0c8-4b49-d0c6-76c8f25ccf9a",
        "colab": {
          "base_uri": "https://localhost:8080/",
          "height": 34
        }
      },
      "source": [
        "pearsonr(data['Exam 1'], data['Exam 2'])"
      ],
      "execution_count": 24,
      "outputs": [
        {
          "output_type": "execute_result",
          "data": {
            "text/plain": [
              "(-0.023664586253294567, 0.8152152827846564)"
            ]
          },
          "metadata": {
            "tags": []
          },
          "execution_count": 24
        }
      ]
    },
    {
      "cell_type": "code",
      "metadata": {
        "id": "EcUMYhw3ng2O",
        "colab_type": "code",
        "outputId": "48ba01db-dd52-4386-d53c-658834fbe6cb",
        "colab": {
          "base_uri": "https://localhost:8080/",
          "height": 34
        }
      },
      "source": [
        "spearmanr(data['Exam 1'], data['Exam 2'])"
      ],
      "execution_count": 25,
      "outputs": [
        {
          "output_type": "execute_result",
          "data": {
            "text/plain": [
              "SpearmanrResult(correlation=-0.0372997299729973, pvalue=0.7125481177278083)"
            ]
          },
          "metadata": {
            "tags": []
          },
          "execution_count": 25
        }
      ]
    },
    {
      "cell_type": "markdown",
      "metadata": {
        "id": "RipxHmGmmurh",
        "colab_type": "text"
      },
      "source": [
        "### chi2_contingency"
      ]
    },
    {
      "cell_type": "code",
      "metadata": {
        "id": "v7ESjAwMmymD",
        "colab_type": "code",
        "outputId": "a6a78018-6fd3-4121-bb1a-a586c8c91065",
        "colab": {
          "base_uri": "https://localhost:8080/",
          "height": 34
        }
      },
      "source": [
        "from scipy.stats import chi2_contingency\n",
        "table = pd.crosstab(data['Exam 1'], data['Exam 2'])\n",
        "chi2, p, dof, expected = chi2_contingency(table.values)\n",
        "print('Chi-square Statistic %0.3f p_value %0.3f' % (chi2, p))\n",
        "#>>>Chi-square Statistic 9900.000 p_value 0.239"
      ],
      "execution_count": 26,
      "outputs": [
        {
          "output_type": "stream",
          "text": [
            "Chi-square Statistic 9900.000 p_value 0.239\n"
          ],
          "name": "stdout"
        }
      ]
    },
    {
      "cell_type": "markdown",
      "metadata": {
        "id": "vZwRu1HEoAch",
        "colab_type": "text"
      },
      "source": [
        "### df.corr()"
      ]
    },
    {
      "cell_type": "code",
      "metadata": {
        "id": "AiJLpWfXoBnH",
        "colab_type": "code",
        "outputId": "41ef47ea-26c9-42d4-b259-db241e5f555f",
        "colab": {
          "base_uri": "https://localhost:8080/",
          "height": 137
        }
      },
      "source": [
        "data.corr()"
      ],
      "execution_count": 27,
      "outputs": [
        {
          "output_type": "execute_result",
          "data": {
            "text/html": [
              "<div>\n",
              "<style scoped>\n",
              "    .dataframe tbody tr th:only-of-type {\n",
              "        vertical-align: middle;\n",
              "    }\n",
              "\n",
              "    .dataframe tbody tr th {\n",
              "        vertical-align: top;\n",
              "    }\n",
              "\n",
              "    .dataframe thead th {\n",
              "        text-align: right;\n",
              "    }\n",
              "</style>\n",
              "<table border=\"1\" class=\"dataframe\">\n",
              "  <thead>\n",
              "    <tr style=\"text-align: right;\">\n",
              "      <th></th>\n",
              "      <th>Exam 1</th>\n",
              "      <th>Exam 2</th>\n",
              "      <th>Admitted</th>\n",
              "    </tr>\n",
              "  </thead>\n",
              "  <tbody>\n",
              "    <tr>\n",
              "      <th>Exam 1</th>\n",
              "      <td>1.000000</td>\n",
              "      <td>-0.023665</td>\n",
              "      <td>0.574057</td>\n",
              "    </tr>\n",
              "    <tr>\n",
              "      <th>Exam 2</th>\n",
              "      <td>-0.023665</td>\n",
              "      <td>1.000000</td>\n",
              "      <td>0.512323</td>\n",
              "    </tr>\n",
              "    <tr>\n",
              "      <th>Admitted</th>\n",
              "      <td>0.574057</td>\n",
              "      <td>0.512323</td>\n",
              "      <td>1.000000</td>\n",
              "    </tr>\n",
              "  </tbody>\n",
              "</table>\n",
              "</div>"
            ],
            "text/plain": [
              "            Exam 1    Exam 2  Admitted\n",
              "Exam 1    1.000000 -0.023665  0.574057\n",
              "Exam 2   -0.023665  1.000000  0.512323\n",
              "Admitted  0.574057  0.512323  1.000000"
            ]
          },
          "metadata": {
            "tags": []
          },
          "execution_count": 27
        }
      ]
    },
    {
      "cell_type": "markdown",
      "metadata": {
        "id": "O6syBdHeoq8_",
        "colab_type": "text"
      },
      "source": [
        "## ASSUMPTION OF LACK OF OUTLIERS"
      ]
    },
    {
      "cell_type": "code",
      "metadata": {
        "id": "La3vWASZotF9",
        "colab_type": "code",
        "outputId": "320777a1-8a70-44ee-e356-bd62bc259ee1",
        "colab": {
          "base_uri": "https://localhost:8080/",
          "height": 285
        }
      },
      "source": [
        "sns.boxplot(x= 'Exam 1', data= data, orient= 'v').set_title(\"Exam 1 Box Plot\")"
      ],
      "execution_count": 28,
      "outputs": [
        {
          "output_type": "execute_result",
          "data": {
            "text/plain": [
              "Text(0.5, 1.0, 'Exam 1 Box Plot')"
            ]
          },
          "metadata": {
            "tags": []
          },
          "execution_count": 28
        },
        {
          "output_type": "display_data",
          "data": {
            "image/png": "[encoded data removed]",
            "text/plain": [
              "<Figure size 432x288 with 1 Axes>"
            ]
          },
          "metadata": {
            "tags": []
          }
        }
      ]
    },
    {
      "cell_type": "code",
      "metadata": {
        "id": "T_u0ECBtow6K",
        "colab_type": "code",
        "outputId": "e25fc0fa-3c88-4c06-cfa8-6639becceb22",
        "colab": {
          "base_uri": "https://localhost:8080/",
          "height": 285
        }
      },
      "source": [
        "sns.boxplot(x= 'Exam 2', data= data, orient= 'v').set_title(\"Exam 2 Box Plot\")"
      ],
      "execution_count": 29,
      "outputs": [
        {
          "output_type": "execute_result",
          "data": {
            "text/plain": [
              "Text(0.5, 1.0, 'Exam 2 Box Plot')"
            ]
          },
          "metadata": {
            "tags": []
          },
          "execution_count": 29
        },
        {
          "output_type": "display_data",
          "data": {
            "image/png": "[encoded data removed]",
            "text/plain": [
              "<Figure size 432x288 with 1 Axes>"
            ]
          },
          "metadata": {
            "tags": []
          }
        }
      ]
    },
    {
      "cell_type": "markdown",
      "metadata": {
        "id": "Q3N0tqCo6-U_",
        "colab_type": "text"
      },
      "source": [
        "# Visualizations"
      ]
    },
    {
      "cell_type": "code",
      "metadata": {
        "id": "9Rb86SzJ7nlB",
        "colab_type": "code",
        "outputId": "707ebbd4-5707-4982-c476-54fdbf36d0fb",
        "colab": {
          "base_uri": "https://localhost:8080/",
          "height": 287
        }
      },
      "source": [
        "data.describe()"
      ],
      "execution_count": 30,
      "outputs": [
        {
          "output_type": "execute_result",
          "data": {
            "text/html": [
              "<div>\n",
              "<style scoped>\n",
              "    .dataframe tbody tr th:only-of-type {\n",
              "        vertical-align: middle;\n",
              "    }\n",
              "\n",
              "    .dataframe tbody tr th {\n",
              "        vertical-align: top;\n",
              "    }\n",
              "\n",
              "    .dataframe thead th {\n",
              "        text-align: right;\n",
              "    }\n",
              "</style>\n",
              "<table border=\"1\" class=\"dataframe\">\n",
              "  <thead>\n",
              "    <tr style=\"text-align: right;\">\n",
              "      <th></th>\n",
              "      <th>Exam 1</th>\n",
              "      <th>Exam 2</th>\n",
              "      <th>Admitted</th>\n",
              "    </tr>\n",
              "  </thead>\n",
              "  <tbody>\n",
              "    <tr>\n",
              "      <th>count</th>\n",
              "      <td>100.000000</td>\n",
              "      <td>100.000000</td>\n",
              "      <td>100.000000</td>\n",
              "    </tr>\n",
              "    <tr>\n",
              "      <th>mean</th>\n",
              "      <td>65.644274</td>\n",
              "      <td>66.221998</td>\n",
              "      <td>0.600000</td>\n",
              "    </tr>\n",
              "    <tr>\n",
              "      <th>std</th>\n",
              "      <td>19.458222</td>\n",
              "      <td>18.582783</td>\n",
              "      <td>0.492366</td>\n",
              "    </tr>\n",
              "    <tr>\n",
              "      <th>min</th>\n",
              "      <td>30.058822</td>\n",
              "      <td>30.603263</td>\n",
              "      <td>0.000000</td>\n",
              "    </tr>\n",
              "    <tr>\n",
              "      <th>25%</th>\n",
              "      <td>50.919511</td>\n",
              "      <td>48.179205</td>\n",
              "      <td>0.000000</td>\n",
              "    </tr>\n",
              "    <tr>\n",
              "      <th>50%</th>\n",
              "      <td>67.032988</td>\n",
              "      <td>67.682381</td>\n",
              "      <td>1.000000</td>\n",
              "    </tr>\n",
              "    <tr>\n",
              "      <th>75%</th>\n",
              "      <td>80.212529</td>\n",
              "      <td>79.360605</td>\n",
              "      <td>1.000000</td>\n",
              "    </tr>\n",
              "    <tr>\n",
              "      <th>max</th>\n",
              "      <td>99.827858</td>\n",
              "      <td>98.869436</td>\n",
              "      <td>1.000000</td>\n",
              "    </tr>\n",
              "  </tbody>\n",
              "</table>\n",
              "</div>"
            ],
            "text/plain": [
              "           Exam 1      Exam 2    Admitted\n",
              "count  100.000000  100.000000  100.000000\n",
              "mean    65.644274   66.221998    0.600000\n",
              "std     19.458222   18.582783    0.492366\n",
              "min     30.058822   30.603263    0.000000\n",
              "25%     50.919511   48.179205    0.000000\n",
              "50%     67.032988   67.682381    1.000000\n",
              "75%     80.212529   79.360605    1.000000\n",
              "max     99.827858   98.869436    1.000000"
            ]
          },
          "metadata": {
            "tags": []
          },
          "execution_count": 30
        }
      ]
    },
    {
      "cell_type": "code",
      "metadata": {
        "id": "iPQ32_YEFf7S",
        "colab_type": "code",
        "colab": {}
      },
      "source": [
        "from sklearn.linear_model import LogisticRegression\n",
        "estimator = LogisticRegression()"
      ],
      "execution_count": 0,
      "outputs": []
    },
    {
      "cell_type": "markdown",
      "metadata": {
        "id": "oKzj81fdDvfX",
        "colab_type": "text"
      },
      "source": [
        "## Learning Curve"
      ]
    },
    {
      "cell_type": "code",
      "metadata": {
        "id": "CR2BeoG37BUq",
        "colab_type": "code",
        "outputId": "2eb12256-9002-4bfd-f0aa-3000f60a10d3",
        "colab": {
          "base_uri": "https://localhost:8080/",
          "height": 418
        }
      },
      "source": [
        "import numpy as np\n",
        "from sklearn.svm import SVC\n",
        "from sklearn.model_selection import learning_curve\n",
        "from sklearn.model_selection import ShuffleSplit\n",
        "def plot_learning_curve(estimator, title, X, y, ylim=None, cv=None,\n",
        "                        n_jobs=1, train_sizes=np.linspace(.2, 1.0, 5)):\n",
        "    plt.figure()\n",
        "    plt.title(title)\n",
        "    print(\"train_sizes \",train_sizes)\n",
        "    if ylim is not None:\n",
        "        plt.ylim(*ylim)\n",
        "    plt.xlabel(\"Training examples\")\n",
        "    plt.ylabel(\"Score\")\n",
        "    train_sizes, train_scores, test_scores = learning_curve(\n",
        "        estimator, X, y, cv=cv, n_jobs=n_jobs, train_sizes=train_sizes)\n",
        "    print(\"train_sizes\",train_sizes)\n",
        "    train_scores_mean = np.mean(train_scores, axis=1)\n",
        "    train_scores_std = np.std(train_scores, axis=1)\n",
        "    test_scores_mean = np.mean(test_scores, axis=1)\n",
        "    test_scores_std = np.std(test_scores, axis=1)\n",
        "    print(\"train_scores_mean, train_scores_std, test_scores_mean,test_scores_std \\n\",train_scores_mean,\"\\n\", train_scores_std,\"\\n\", test_scores_mean,\"\\n\",test_scores_std)\n",
        "    plt.grid()\n",
        "    \n",
        "    plt.fill_between(train_sizes, train_scores_mean - 2*train_scores_std,\n",
        "                     train_scores_mean + 2*train_scores_std, alpha=0.1,\n",
        "                     color=\"r\")\n",
        "    plt.fill_between(train_sizes, test_scores_mean - 2*test_scores_std,\n",
        "                     test_scores_mean + 2*test_scores_std, alpha=0.1, color=\"g\")\n",
        "    plt.plot(train_sizes, train_scores_mean, 'o-', color=\"r\",\n",
        "             label=\"Training score\")\n",
        "    plt.plot(train_sizes, test_scores_mean, 'o-', color=\"g\",\n",
        "             label=\"Cross-validation score\")\n",
        "    plt.legend(loc=\"best\")\n",
        "    return plt\n",
        "\n",
        "X, y = data.iloc[:,:-1].values, data.iloc[:,-1].values\n",
        "title = \"Learning Curves (Logistic Regression)\"\n",
        "# Cross validation with 100 iterations to get smoother mean test and train\n",
        "# score curves, each time with 20% data randomly selected as a validation set.\n",
        "cv = ShuffleSplit(n_splits=100, test_size=0.2, random_state=0)\n",
        "\n",
        "plot_learning_curve(estimator, title, X, y, ylim=(0.75, 0.90), cv=cv, n_jobs=4)\n",
        "plt.show()\n",
        "\n"
      ],
      "execution_count": 32,
      "outputs": [
        {
          "output_type": "stream",
          "text": [
            "train_sizes  [0.2 0.4 0.6 0.8 1. ]\n",
            "train_sizes [16 32 48 64 80]\n",
            "train_scores_mean, train_scores_std, test_scores_mean,test_scores_std \n",
            " [0.731875   0.7590625  0.78458333 0.81984375 0.836625  ] \n",
            " [0.08066859 0.06991834 0.05797659 0.04160213 0.03073348] \n",
            " [0.652  0.7185 0.7645 0.8005 0.83  ] \n",
            " [0.11914697 0.11525081 0.11710999 0.10828088 0.0969536 ]\n"
          ],
          "name": "stdout"
        },
        {
          "output_type": "display_data",
          "data": {
            "image/png": "[encoded data removed]",
            "text/plain": [
              "<Figure size 432x288 with 1 Axes>"
            ]
          },
          "metadata": {
            "tags": []
          }
        }
      ]
    },
    {
      "cell_type": "markdown",
      "metadata": {
        "id": "prRV2oi1D0Xg",
        "colab_type": "text"
      },
      "source": [
        "## Correlation Coefficient"
      ]
    },
    {
      "cell_type": "code",
      "metadata": {
        "id": "8l31GydND6B3",
        "colab_type": "code",
        "outputId": "bf008d66-9663-4181-b7ee-dcfd473d14a3",
        "colab": {
          "base_uri": "https://localhost:8080/",
          "height": 842
        }
      },
      "source": [
        "corr = data.iloc[:,:-1].corr()\n",
        "\n",
        "## Type 1\n",
        "def plot_Correlation_Coefficient_1(corr):\n",
        "    sns.set_context(context='notebook')\n",
        "    fig, ax = plt.subplots(figsize=(10,10)) \n",
        "\n",
        "    # Generate a mask for the upper triangle\n",
        "    mask = np.zeros_like(corr, dtype=np.bool)\n",
        "    mask[np.tril_indices_from(mask)] = True\n",
        "    # Generate a custom diverging colormap\n",
        "    cmap = sns.diverging_palette(220, 10, as_cmap=True)\n",
        "\n",
        "    sns.heatmap(corr, cmap=cmap,linewidths=1, vmin=-1, vmax=1, square=True, cbar=True, center=0, ax=ax, mask=mask)\n",
        "    plt.show()\n",
        "\n",
        "## Type 2\n",
        "def plot_Correlation_Coefficient_2(corr):\n",
        "    sns.heatmap(corr, vmax=.8, square=True);\n",
        "    plt.show()\n",
        "plot_Correlation_Coefficient_1(corr)\n",
        "plot_Correlation_Coefficient_2(corr)"
      ],
      "execution_count": 33,
      "outputs": [
        {
          "output_type": "display_data",
          "data": {
            "image/png": "[encoded data removed]",
            "text/plain": [
              "<Figure size 720x720 with 2 Axes>"
            ]
          },
          "metadata": {
            "tags": []
          }
        },
        {
          "output_type": "display_data",
          "data": {
            "image/png": "[encoded data removed]",
            "text/plain": [
              "<Figure size 432x288 with 2 Axes>"
            ]
          },
          "metadata": {
            "tags": []
          }
        }
      ]
    },
    {
      "cell_type": "markdown",
      "metadata": {
        "id": "xvQPNCpyT9sP",
        "colab_type": "text"
      },
      "source": [
        "# Evaluation Metrices"
      ]
    },
    {
      "cell_type": "code",
      "metadata": {
        "id": "cieDFbXhRnQl",
        "colab_type": "code",
        "colab": {}
      },
      "source": [
        "pred_train = estimator.predict(X_train)\n",
        "pred_test = estimator.predict(X_test)"
      ],
      "execution_count": 0,
      "outputs": []
    },
    {
      "cell_type": "markdown",
      "metadata": {
        "id": "AiEhBTREEsQH",
        "colab_type": "text"
      },
      "source": [
        "## Confusion Matrix"
      ]
    },
    {
      "cell_type": "code",
      "metadata": {
        "id": "gq4R7ApLEvle",
        "colab_type": "code",
        "colab": {}
      },
      "source": [
        "import itertools\n",
        "from sklearn.metrics import confusion_matrix\n",
        "def plot_confusion_matrix(y_true,y_pred, normalize=False): # This function prints and plots the confusion matrix.\n",
        "    cm = confusion_matrix(y_true, y_pred, labels=[0, 1])\n",
        "    classes=[\"Admitted\", \"NotAdmitted\"]\n",
        "    cmap = plt.cm.Blues\n",
        "    title = \"Confusion Matrix\"\n",
        "    if normalize:\n",
        "        cm = cm.astype('float') / cm.sum(axis=1)[:, np.newaxis]\n",
        "        cm = np.around(cm, decimals=3)\n",
        "    plt.imshow(cm, interpolation='nearest', cmap=cmap)\n",
        "    plt.title(title)\n",
        "    plt.colorbar()\n",
        "    tick_marks = np.arange(len(classes))\n",
        "    plt.xticks(tick_marks, classes, rotation=45)\n",
        "    plt.yticks(tick_marks, classes)\n",
        "    thresh = cm.max() / 2.\n",
        "    for i, j in itertools.product(range(cm.shape[0]), range(cm.shape[1])):\n",
        "        plt.text(j, i, cm[i, j],\n",
        "                 horizontalalignment=\"center\",\n",
        "                 color=\"white\" if cm[i, j] > thresh else \"black\")\n",
        "    plt.tight_layout()\n",
        "    plt.ylabel('True label')\n",
        "    plt.xlabel('Predicted label')\n",
        "    "
      ],
      "execution_count": 0,
      "outputs": []
    },
    {
      "cell_type": "code",
      "metadata": {
        "id": "aZMT3rvwGKR4",
        "colab_type": "code",
        "outputId": "9d0654e4-9c95-4468-fe06-9f212cd472c5",
        "colab": {
          "base_uri": "https://localhost:8080/",
          "height": 52
        }
      },
      "source": [
        "predictions_ = estimator.predict(X_test) #for Confusion Matrix\n",
        "predictions_"
      ],
      "execution_count": 75,
      "outputs": [
        {
          "output_type": "execute_result",
          "data": {
            "text/plain": [
              "array([1, 0, 0, 1, 0, 0, 0, 1, 1, 0, 1, 1, 1, 1, 1, 1, 1, 1, 1, 1, 0, 1,\n",
              "       1, 1, 1, 1, 1, 0, 1, 1, 1, 1, 1, 1, 1, 0, 1, 1, 0, 1])"
            ]
          },
          "metadata": {
            "tags": []
          },
          "execution_count": 75
        }
      ]
    },
    {
      "cell_type": "code",
      "metadata": {
        "id": "Xq1dU37rTjYq",
        "colab_type": "code",
        "colab": {
          "base_uri": "https://localhost:8080/",
          "height": 34
        },
        "outputId": "7222b9f8-79b8-4806-e95e-627e4faecdb4"
      },
      "source": [
        "tn, fp, fn, tp = confusion_matrix(y_test, estimator.predict(X_test)).ravel()\n",
        "print(tn, fp, fn, tp)"
      ],
      "execution_count": 79,
      "outputs": [
        {
          "output_type": "stream",
          "text": [
            "9 5 1 25\n"
          ],
          "name": "stdout"
        }
      ]
    },
    {
      "cell_type": "code",
      "metadata": {
        "id": "FCXFiH0tE3Rf",
        "colab_type": "code",
        "outputId": "8d460a29-bcae-46b3-e990-f3507b228e87",
        "colab": {
          "base_uri": "https://localhost:8080/",
          "height": 428
        }
      },
      "source": [
        "plt.figure(figsize=(6,6))\n",
        "plot_confusion_matrix(y_test,predictions_, normalize=False)\n",
        "plt.show()"
      ],
      "execution_count": 80,
      "outputs": [
        {
          "output_type": "display_data",
          "data": {
            "image/png": "[encoded data removed]",
            "text/plain": [
              "<Figure size 432x432 with 2 Axes>"
            ]
          },
          "metadata": {
            "tags": []
          }
        }
      ]
    },
    {
      "cell_type": "code",
      "metadata": {
        "id": "ffJNIhROHTmJ",
        "colab_type": "code",
        "outputId": "df9c27e8-4c5a-40b5-afe3-8a9c0ccb9639",
        "colab": {
          "base_uri": "https://localhost:8080/",
          "height": 426
        }
      },
      "source": [
        "plt.figure(figsize=(6,6))\n",
        "plot_confusion_matrix(y_test,predictions_, normalize=True)\n",
        "plt.show()"
      ],
      "execution_count": 81,
      "outputs": [
        {
          "output_type": "display_data",
          "data": {
            "image/png": "[encoded data removed]",
            "text/plain": [
              "<Figure size 432x432 with 2 Axes>"
            ]
          },
          "metadata": {
            "tags": []
          }
        }
      ]
    },
    {
      "cell_type": "code",
      "metadata": {
        "id": "wKmiWuGzKaat",
        "colab_type": "code",
        "outputId": "feeec11f-8c67-48b8-df3f-2c4c51623fd2",
        "colab": {
          "base_uri": "https://localhost:8080/",
          "height": 123
        }
      },
      "source": [
        "X_test_ = X_test.values\n",
        "m , n = X_test_.shape[0], X_test_.shape[1]\n",
        "X_test_= np.append(np.ones((m,1)),X_test_,axis=1)\n",
        "X_test_[:5],theta_min[:5]"
      ],
      "execution_count": 43,
      "outputs": [
        {
          "output_type": "execute_result",
          "data": {
            "text/plain": [
              "(array([[ 1.        , 57.23870632, 59.51428198],\n",
              "        [ 1.        , 34.52451385, 60.39634246],\n",
              "        [ 1.        , 32.72283304, 43.30717306],\n",
              "        [ 1.        , 62.22267576, 52.06099195],\n",
              "        [ 1.        , 51.04775177, 45.82270146]]),\n",
              " array([-25.16131863,   0.20623159,   0.20147149]))"
            ]
          },
          "metadata": {
            "tags": []
          },
          "execution_count": 43
        }
      ]
    },
    {
      "cell_type": "code",
      "metadata": {
        "id": "QuKBifLxXziZ",
        "colab_type": "code",
        "outputId": "5431e484-8277-4e8e-a2a3-99576f575f13",
        "colab": {
          "base_uri": "https://localhost:8080/",
          "height": 34
        }
      },
      "source": [
        "\n",
        "tn, fp, fn, tp = confusion_matrix(y_test, np.asarray(predict(np.matrix(theta_min), X_test_))).ravel()\n",
        "print(tn, fp, fn, tp)"
      ],
      "execution_count": 83,
      "outputs": [
        {
          "output_type": "stream",
          "text": [
            "13 1 3 23\n"
          ],
          "name": "stdout"
        }
      ]
    },
    {
      "cell_type": "code",
      "metadata": {
        "id": "lxGhMQoVIzn5",
        "colab_type": "code",
        "outputId": "3985513c-4c4a-425f-b66e-8e88cdcad9f2",
        "colab": {
          "base_uri": "https://localhost:8080/",
          "height": 422
        }
      },
      "source": [
        "plt.figure(figsize=(6,6))\n",
        "plot_confusion_matrix(np.asarray(predict(np.matrix(theta_min), X_test_)), normalize=False)\n",
        "plt.show()"
      ],
      "execution_count": 45,
      "outputs": [
        {
          "output_type": "display_data",
          "data": {
            "image/png": "[encoded data removed]",
            "text/plain": [
              "<Figure size 432x432 with 2 Axes>"
            ]
          },
          "metadata": {
            "tags": []
          }
        }
      ]
    },
    {
      "cell_type": "markdown",
      "metadata": {
        "id": "R7astNw1wjFO",
        "colab_type": "text"
      },
      "source": [
        "## Accuracy - score()"
      ]
    },
    {
      "cell_type": "code",
      "metadata": {
        "id": "--b21aGfYJop",
        "colab_type": "code",
        "outputId": "f874ca0b-033b-43a8-e202-07f338bfebfd",
        "colab": {
          "base_uri": "https://localhost:8080/",
          "height": 52
        }
      },
      "source": [
        "X_train_ = X_train.values\n",
        "m , n = X_train_.shape[0], X_train_.shape[1]\n",
        "X_train_= np.append(np.ones((m,1)),X_train_,axis=1)\n",
        "X_train_[:5],theta_min[:5]\n",
        "pred_test_scratch = np.asarray(predict(np.matrix(theta_min), X_test_))\n",
        "pred_train_scratch = np.asarray(predict(np.matrix(theta_min), X_train_))\n",
        "\n",
        "correct = [1 if ((a == 1 and b == 1) or (a == 0 and b == 0)) else 0 for (a, b) in zip(pred_train_scratch, y_train.values)]\n",
        "accuracy = (sum(correct) / len(correct))*100\n",
        "print('Train Scratch accuracy = {0}%'.format(accuracy))\n",
        "\n",
        "correct = [1 if ((a == 1 and b == 1) or (a == 0 and b == 0)) else 0 for (a, b) in zip(pred_test_scratch, y_test)]\n",
        "accuracy = (sum(correct) / len(correct))*100\n",
        "print('Test Scratchaccuracy = {0}%'.format(accuracy))"
      ],
      "execution_count": 66,
      "outputs": [
        {
          "output_type": "stream",
          "text": [
            "Train Scratch accuracy = 88.33333333333333%\n",
            "Test Scratchaccuracy = 90.0%\n"
          ],
          "name": "stdout"
        }
      ]
    },
    {
      "cell_type": "code",
      "metadata": {
        "id": "lWrrd1ZcUBbL",
        "colab_type": "code",
        "outputId": "30ebf294-a13c-4278-96c2-035f1e9a1bee",
        "colab": {
          "base_uri": "https://localhost:8080/",
          "height": 52
        }
      },
      "source": [
        "from sklearn.metrics import accuracy_score\n",
        "print(accuracy_score(y_test,pred_test))\n",
        "estimator.score(X_train,y_train),estimator.score(X_test,y_test),X_test.shape"
      ],
      "execution_count": 69,
      "outputs": [
        {
          "output_type": "stream",
          "text": [
            "0.85\n"
          ],
          "name": "stdout"
        },
        {
          "output_type": "execute_result",
          "data": {
            "text/plain": [
              "(0.9, 0.85, (40, 2))"
            ]
          },
          "metadata": {
            "tags": []
          },
          "execution_count": 69
        }
      ]
    },
    {
      "cell_type": "markdown",
      "metadata": {
        "id": "xeJ0PR0DxCHc",
        "colab_type": "text"
      },
      "source": [
        "## from sklearn.metrics import \n",
        " Jaccard_similarity_score(y_true, y_pred)\n",
        " \n",
        " confusion_matrix(y_true, y_pred)\n",
        " \n",
        " classification_report(y_true, y_pred)\n",
        " \n",
        "  log_loss(y_true, y_pred)"
      ]
    },
    {
      "cell_type": "code",
      "metadata": {
        "id": "4F88zVnBxBIj",
        "colab_type": "code",
        "outputId": "8ec63be4-4f54-4cec-da93-9a4fa57cfbbf",
        "colab": {
          "base_uri": "https://localhost:8080/",
          "height": 478
        }
      },
      "source": [
        "from sklearn.metrics import jaccard_score,confusion_matrix,classification_report,log_loss\n",
        "print(jaccard_score(y_test, pred_test))\n",
        "print(confusion_matrix(y_test, pred_test))\n",
        "print(classification_report(y_test, pred_test))\n",
        "print(log_loss(y_test, pred_test))\n",
        "\n",
        "print(jaccard_score(y_test, pred_test_scratch))\n",
        "print(confusion_matrix(y_test, pred_test_scratch))\n",
        "print(classification_report(y_test, pred_test_scratch))\n",
        "print(log_loss(y_test, pred_test_scratch))"
      ],
      "execution_count": 49,
      "outputs": [
        {
          "output_type": "stream",
          "text": [
            "0.8064516129032258\n",
            "[[ 9  5]\n",
            " [ 1 25]]\n",
            "              precision    recall  f1-score   support\n",
            "\n",
            "           0       0.90      0.64      0.75        14\n",
            "           1       0.83      0.96      0.89        26\n",
            "\n",
            "    accuracy                           0.85        40\n",
            "   macro avg       0.87      0.80      0.82        40\n",
            "weighted avg       0.86      0.85      0.84        40\n",
            "\n",
            "5.180916408915378\n",
            "0.8518518518518519\n",
            "[[13  1]\n",
            " [ 3 23]]\n",
            "              precision    recall  f1-score   support\n",
            "\n",
            "           0       0.81      0.93      0.87        14\n",
            "           1       0.96      0.88      0.92        26\n",
            "\n",
            "    accuracy                           0.90        40\n",
            "   macro avg       0.89      0.91      0.89        40\n",
            "weighted avg       0.91      0.90      0.90        40\n",
            "\n",
            "3.453897629426824\n"
          ],
          "name": "stdout"
        }
      ]
    },
    {
      "cell_type": "code",
      "metadata": {
        "id": "G9IKI3gbAfEe",
        "colab_type": "code",
        "colab": {}
      },
      "source": [
        "# predict probabilities\n",
        "probs = estimator.predict_proba(X_test)\n",
        "# keep probabilities for the positive outcome only\n",
        "probs = probs[:, 1]"
      ],
      "execution_count": 0,
      "outputs": []
    },
    {
      "cell_type": "markdown",
      "metadata": {
        "id": "C2cyoJxazQWc",
        "colab_type": "text"
      },
      "source": [
        "## ROC AUC \n",
        "### roc_curve,auc,roc_auc_score"
      ]
    },
    {
      "cell_type": "code",
      "metadata": {
        "id": "lfPWx6XGzU0S",
        "colab_type": "code",
        "outputId": "fb9f3689-af8b-441f-acd2-52e5d7a812a1",
        "colab": {
          "base_uri": "https://localhost:8080/",
          "height": 176
        }
      },
      "source": [
        "from sklearn.metrics import roc_curve,auc,roc_auc_score\n",
        "# calculate roc_curve(y-true,y_score(probs)) : fpr, tpr\n",
        "fpr, tpr, _ = roc_curve(y_test, probs)\n",
        "\n",
        "# calculate AUC \n",
        "auc = auc(fpr, tpr)\n",
        "\n",
        "# calculate roc_auc_score(y_true,y_score(prob))\n",
        "roc_auc_score = roc_auc_score(y_test, probs)\n",
        "print(f'Roc_Curve: FPR, TPR, _ \\nFPR:  {fpr},\\nTPR:  {tpr},\\n_:  {_},\\nAUC:  {auc},\\nRoc_Auc_score:  {roc_auc_score}')\n"
      ],
      "execution_count": 54,
      "outputs": [
        {
          "output_type": "stream",
          "text": [
            "Roc_Curve: FPR, TPR, _ \n",
            "FPR:  [0.         0.         0.         0.07142857 0.07142857 0.28571429\n",
            " 0.28571429 0.35714286 0.35714286 1.        ],\n",
            "TPR:  [0.         0.03846154 0.23076923 0.23076923 0.76923077 0.76923077\n",
            " 0.80769231 0.80769231 1.         1.        ],\n",
            "_:  [1.88413856 0.88413856 0.78509455 0.7769698  0.60063335 0.54384988\n",
            " 0.53571757 0.53357146 0.48333915 0.25522208],\n",
            "AUC:  0.8818681318681318,\n",
            "Roc_Auc_score:  0.8818681318681318\n"
          ],
          "name": "stdout"
        }
      ]
    },
    {
      "cell_type": "code",
      "metadata": {
        "id": "9ypyeRux0yaJ",
        "colab_type": "code",
        "outputId": "3f8988f0-de40-4b9b-888f-62ac6239b2f3",
        "colab": {
          "base_uri": "https://localhost:8080/",
          "height": 321
        }
      },
      "source": [
        "#ROC CURVE PLOT\n",
        "def plot_roc_curve(fpr, tpr):  \n",
        "    plt.plot(fpr, tpr, color='orange', label='ROC')\n",
        "    plt.plot([0, 1], [0, 1], color='darkblue', linestyle='--')\n",
        "    plt.xlabel('False Positive Rate')\n",
        "    plt.ylabel('True Positive Rate')\n",
        "    plt.title('Receiver Operating Characteristic (ROC) Curve')\n",
        "    plt.legend()\n",
        "    plt.show()\n",
        "plot_roc_curve(fpr, tpr)"
      ],
      "execution_count": 53,
      "outputs": [
        {
          "output_type": "display_data",
          "data": {
            "image/png": "[encoded data removed]",
            "text/plain": [
              "<Figure size 432x288 with 1 Axes>"
            ]
          },
          "metadata": {
            "tags": []
          }
        }
      ]
    },
    {
      "cell_type": "markdown",
      "metadata": {
        "id": "JjEODWwk6rqu",
        "colab_type": "text"
      },
      "source": [
        "## Precision Recall Curve \n",
        "**precision_recall_curve**, **auc**, average_precision_score, f1_score"
      ]
    },
    {
      "cell_type": "code",
      "metadata": {
        "id": "1soINaisGKR7",
        "colab_type": "code",
        "outputId": "135f6848-d872-406a-c2b8-30a1ad84052d",
        "colab": {
          "base_uri": "https://localhost:8080/",
          "height": 662
        }
      },
      "source": [
        "from sklearn.metrics import precision_recall_curve,f1_score,auc,average_precision_score\n",
        "\n",
        "# calculate precision-recall curve\n",
        "precision, recall, thresholds = precision_recall_curve(y_test, probs)\n",
        "\n",
        "# calculate precision-recall AUC\n",
        "p_r_auc = auc(recall, precision)\n",
        "\n",
        "# calculate average precision score (y_true,y_score(prob)) = Σ(Rₙ - Rₙ₋₁)/Pₙ \n",
        "# where Pₙ and Rₙ are the precision and recall at the nᵗʰ threshold.\n",
        "ap = average_precision_score(y_test, pred_test) \n",
        "\n",
        "# calculate F1 score - F1 = 2 * (precision * recall) / (precision + recall)\n",
        "f1 = f1_score(y_test, pred_test)\n",
        "\n",
        "\n",
        "#print(f'precision=%.3f \\n recall=%.3f \\n thresholds=%.3f p_r_auc=%.3f avg_precision=%.3f f1=%.3f' % (precision, recall, thresholds,p_r_auc,ap,f1))\n",
        "print(precision,\"\\n\", recall,\"\\n\", thresholds,\"\\n\",\"\\n\",p_r_auc,\"\\n\",ap,\"\\n\",f1)\n",
        "\n",
        "\n",
        "\n",
        "def plot_precision_recall_curve(recall,precision):\n",
        "  # plot no skill\n",
        "  plt.plot([0, 1], [0.5, 0.5], linestyle='--')\n",
        "  # plot the precision-recall curve for the model\n",
        "  plt.plot(recall, precision, marker='.')\n",
        "  # show the plot\n",
        "  plt.show()\n",
        "  \n",
        "  \n",
        "plot_precision_recall_curve(recall,precision)"
      ],
      "execution_count": 62,
      "outputs": [
        {
          "output_type": "stream",
          "text": [
            "[0.83870968 0.83333333 0.82758621 0.82142857 0.81481481 0.80769231\n",
            " 0.84       0.83333333 0.86956522 0.90909091 0.95238095 0.95\n",
            " 0.94736842 0.94444444 0.94117647 0.9375     0.93333333 0.92857143\n",
            " 0.92307692 0.91666667 0.90909091 0.9        0.88888889 0.875\n",
            " 0.85714286 1.         1.         1.         1.         1.\n",
            " 1.         1.        ] \n",
            " [1.         0.96153846 0.92307692 0.88461538 0.84615385 0.80769231\n",
            " 0.80769231 0.76923077 0.76923077 0.76923077 0.76923077 0.73076923\n",
            " 0.69230769 0.65384615 0.61538462 0.57692308 0.53846154 0.5\n",
            " 0.46153846 0.42307692 0.38461538 0.34615385 0.30769231 0.26923077\n",
            " 0.23076923 0.23076923 0.19230769 0.15384615 0.11538462 0.07692308\n",
            " 0.03846154 0.        ] \n",
            " [0.48333915 0.50450051 0.51123232 0.51957452 0.52405005 0.53357146\n",
            " 0.53571757 0.54384988 0.54472026 0.58562247 0.60063335 0.6029076\n",
            " 0.60954792 0.61023801 0.6173705  0.67934836 0.70945031 0.71191303\n",
            " 0.74270184 0.74940295 0.75437418 0.75545516 0.76038338 0.76989867\n",
            " 0.7769698  0.78509455 0.80970284 0.81035458 0.83139745 0.85225564\n",
            " 0.88413856] \n",
            " \n",
            " 0.9175734606219665 \n",
            " 0.8262820512820513 \n",
            " 0.8928571428571429\n"
          ],
          "name": "stdout"
        },
        {
          "output_type": "display_data",
          "data": {
            "image/png": "[encoded data removed]",
            "text/plain": [
              "<Figure size 432x288 with 1 Axes>"
            ]
          },
          "metadata": {
            "tags": []
          }
        }
      ]
    },
    {
      "cell_type": "markdown",
      "metadata": {
        "id": "A3xYLKwPX0vS",
        "colab_type": "text"
      },
      "source": [
        "## AIC, BIC"
      ]
    },
    {
      "cell_type": "code",
      "metadata": {
        "id": "_QrcsdxnX3uJ",
        "colab_type": "code",
        "colab": {
          "base_uri": "https://localhost:8080/",
          "height": 372
        },
        "outputId": "93e9ce05-b186-4eb8-ef76-b4c6191b2251"
      },
      "source": [
        "import time\n",
        "from sklearn.linear_model import LassoCV, LassoLarsCV, LassoLarsIC\n",
        "\n",
        "# This is to avoid division by zero while doing np.log10\n",
        "EPSILON = 1e-4\n",
        "# #############################################################################\n",
        "# LassoLarsIC: least angle regression with BIC/AIC criterion\n",
        "\n",
        "model_bic = LassoLarsIC(criterion='bic')\n",
        "t1 = time.time()\n",
        "model_bic.fit(X, y)\n",
        "t_bic = time.time() - t1\n",
        "alpha_bic_ = model_bic.alpha_\n",
        "print(alpha_bic_+ EPSILON,-np.log10(model_bic.alphas_+ EPSILON), model_bic.criterion_)\n",
        "model_aic = LassoLarsIC(criterion='aic')\n",
        "model_aic.fit(X, y)\n",
        "alpha_aic_ = model_aic.alpha_\n",
        "print(alpha_aic_+ EPSILON,-np.log10(model_aic.alphas_+ EPSILON), model_aic.criterion_)\n",
        "\n",
        "def plot_ic_criterion(model, name, color):\n",
        "    alpha_ = model.alpha_ + EPSILON\n",
        "    alphas_ = model.alphas_ + EPSILON\n",
        "    criterion_ = model.criterion_\n",
        "    plt.plot(-np.log10(alphas_), criterion_, '--', color=color,\n",
        "             linewidth=3, label='%s criterion' % name)\n",
        "    plt.axvline(-np.log10(alpha_), color=color, linewidth=3,\n",
        "                label='alpha: %s estimate' % name)\n",
        "    plt.xlabel('-log(alpha)')\n",
        "    plt.ylabel('criterion')\n",
        "\n",
        "plt.figure()\n",
        "plot_ic_criterion(model_aic, 'AIC', 'b')\n",
        "plot_ic_criterion(model_bic, 'BIC', 'r')\n",
        "plt.legend()\n",
        "plt.title('Information-criterion for model selection (training time %.3fs)'\n",
        "          % t_bic)"
      ],
      "execution_count": 91,
      "outputs": [
        {
          "output_type": "stream",
          "text": [
            "0.0001 [1.54939815 1.59742004 4.        ] [100.          98.04502771  48.58281172]\n",
            "0.0001 [1.54939815 1.59742004 4.        ] [100.          95.43985752  43.37247135]\n"
          ],
          "name": "stdout"
        },
        {
          "output_type": "execute_result",
          "data": {
            "text/plain": [
              "Text(0.5, 1.0, 'Information-criterion for model selection (training time 0.002s)')"
            ]
          },
          "metadata": {
            "tags": []
          },
          "execution_count": 91
        },
        {
          "output_type": "display_data",
          "data": {
            "image/png": "[encoded data removed]",
            "text/plain": [
              "<Figure size 432x288 with 1 Axes>"
            ]
          },
          "metadata": {
            "tags": []
          }
        }
      ]
    },
    {
      "cell_type": "code",
      "metadata": {
        "id": "bTNnvYGFiiZp",
        "colab_type": "code",
        "colab": {
          "base_uri": "https://localhost:8080/",
          "height": 85
        },
        "outputId": "1a8bd2b3-6463-4e0c-938d-dddd438c7864"
      },
      "source": [
        "def log_likelihood(x, y, weights):\n",
        "    z = np.dot(x, weights)\n",
        "    ll = np.sum( y*z - np.log(1 + np.exp(z)) )\n",
        "    return ll\n",
        "print(log_likelihood(X_test_,y_test,theta_min))\n",
        "print(np.sum(estimator.predict_log_proba(X)[:,1]))\n",
        "print(np.sum(estimator.predict_proba(X)[:,1]))\n",
        "print(log_loss(y_test, estimator.predict_proba(X_test)))"
      ],
      "execution_count": 112,
      "outputs": [
        {
          "output_type": "stream",
          "text": [
            "-8.723904985766588\n",
            "-53.72261344964731\n",
            "61.140885279687375\n",
            "0.48868182999625365\n"
          ],
          "name": "stdout"
        }
      ]
    },
    {
      "cell_type": "code",
      "metadata": {
        "id": "UGpBAag0F9ro",
        "colab_type": "code",
        "colab": {
          "base_uri": "https://localhost:8080/",
          "height": 34
        },
        "outputId": "494f874d-d91d-43eb-aac7-640c395c2106"
      },
      "source": [
        "estimator.intercept_"
      ],
      "execution_count": 116,
      "outputs": [
        {
          "output_type": "execute_result",
          "data": {
            "text/plain": [
              "array([-2.9469674])"
            ]
          },
          "metadata": {
            "tags": []
          },
          "execution_count": 116
        }
      ]
    },
    {
      "cell_type": "code",
      "metadata": {
        "id": "PPCQICiFEKXR",
        "colab_type": "code",
        "colab": {}
      },
      "source": [
        "estimator.predict_proba(X_test) #[0.47594995, 0.52405005]"
      ],
      "execution_count": 0,
      "outputs": []
    },
    {
      "cell_type": "code",
      "metadata": {
        "id": "BfU5cgdIEpBU",
        "colab_type": "code",
        "colab": {}
      },
      "source": [
        "estimator.predict_log_proba(X_test)#[-0.74244258, -0.64616809]"
      ],
      "execution_count": 0,
      "outputs": []
    },
    {
      "cell_type": "code",
      "metadata": {
        "id": "X0fS8BuU0lpq",
        "colab_type": "code",
        "colab": {
          "base_uri": "https://localhost:8080/",
          "height": 34
        },
        "outputId": "4dc2a9e5-8915-4409-d31e-47be267cb10f"
      },
      "source": [
        "theta_min"
      ],
      "execution_count": 106,
      "outputs": [
        {
          "output_type": "execute_result",
          "data": {
            "text/plain": [
              "array([-25.16131863,   0.20623159,   0.20147149])"
            ]
          },
          "metadata": {
            "tags": []
          },
          "execution_count": 106
        }
      ]
    },
    {
      "cell_type": "markdown",
      "metadata": {
        "id": "diduPGxXPWXZ",
        "colab_type": "text"
      },
      "source": [
        "## Cross-validation\n",
        "\n",
        "cross_val_score\n",
        "\n",
        "GridSearchCV"
      ]
    },
    {
      "cell_type": "code",
      "metadata": {
        "id": "M5MXZ9iXPVY8",
        "colab_type": "code",
        "colab": {
          "base_uri": "https://localhost:8080/",
          "height": 0
        },
        "outputId": "07b0dfac-2323-42f0-97b3-65677e347a1a"
      },
      "source": [
        "from sklearn.model_selection import cross_val_score\n",
        "scores = cross_val_score(estimator, X, y, cv=5)\n",
        "scores       "
      ],
      "execution_count": 119,
      "outputs": [
        {
          "output_type": "stream",
          "text": [
            "/usr/local/lib/python3.6/dist-packages/sklearn/linear_model/logistic.py:432: FutureWarning: Default solver will be changed to 'lbfgs' in 0.22. Specify a solver to silence this warning.\n",
            "  FutureWarning)\n",
            "/usr/local/lib/python3.6/dist-packages/sklearn/linear_model/logistic.py:432: FutureWarning: Default solver will be changed to 'lbfgs' in 0.22. Specify a solver to silence this warning.\n",
            "  FutureWarning)\n",
            "/usr/local/lib/python3.6/dist-packages/sklearn/linear_model/logistic.py:432: FutureWarning: Default solver will be changed to 'lbfgs' in 0.22. Specify a solver to silence this warning.\n",
            "  FutureWarning)\n",
            "/usr/local/lib/python3.6/dist-packages/sklearn/linear_model/logistic.py:432: FutureWarning: Default solver will be changed to 'lbfgs' in 0.22. Specify a solver to silence this warning.\n",
            "  FutureWarning)\n",
            "/usr/local/lib/python3.6/dist-packages/sklearn/linear_model/logistic.py:432: FutureWarning: Default solver will be changed to 'lbfgs' in 0.22. Specify a solver to silence this warning.\n",
            "  FutureWarning)\n"
          ],
          "name": "stderr"
        },
        {
          "output_type": "execute_result",
          "data": {
            "text/plain": [
              "array([0.8 , 0.8 , 0.8 , 0.95, 0.8 ])"
            ]
          },
          "metadata": {
            "tags": []
          },
          "execution_count": 119
        }
      ]
    },
    {
      "cell_type": "code",
      "metadata": {
        "id": "0qjAsq3kQ65Z",
        "colab_type": "code",
        "colab": {}
      },
      "source": [
        "def print_results(results):\n",
        "    print('BEST PARAMS: {}\\n'.format(results.best_params_))\n",
        "    means = results.cv_results_['mean_test_score']\n",
        "    stds = results.cv_results_['std_test_score']\n",
        "    for mean, std, params in zip(means, stds, results.cv_results_['params']):\n",
        "        print('{} (+/-{}) for {}'.format(round(mean, 3), round(std * 2, 3), params))"
      ],
      "execution_count": 0,
      "outputs": []
    },
    {
      "cell_type": "code",
      "metadata": {
        "id": "TqU5EQazQLKr",
        "colab_type": "code",
        "colab": {}
      },
      "source": [
        "parameters = {'C':[0.01,0.1,1,10],'solver':['newton-cg', 'lbfgs',  'sag', 'saga'],'penalty' : ['l2' ,'none']}\n",
        "from sklearn.model_selection import GridSearchCV\n",
        "#LR_1 = LogisticRegression(C=0.1, solver='liblinear').fit(X_train,y_train)\n",
        "LR_1 = LogisticRegression()\n",
        "cv = GridSearchCV(LR_1,parameters, cv = 5)\n",
        "cv.fit(X_train,y_train)\n",
        "print_results(cv)\n",
        "\n",
        "# penalty='none' is not supported for the liblinear solver\n",
        "# Solver newton-cg supports only 'l2' or 'none' penalties, got l1 penalty.\n",
        "'''\n",
        "BEST PARAMS: {'C': 0.01, 'penalty': 'l2', 'solver': 'newton-cg'}\n",
        "\n",
        "0.9 (+/-0.158) for {'C': 0.01, 'penalty': 'l2', 'solver': 'newton-cg'}\n",
        "0.9 (+/-0.158) for {'C': 0.01, 'penalty': 'l2', 'solver': 'lbfgs'}\n",
        "0.617 (+/-0.093) for {'C': 0.01, 'penalty': 'l2', 'solver': 'sag'}\n",
        "0.617 (+/-0.093) for {'C': 0.01, 'penalty': 'l2', 'solver': 'saga'}\n",
        "0.9 (+/-0.184) for {'C': 0.01, 'penalty': 'none', 'solver': 'newton-cg'}\n",
        "0.9 (+/-0.184) for {'C': 0.01, 'penalty': 'none', 'solver': 'lbfgs'}\n",
        "0.617 (+/-0.093) for {'C': 0.01, 'penalty': 'none', 'solver': 'sag'}\n",
        "0.617 (+/-0.093) for {'C': 0.01, 'penalty': 'none', 'solver': 'saga'}\n",
        "0.9 (+/-0.184) for {'C': 0.1, 'penalty': 'l2', 'solver': 'newton-cg'}\n",
        "0.9 (+/-0.184) for {'C': 0.1, 'penalty': 'l2', 'solver': 'lbfgs'}\n",
        "0.617 (+/-0.093) for {'C': 0.1, 'penalty': 'l2', 'solver': 'sag'}\n",
        "0.617 (+/-0.093) for {'C': 0.1, 'penalty': 'l2', 'solver': 'saga'}\n",
        "0.9 (+/-0.184) for {'C': 0.1, 'penalty': 'none', 'solver': 'newton-cg'}\n",
        "0.9 (+/-0.184) for {'C': 0.1, 'penalty': 'none', 'solver': 'lbfgs'}\n",
        "0.617 (+/-0.093) for {'C': 0.1, 'penalty': 'none', 'solver': 'sag'}\n",
        "0.617 (+/-0.093) for {'C': 0.1, 'penalty': 'none', 'solver': 'saga'}\n",
        "0.9 (+/-0.184) for {'C': 1, 'penalty': 'l2', 'solver': 'newton-cg'}\n",
        "0.9 (+/-0.184) for {'C': 1, 'penalty': 'l2', 'solver': 'lbfgs'}\n",
        "0.617 (+/-0.093) for {'C': 1, 'penalty': 'l2', 'solver': 'sag'}\n",
        "0.617 (+/-0.093) for {'C': 1, 'penalty': 'l2', 'solver': 'saga'}\n",
        "0.9 (+/-0.184) for {'C': 1, 'penalty': 'none', 'solver': 'newton-cg'}\n",
        "0.9 (+/-0.184) for {'C': 1, 'penalty': 'none', 'solver': 'lbfgs'}\n",
        "0.617 (+/-0.093) for {'C': 1, 'penalty': 'none', 'solver': 'sag'}\n",
        "0.617 (+/-0.093) for {'C': 1, 'penalty': 'none', 'solver': 'saga'}\n",
        "0.9 (+/-0.184) for {'C': 10, 'penalty': 'l2', 'solver': 'newton-cg'}\n",
        "0.9 (+/-0.184) for {'C': 10, 'penalty': 'l2', 'solver': 'lbfgs'}\n",
        "0.617 (+/-0.093) for {'C': 10, 'penalty': 'l2', 'solver': 'sag'}\n",
        "0.617 (+/-0.093) for {'C': 10, 'penalty': 'l2', 'solver': 'saga'}\n",
        "0.9 (+/-0.184) for {'C': 10, 'penalty': 'none', 'solver': 'newton-cg'}\n",
        "0.9 (+/-0.184) for {'C': 10, 'penalty': 'none', 'solver': 'lbfgs'}\n",
        "0.617 (+/-0.093) for {'C': 10, 'penalty': 'none', 'solver': 'sag'}\n",
        "0.617 (+/-0.093) for {'C': 10, 'penalty': 'none', 'solver': 'saga'}\n",
        "'''"
      ],
      "execution_count": 0,
      "outputs": []
    },
    {
      "cell_type": "code",
      "metadata": {
        "id": "zRZow9pPSL6x",
        "colab_type": "code",
        "colab": {
          "base_uri": "https://localhost:8080/",
          "height": 153
        },
        "outputId": "609bae52-a341-4b00-fbcb-c26261b5c7f1"
      },
      "source": [
        "print(cv.best_estimator_)\n",
        "print(cv.best_score_)\n",
        "print(cv.best_params_)\n",
        "print(cv.score(X_test,y_test))"
      ],
      "execution_count": 135,
      "outputs": [
        {
          "output_type": "stream",
          "text": [
            "LogisticRegression(C=0.01, class_weight=None, dual=False, fit_intercept=True,\n",
            "                   intercept_scaling=1, l1_ratio=None, max_iter=100,\n",
            "                   multi_class='warn', n_jobs=None, penalty='l2',\n",
            "                   random_state=None, solver='newton-cg', tol=0.0001, verbose=0,\n",
            "                   warm_start=False)\n",
            "0.9\n",
            "{'C': 0.01, 'penalty': 'l2', 'solver': 'newton-cg'}\n",
            "0.85\n"
          ],
          "name": "stdout"
        }
      ]
    },
    {
      "cell_type": "markdown",
      "metadata": {
        "id": "F4sw2cKZT42d",
        "colab_type": "text"
      },
      "source": [
        "## scikitplot "
      ]
    },
    {
      "cell_type": "code",
      "metadata": {
        "id": "eO6zpN8bT8gJ",
        "colab_type": "code",
        "colab": {
          "base_uri": "https://localhost:8080/",
          "height": 0
        },
        "outputId": "329818c3-3e79-4956-fae9-d09cec91e4b7"
      },
      "source": [
        "pip install scikit-plot"
      ],
      "execution_count": 140,
      "outputs": [
        {
          "output_type": "stream",
          "text": [
            "Collecting scikit-plot\n",
            "  Downloading https://files.pythonhosted.org/packages/7c/47/32520e259340c140a4ad27c1b97050dd3254fdc517b1d59974d47037510e/scikit_plot-0.3.7-py3-none-any.whl\n",
            "Requirement already satisfied: matplotlib>=1.4.0 in /usr/local/lib/python3.6/dist-packages (from scikit-plot) (3.0.3)\n",
            "Requirement already satisfied: joblib>=0.10 in /usr/local/lib/python3.6/dist-packages (from scikit-plot) (0.13.2)\n",
            "Requirement already satisfied: scikit-learn>=0.18 in /usr/local/lib/python3.6/dist-packages (from scikit-plot) (0.21.2)\n",
            "Requirement already satisfied: scipy>=0.9 in /usr/local/lib/python3.6/dist-packages (from scikit-plot) (1.3.0)\n",
            "Requirement already satisfied: cycler>=0.10 in /usr/local/lib/python3.6/dist-packages (from matplotlib>=1.4.0->scikit-plot) (0.10.0)\n",
            "Requirement already satisfied: numpy>=1.10.0 in /usr/local/lib/python3.6/dist-packages (from matplotlib>=1.4.0->scikit-plot) (1.16.4)\n",
            "Requirement already satisfied: python-dateutil>=2.1 in /usr/local/lib/python3.6/dist-packages (from matplotlib>=1.4.0->scikit-plot) (2.5.3)\n",
            "Requirement already satisfied: pyparsing!=2.0.4,!=2.1.2,!=2.1.6,>=2.0.1 in /usr/local/lib/python3.6/dist-packages (from matplotlib>=1.4.0->scikit-plot) (2.4.0)\n",
            "Requirement already satisfied: kiwisolver>=1.0.1 in /usr/local/lib/python3.6/dist-packages (from matplotlib>=1.4.0->scikit-plot) (1.1.0)\n",
            "Requirement already satisfied: six in /usr/local/lib/python3.6/dist-packages (from cycler>=0.10->matplotlib>=1.4.0->scikit-plot) (1.12.0)\n",
            "Requirement already satisfied: setuptools in /usr/local/lib/python3.6/dist-packages (from kiwisolver>=1.0.1->matplotlib>=1.4.0->scikit-plot) (41.0.1)\n",
            "Installing collected packages: scikit-plot\n",
            "Successfully installed scikit-plot-0.3.7\n"
          ],
          "name": "stdout"
        }
      ]
    },
    {
      "cell_type": "code",
      "metadata": {
        "id": "LhOrKDjUrCaF",
        "colab_type": "code",
        "colab": {
          "base_uri": "https://localhost:8080/",
          "height": 34
        },
        "outputId": "9308d7ed-2a3c-48ae-cde2-f66e618d1503"
      },
      "source": [
        "len(probs)\n",
        "len(y_test)"
      ],
      "execution_count": 147,
      "outputs": [
        {
          "output_type": "execute_result",
          "data": {
            "text/plain": [
              "40"
            ]
          },
          "metadata": {
            "tags": []
          },
          "execution_count": 147
        }
      ]
    },
    {
      "cell_type": "code",
      "metadata": {
        "id": "ZIhtUmSvqu0f",
        "colab_type": "code",
        "colab": {
          "base_uri": "https://localhost:8080/",
          "height": 391
        },
        "outputId": "f70bd26a-125b-4d91-b0fa-c03efd5e142d"
      },
      "source": [
        "from scikitplot.metrics import plot_cumulative_gain\n",
        "plot_cumulative_gain(y_test, estimator.predict_proba(X_test))"
      ],
      "execution_count": 152,
      "outputs": [
        {
          "output_type": "stream",
          "text": [
            "/usr/local/lib/python3.6/dist-packages/matplotlib/cbook/__init__.py:424: MatplotlibDeprecationWarning: \n",
            "Passing one of 'on', 'true', 'off', 'false' as a boolean is deprecated; use an actual boolean (True/False) instead.\n",
            "  warn_deprecated(\"2.2\", \"Passing one of 'on', 'true', 'off', 'false' as a \"\n"
          ],
          "name": "stderr"
        },
        {
          "output_type": "execute_result",
          "data": {
            "text/plain": [
              "<matplotlib.axes._subplots.AxesSubplot at 0x7fb09902efd0>"
            ]
          },
          "metadata": {
            "tags": []
          },
          "execution_count": 152
        },
        {
          "output_type": "display_data",
          "data": {
            "image/png": "[encoded data removed]",
            "text/plain": [
              "<Figure size 432x288 with 1 Axes>"
            ]
          },
          "metadata": {
            "tags": []
          }
        }
      ]
    },
    {
      "cell_type": "code",
      "metadata": {
        "id": "kOxT8GHWtGKb",
        "colab_type": "code",
        "colab": {
          "base_uri": "https://localhost:8080/",
          "height": 374
        },
        "outputId": "7314aebd-dd50-462d-9a84-a1c574d73521"
      },
      "source": [
        "from scikitplot.metrics import plot_lift_curve\n",
        "# Plot the lift curve\n",
        "plot_lift_curve(y_test, estimator.predict_proba(X_test))\n",
        "plt.show()"
      ],
      "execution_count": 153,
      "outputs": [
        {
          "output_type": "stream",
          "text": [
            "/usr/local/lib/python3.6/dist-packages/matplotlib/cbook/__init__.py:424: MatplotlibDeprecationWarning: \n",
            "Passing one of 'on', 'true', 'off', 'false' as a boolean is deprecated; use an actual boolean (True/False) instead.\n",
            "  warn_deprecated(\"2.2\", \"Passing one of 'on', 'true', 'off', 'false' as a \"\n"
          ],
          "name": "stderr"
        },
        {
          "output_type": "display_data",
          "data": {
            "image/png": "[encoded data removed]",
            "text/plain": [
              "<Figure size 432x288 with 1 Axes>"
            ]
          },
          "metadata": {
            "tags": []
          }
        }
      ]
    },
    {
      "cell_type": "markdown",
      "metadata": {
        "id": "kwgT6m_H1XvW",
        "colab_type": "text"
      },
      "source": [
        "## Gini Coefficient\n",
        "\n",
        "**Gini above 60% is a good model. For the case in hand we get Gini as 92.7%.**"
      ]
    },
    {
      "cell_type": "code",
      "metadata": {
        "id": "Xfg1nAb_1aTL",
        "colab_type": "code",
        "colab": {
          "base_uri": "https://localhost:8080/",
          "height": 0
        },
        "outputId": "4b87be76-55b5-476b-98a5-1ddaea222d22"
      },
      "source": [
        "2*p_r_auc - 1"
      ],
      "execution_count": 154,
      "outputs": [
        {
          "output_type": "execute_result",
          "data": {
            "text/plain": [
              "0.8351469212439331"
            ]
          },
          "metadata": {
            "tags": []
          },
          "execution_count": 154
        }
      ]
    },
    {
      "cell_type": "code",
      "metadata": {
        "id": "sH4aM4X71i6x",
        "colab_type": "code",
        "colab": {
          "base_uri": "https://localhost:8080/",
          "height": 0
        },
        "outputId": "b49c2fec-3844-46f8-92e7-102bad2102b9"
      },
      "source": [
        "2* auc(fpr, tpr) - 1"
      ],
      "execution_count": 157,
      "outputs": [
        {
          "output_type": "execute_result",
          "data": {
            "text/plain": [
              "0.7637362637362637"
            ]
          },
          "metadata": {
            "tags": []
          },
          "execution_count": 157
        }
      ]
    },
    {
      "cell_type": "code",
      "metadata": {
        "id": "he2fIz988T9e",
        "colab_type": "code",
        "colab": {
          "base_uri": "https://localhost:8080/",
          "height": 1000
        },
        "outputId": "4400882e-7286-4506-ed00-1ae838a2540c"
      },
      "source": [
        "data.iloc[:,-1]"
      ],
      "execution_count": 168,
      "outputs": [
        {
          "output_type": "execute_result",
          "data": {
            "text/plain": [
              "0     0\n",
              "1     0\n",
              "2     0\n",
              "3     1\n",
              "4     1\n",
              "5     0\n",
              "6     1\n",
              "7     1\n",
              "8     1\n",
              "9     1\n",
              "10    0\n",
              "11    0\n",
              "12    1\n",
              "13    1\n",
              "14    0\n",
              "15    1\n",
              "16    1\n",
              "17    0\n",
              "18    1\n",
              "19    1\n",
              "20    0\n",
              "21    1\n",
              "22    0\n",
              "23    0\n",
              "24    1\n",
              "25    1\n",
              "26    1\n",
              "27    0\n",
              "28    0\n",
              "29    0\n",
              "     ..\n",
              "70    0\n",
              "71    1\n",
              "72    1\n",
              "73    1\n",
              "74    1\n",
              "75    1\n",
              "76    1\n",
              "77    1\n",
              "78    0\n",
              "79    0\n",
              "80    1\n",
              "81    1\n",
              "82    1\n",
              "83    1\n",
              "84    1\n",
              "85    1\n",
              "86    0\n",
              "87    1\n",
              "88    1\n",
              "89    0\n",
              "90    1\n",
              "91    1\n",
              "92    0\n",
              "93    1\n",
              "94    1\n",
              "95    1\n",
              "96    1\n",
              "97    1\n",
              "98    1\n",
              "99    1\n",
              "Name: Admitted, Length: 100, dtype: int64"
            ]
          },
          "metadata": {
            "tags": []
          },
          "execution_count": 168
        }
      ]
    },
    {
      "cell_type": "markdown",
      "metadata": {
        "id": "WGUxWRzx6obo",
        "colab_type": "text"
      },
      "source": [
        "## Somers'd CONCORDANCE and DISCORDANCE"
      ]
    },
    {
      "cell_type": "code",
      "metadata": {
        "id": "XjJPu7xY6q0N",
        "colab_type": "code",
        "colab": {
          "base_uri": "https://localhost:8080/",
          "height": 265
        },
        "outputId": "8280fb21-5e46-47d2-c9d6-1572fabb089c"
      },
      "source": [
        "#THE FOLLOWING CODE CALCULATES CONCORDANCE AND DISCORDANCE\n",
        "def concordance_discordance():\n",
        "    Probability = estimator.predict_proba(X)\n",
        "    Probability1 = pd.DataFrame(Probability)\n",
        "    Probability1.columns = ['Prob_0','Prob_1']\n",
        "    TruthTable = pd.merge(data.iloc[:,-1], Probability1[['Prob_1']], how='inner', left_index=True, right_index=True)\n",
        "    print(TruthTable.head())\n",
        "    zeros = TruthTable[(TruthTable.iloc[:,0]==0)].reset_index().drop(['index'], axis = 1)\n",
        "    ones = TruthTable[(TruthTable.iloc[:,0]==1)].reset_index().drop(['index'], axis = 1)\n",
        "    from bisect import bisect_left, bisect_right\n",
        "    zeros_list = sorted([zeros.iloc[j,1] for j in zeros.index])\n",
        "    zeros_length = len(zeros_list)\n",
        "    disc = 0\n",
        "    ties = 0\n",
        "    conc = 0\n",
        "    for i in ones.index:\n",
        "        cur_conc = bisect_left(zeros_list, ones.iloc[i,1])\n",
        "        cur_ties = bisect_right(zeros_list, ones.iloc[i,1]) - cur_conc\n",
        "        conc += cur_conc\n",
        "        ties += cur_ties\n",
        "    pairs_tested = zeros_length * len(ones.index)\n",
        "    disc = pairs_tested - conc - ties\n",
        "    print('Pairs = ', pairs_tested)\n",
        "    print('Conc = ', conc)\n",
        "    print('Disc = ', disc)\n",
        "    print('Tied = ', ties)\n",
        "    concordance = round(conc/pairs_tested,2)\n",
        "    discordance = round(disc/pairs_tested,2)\n",
        "    ties_perc = round(ties/pairs_tested,2)\n",
        "    Somers_D = round((conc - disc)/pairs_tested,2)\n",
        "    print('Concordance = ', concordance, '%')\n",
        "    print('Discordance = ', discordance, '%')\n",
        "    print('Tied = ', ties_perc, '%')\n",
        "    print('Somers D = ', Somers_D)\n",
        "concordance_discordance()"
      ],
      "execution_count": 170,
      "outputs": [
        {
          "output_type": "stream",
          "text": [
            "   Admitted    Prob_1\n",
            "0         0  0.380022\n",
            "1         0  0.239635\n",
            "2         0  0.373267\n",
            "3         1  0.645897\n",
            "4         1  0.760383\n",
            "Pairs =  2400\n",
            "Conc =  2219\n",
            "Disc =  181\n",
            "Tied =  0\n",
            "Concordance =  0.92 %\n",
            "Discordance =  0.08 %\n",
            "Tied =  0.0 %\n",
            "Somers D =  0.85\n"
          ],
          "name": "stdout"
        }
      ]
    },
    {
      "cell_type": "markdown",
      "metadata": {
        "id": "vb17dnYwAw9W",
        "colab_type": "text"
      },
      "source": [
        "## Kolomogorov Smirnov chart\n",
        "[link](https://www.datavedas.com/model-evaluation-in-python/)"
      ]
    },
    {
      "cell_type": "code",
      "metadata": {
        "id": "12TuVffIFjVd",
        "colab_type": "code",
        "colab": {}
      },
      "source": [
        "def Kolomogorov_Smirnov_chart(data):\n",
        "\tdf1 = pd.pivot_table(data=Train_Data1,index=['Decile'],values=['Defaulter','Non-Defaulter','Probability'],\n",
        "\t                     aggfunc={'Defaulter':[np.sum],\n",
        "\t                              'Non-Defaulter':[np.sum],\n",
        "\t                              'Probability' : [np.min,np.max]})\n",
        "\tdf1.reset_index()\n",
        "\tdf1.columns = ['Defaulter_Count','Non-Defaulter_Count','max_score','min_score']\n",
        "\tdf1['Total_Cust'] = df1['Defaulter_Count']+df1['Non-Defaulter_Count']\n",
        "\t\n",
        "\t\n",
        "\tdf2 = df1.sort_values(by='min_score',ascending=False)\n",
        "\t\n",
        "\tdf2['Default_Rate'] = (df2['Defaulter_Count'] / df2['Total_Cust']).apply('{0:.2%}'.format)\n",
        "\tdefault_sum = df2['Defaulter_Count'].sum()\n",
        "\tnon_default_sum = df2['Non-Defaulter_Count'].sum()\n",
        "\tdf2['Default %'] = (df2['Defaulter_Count']/default_sum).apply('{0:.2%}'.format)\n",
        "\tdf2['Non_Default %'] = (df2['Non-Defaulter_Count']/non_default_sum).apply('{0:.2%}'.format)\n",
        "\t\n",
        "\tdf2['ks_stats'] = np.round(((df2['Defaulter_Count'] / df2['Defaulter_Count'].sum()).cumsum() -(df2['Non-Defaulter_Count'] / df2['Non-Defaulter_Count'].sum()).cumsum()), 4) * 100\n",
        "\tflag = lambda x: '*****' if x == df2['ks_stats'].max() else ''\n",
        "\tdf2['max_ks'] = df2['ks_stats'].apply(flag)\n",
        "\treturn df2"
      ],
      "execution_count": 0,
      "outputs": []
    },
    {
      "cell_type": "code",
      "metadata": {
        "id": "NUSP8asAA0vU",
        "colab_type": "code",
        "colab": {
          "base_uri": "https://localhost:8080/",
          "height": 197
        },
        "outputId": "885f8c8c-8004-42d3-fbd4-d30a38c07a67"
      },
      "source": [
        "Train_Data1 = pd.DataFrame(y_train)\n",
        "Train_Data1['Prob'] = estimator.predict_proba(X_train)[:, 1]\n",
        "Train_Data1['decile'] = pd.qcut(Train_Data1['Prob'],10,labels=['1','2','3','4','5','6','7','8','9','10'])\n",
        "Train_Data1.columns = ['Defaulter','Probability','Decile']\n",
        "Train_Data1['Non-Defaulter'] = 1-Train_Data1['Defaulter']\n",
        "\n",
        "Train_Data1.head()"
      ],
      "execution_count": 216,
      "outputs": [
        {
          "output_type": "execute_result",
          "data": {
            "text/html": [
              "<div>\n",
              "<style scoped>\n",
              "    .dataframe tbody tr th:only-of-type {\n",
              "        vertical-align: middle;\n",
              "    }\n",
              "\n",
              "    .dataframe tbody tr th {\n",
              "        vertical-align: top;\n",
              "    }\n",
              "\n",
              "    .dataframe thead th {\n",
              "        text-align: right;\n",
              "    }\n",
              "</style>\n",
              "<table border=\"1\" class=\"dataframe\">\n",
              "  <thead>\n",
              "    <tr style=\"text-align: right;\">\n",
              "      <th></th>\n",
              "      <th>Defaulter</th>\n",
              "      <th>Probability</th>\n",
              "      <th>Decile</th>\n",
              "      <th>Non-Defaulter</th>\n",
              "    </tr>\n",
              "  </thead>\n",
              "  <tbody>\n",
              "    <tr>\n",
              "      <th>49</th>\n",
              "      <td>1</td>\n",
              "      <td>0.861262</td>\n",
              "      <td>10</td>\n",
              "      <td>0</td>\n",
              "    </tr>\n",
              "    <tr>\n",
              "      <th>34</th>\n",
              "      <td>0</td>\n",
              "      <td>0.406785</td>\n",
              "      <td>2</td>\n",
              "      <td>1</td>\n",
              "    </tr>\n",
              "    <tr>\n",
              "      <th>7</th>\n",
              "      <td>1</td>\n",
              "      <td>0.641154</td>\n",
              "      <td>5</td>\n",
              "      <td>0</td>\n",
              "    </tr>\n",
              "    <tr>\n",
              "      <th>95</th>\n",
              "      <td>1</td>\n",
              "      <td>0.716682</td>\n",
              "      <td>7</td>\n",
              "      <td>0</td>\n",
              "    </tr>\n",
              "    <tr>\n",
              "      <th>27</th>\n",
              "      <td>0</td>\n",
              "      <td>0.759947</td>\n",
              "      <td>8</td>\n",
              "      <td>1</td>\n",
              "    </tr>\n",
              "  </tbody>\n",
              "</table>\n",
              "</div>"
            ],
            "text/plain": [
              "    Defaulter  Probability Decile  Non-Defaulter\n",
              "49          1     0.861262     10              0\n",
              "34          0     0.406785      2              1\n",
              "7           1     0.641154      5              0\n",
              "95          1     0.716682      7              0\n",
              "27          0     0.759947      8              1"
            ]
          },
          "metadata": {
            "tags": []
          },
          "execution_count": 216
        }
      ]
    },
    {
      "cell_type": "code",
      "metadata": {
        "id": "s1gx-32TFe9F",
        "colab_type": "code",
        "colab": {
          "base_uri": "https://localhost:8080/",
          "height": 377
        },
        "outputId": "5fd81f83-1469-46c5-8d67-30f6dc9faa56"
      },
      "source": [
        "Kolomogorov_Smirnov_chart(Train_Data1)"
      ],
      "execution_count": 219,
      "outputs": [
        {
          "output_type": "execute_result",
          "data": {
            "text/html": [
              "<div>\n",
              "<style scoped>\n",
              "    .dataframe tbody tr th:only-of-type {\n",
              "        vertical-align: middle;\n",
              "    }\n",
              "\n",
              "    .dataframe tbody tr th {\n",
              "        vertical-align: top;\n",
              "    }\n",
              "\n",
              "    .dataframe thead th {\n",
              "        text-align: right;\n",
              "    }\n",
              "</style>\n",
              "<table border=\"1\" class=\"dataframe\">\n",
              "  <thead>\n",
              "    <tr style=\"text-align: right;\">\n",
              "      <th></th>\n",
              "      <th>Defaulter_Count</th>\n",
              "      <th>Non-Defaulter_Count</th>\n",
              "      <th>max_score</th>\n",
              "      <th>min_score</th>\n",
              "      <th>Total_Cust</th>\n",
              "      <th>Default_Rate</th>\n",
              "      <th>Default %</th>\n",
              "      <th>Non_Default %</th>\n",
              "      <th>ks_stats</th>\n",
              "      <th>max_ks</th>\n",
              "    </tr>\n",
              "    <tr>\n",
              "      <th>Decile</th>\n",
              "      <th></th>\n",
              "      <th></th>\n",
              "      <th></th>\n",
              "      <th></th>\n",
              "      <th></th>\n",
              "      <th></th>\n",
              "      <th></th>\n",
              "      <th></th>\n",
              "      <th></th>\n",
              "      <th></th>\n",
              "    </tr>\n",
              "  </thead>\n",
              "  <tbody>\n",
              "    <tr>\n",
              "      <th>10</th>\n",
              "      <td>6</td>\n",
              "      <td>0</td>\n",
              "      <td>0.869832</td>\n",
              "      <td>0.847041</td>\n",
              "      <td>6</td>\n",
              "      <td>100.00%</td>\n",
              "      <td>17.65%</td>\n",
              "      <td>0.00%</td>\n",
              "      <td>17.65</td>\n",
              "      <td></td>\n",
              "    </tr>\n",
              "    <tr>\n",
              "      <th>9</th>\n",
              "      <td>6</td>\n",
              "      <td>0</td>\n",
              "      <td>0.809714</td>\n",
              "      <td>0.772197</td>\n",
              "      <td>6</td>\n",
              "      <td>100.00%</td>\n",
              "      <td>17.65%</td>\n",
              "      <td>0.00%</td>\n",
              "      <td>35.29</td>\n",
              "      <td></td>\n",
              "    </tr>\n",
              "    <tr>\n",
              "      <th>8</th>\n",
              "      <td>5</td>\n",
              "      <td>1</td>\n",
              "      <td>0.768802</td>\n",
              "      <td>0.754434</td>\n",
              "      <td>6</td>\n",
              "      <td>83.33%</td>\n",
              "      <td>14.71%</td>\n",
              "      <td>3.85%</td>\n",
              "      <td>46.15</td>\n",
              "      <td></td>\n",
              "    </tr>\n",
              "    <tr>\n",
              "      <th>7</th>\n",
              "      <td>6</td>\n",
              "      <td>0</td>\n",
              "      <td>0.753353</td>\n",
              "      <td>0.709390</td>\n",
              "      <td>6</td>\n",
              "      <td>100.00%</td>\n",
              "      <td>17.65%</td>\n",
              "      <td>0.00%</td>\n",
              "      <td>63.80</td>\n",
              "      <td></td>\n",
              "    </tr>\n",
              "    <tr>\n",
              "      <th>6</th>\n",
              "      <td>4</td>\n",
              "      <td>2</td>\n",
              "      <td>0.695553</td>\n",
              "      <td>0.661380</td>\n",
              "      <td>6</td>\n",
              "      <td>66.67%</td>\n",
              "      <td>11.76%</td>\n",
              "      <td>7.69%</td>\n",
              "      <td>67.87</td>\n",
              "      <td></td>\n",
              "    </tr>\n",
              "    <tr>\n",
              "      <th>5</th>\n",
              "      <td>5</td>\n",
              "      <td>1</td>\n",
              "      <td>0.651538</td>\n",
              "      <td>0.608318</td>\n",
              "      <td>6</td>\n",
              "      <td>83.33%</td>\n",
              "      <td>14.71%</td>\n",
              "      <td>3.85%</td>\n",
              "      <td>78.73</td>\n",
              "      <td>*****</td>\n",
              "    </tr>\n",
              "    <tr>\n",
              "      <th>4</th>\n",
              "      <td>2</td>\n",
              "      <td>4</td>\n",
              "      <td>0.597930</td>\n",
              "      <td>0.488699</td>\n",
              "      <td>6</td>\n",
              "      <td>33.33%</td>\n",
              "      <td>5.88%</td>\n",
              "      <td>15.38%</td>\n",
              "      <td>69.23</td>\n",
              "      <td></td>\n",
              "    </tr>\n",
              "    <tr>\n",
              "      <th>3</th>\n",
              "      <td>0</td>\n",
              "      <td>6</td>\n",
              "      <td>0.482329</td>\n",
              "      <td>0.424284</td>\n",
              "      <td>6</td>\n",
              "      <td>0.00%</td>\n",
              "      <td>0.00%</td>\n",
              "      <td>23.08%</td>\n",
              "      <td>46.15</td>\n",
              "      <td></td>\n",
              "    </tr>\n",
              "    <tr>\n",
              "      <th>2</th>\n",
              "      <td>0</td>\n",
              "      <td>6</td>\n",
              "      <td>0.423319</td>\n",
              "      <td>0.406785</td>\n",
              "      <td>6</td>\n",
              "      <td>0.00%</td>\n",
              "      <td>0.00%</td>\n",
              "      <td>23.08%</td>\n",
              "      <td>23.08</td>\n",
              "      <td></td>\n",
              "    </tr>\n",
              "    <tr>\n",
              "      <th>1</th>\n",
              "      <td>0</td>\n",
              "      <td>6</td>\n",
              "      <td>0.373267</td>\n",
              "      <td>0.239635</td>\n",
              "      <td>6</td>\n",
              "      <td>0.00%</td>\n",
              "      <td>0.00%</td>\n",
              "      <td>23.08%</td>\n",
              "      <td>-0.00</td>\n",
              "      <td></td>\n",
              "    </tr>\n",
              "  </tbody>\n",
              "</table>\n",
              "</div>"
            ],
            "text/plain": [
              "        Defaulter_Count  Non-Defaulter_Count  ...  ks_stats  max_ks\n",
              "Decile                                        ...                  \n",
              "10                    6                    0  ...     17.65        \n",
              "9                     6                    0  ...     35.29        \n",
              "8                     5                    1  ...     46.15        \n",
              "7                     6                    0  ...     63.80        \n",
              "6                     4                    2  ...     67.87        \n",
              "5                     5                    1  ...     78.73   *****\n",
              "4                     2                    4  ...     69.23        \n",
              "3                     0                    6  ...     46.15        \n",
              "2                     0                    6  ...     23.08        \n",
              "1                     0                    6  ...     -0.00        \n",
              "\n",
              "[10 rows x 10 columns]"
            ]
          },
          "metadata": {
            "tags": []
          },
          "execution_count": 219
        }
      ]
    },
    {
      "cell_type": "code",
      "metadata": {
        "id": "jQijDV0dEY6t",
        "colab_type": "code",
        "colab": {
          "base_uri": "https://localhost:8080/",
          "height": 197
        },
        "outputId": "fc9ff324-dbfb-47ab-ef85-d5272deca2c9"
      },
      "source": [
        "Test_Data1 = pd.DataFrame(y_test)\n",
        "Test_Data1['Prob'] = estimator.predict_proba(X_test)[:, 1]\n",
        "Test_Data1['decile'] = pd.qcut(Test_Data1['Prob'],10,labels=['1','2','3','4','5','6','7','8','9','10'])\n",
        "Test_Data1.columns = ['Defaulter','Probability','Decile']\n",
        "Test_Data1['Non-Defaulter'] = 1-Test_Data1['Defaulter']\n",
        "\n",
        "Test_Data1.head()\n"
      ],
      "execution_count": 222,
      "outputs": [
        {
          "output_type": "execute_result",
          "data": {
            "text/html": [
              "<div>\n",
              "<style scoped>\n",
              "    .dataframe tbody tr th:only-of-type {\n",
              "        vertical-align: middle;\n",
              "    }\n",
              "\n",
              "    .dataframe tbody tr th {\n",
              "        vertical-align: top;\n",
              "    }\n",
              "\n",
              "    .dataframe thead th {\n",
              "        text-align: right;\n",
              "    }\n",
              "</style>\n",
              "<table border=\"1\" class=\"dataframe\">\n",
              "  <thead>\n",
              "    <tr style=\"text-align: right;\">\n",
              "      <th></th>\n",
              "      <th>Defaulter</th>\n",
              "      <th>Probability</th>\n",
              "      <th>Decile</th>\n",
              "      <th>Non-Defaulter</th>\n",
              "    </tr>\n",
              "  </thead>\n",
              "  <tbody>\n",
              "    <tr>\n",
              "      <th>83</th>\n",
              "      <td>1</td>\n",
              "      <td>0.524050</td>\n",
              "      <td>4</td>\n",
              "      <td>0</td>\n",
              "    </tr>\n",
              "    <tr>\n",
              "      <th>53</th>\n",
              "      <td>0</td>\n",
              "      <td>0.320410</td>\n",
              "      <td>1</td>\n",
              "      <td>1</td>\n",
              "    </tr>\n",
              "    <tr>\n",
              "      <th>70</th>\n",
              "      <td>0</td>\n",
              "      <td>0.255222</td>\n",
              "      <td>1</td>\n",
              "      <td>1</td>\n",
              "    </tr>\n",
              "    <tr>\n",
              "      <th>45</th>\n",
              "      <td>0</td>\n",
              "      <td>0.543850</td>\n",
              "      <td>5</td>\n",
              "      <td>1</td>\n",
              "    </tr>\n",
              "    <tr>\n",
              "      <th>44</th>\n",
              "      <td>0</td>\n",
              "      <td>0.415971</td>\n",
              "      <td>2</td>\n",
              "      <td>1</td>\n",
              "    </tr>\n",
              "  </tbody>\n",
              "</table>\n",
              "</div>"
            ],
            "text/plain": [
              "    Defaulter  Probability Decile  Non-Defaulter\n",
              "83          1     0.524050      4              0\n",
              "53          0     0.320410      1              1\n",
              "70          0     0.255222      1              1\n",
              "45          0     0.543850      5              1\n",
              "44          0     0.415971      2              1"
            ]
          },
          "metadata": {
            "tags": []
          },
          "execution_count": 222
        }
      ]
    },
    {
      "cell_type": "code",
      "metadata": {
        "id": "pXgpLfsnEekX",
        "colab_type": "code",
        "colab": {
          "base_uri": "https://localhost:8080/",
          "height": 377
        },
        "outputId": "e9befdac-edde-47cd-b87d-676243b06d64"
      },
      "source": [
        "Kolomogorov_Smirnov_chart(Test_Data1)"
      ],
      "execution_count": 223,
      "outputs": [
        {
          "output_type": "execute_result",
          "data": {
            "text/html": [
              "<div>\n",
              "<style scoped>\n",
              "    .dataframe tbody tr th:only-of-type {\n",
              "        vertical-align: middle;\n",
              "    }\n",
              "\n",
              "    .dataframe tbody tr th {\n",
              "        vertical-align: top;\n",
              "    }\n",
              "\n",
              "    .dataframe thead th {\n",
              "        text-align: right;\n",
              "    }\n",
              "</style>\n",
              "<table border=\"1\" class=\"dataframe\">\n",
              "  <thead>\n",
              "    <tr style=\"text-align: right;\">\n",
              "      <th></th>\n",
              "      <th>Defaulter_Count</th>\n",
              "      <th>Non-Defaulter_Count</th>\n",
              "      <th>max_score</th>\n",
              "      <th>min_score</th>\n",
              "      <th>Total_Cust</th>\n",
              "      <th>Default_Rate</th>\n",
              "      <th>Default %</th>\n",
              "      <th>Non_Default %</th>\n",
              "      <th>ks_stats</th>\n",
              "      <th>max_ks</th>\n",
              "    </tr>\n",
              "    <tr>\n",
              "      <th>Decile</th>\n",
              "      <th></th>\n",
              "      <th></th>\n",
              "      <th></th>\n",
              "      <th></th>\n",
              "      <th></th>\n",
              "      <th></th>\n",
              "      <th></th>\n",
              "      <th></th>\n",
              "      <th></th>\n",
              "      <th></th>\n",
              "    </tr>\n",
              "  </thead>\n",
              "  <tbody>\n",
              "    <tr>\n",
              "      <th>10</th>\n",
              "      <td>6</td>\n",
              "      <td>0</td>\n",
              "      <td>0.869832</td>\n",
              "      <td>0.847041</td>\n",
              "      <td>6</td>\n",
              "      <td>100.00%</td>\n",
              "      <td>17.65%</td>\n",
              "      <td>0.00%</td>\n",
              "      <td>17.65</td>\n",
              "      <td></td>\n",
              "    </tr>\n",
              "    <tr>\n",
              "      <th>9</th>\n",
              "      <td>6</td>\n",
              "      <td>0</td>\n",
              "      <td>0.809714</td>\n",
              "      <td>0.772197</td>\n",
              "      <td>6</td>\n",
              "      <td>100.00%</td>\n",
              "      <td>17.65%</td>\n",
              "      <td>0.00%</td>\n",
              "      <td>35.29</td>\n",
              "      <td></td>\n",
              "    </tr>\n",
              "    <tr>\n",
              "      <th>8</th>\n",
              "      <td>5</td>\n",
              "      <td>1</td>\n",
              "      <td>0.768802</td>\n",
              "      <td>0.754434</td>\n",
              "      <td>6</td>\n",
              "      <td>83.33%</td>\n",
              "      <td>14.71%</td>\n",
              "      <td>3.85%</td>\n",
              "      <td>46.15</td>\n",
              "      <td></td>\n",
              "    </tr>\n",
              "    <tr>\n",
              "      <th>7</th>\n",
              "      <td>6</td>\n",
              "      <td>0</td>\n",
              "      <td>0.753353</td>\n",
              "      <td>0.709390</td>\n",
              "      <td>6</td>\n",
              "      <td>100.00%</td>\n",
              "      <td>17.65%</td>\n",
              "      <td>0.00%</td>\n",
              "      <td>63.80</td>\n",
              "      <td></td>\n",
              "    </tr>\n",
              "    <tr>\n",
              "      <th>6</th>\n",
              "      <td>4</td>\n",
              "      <td>2</td>\n",
              "      <td>0.695553</td>\n",
              "      <td>0.661380</td>\n",
              "      <td>6</td>\n",
              "      <td>66.67%</td>\n",
              "      <td>11.76%</td>\n",
              "      <td>7.69%</td>\n",
              "      <td>67.87</td>\n",
              "      <td></td>\n",
              "    </tr>\n",
              "    <tr>\n",
              "      <th>5</th>\n",
              "      <td>5</td>\n",
              "      <td>1</td>\n",
              "      <td>0.651538</td>\n",
              "      <td>0.608318</td>\n",
              "      <td>6</td>\n",
              "      <td>83.33%</td>\n",
              "      <td>14.71%</td>\n",
              "      <td>3.85%</td>\n",
              "      <td>78.73</td>\n",
              "      <td>*****</td>\n",
              "    </tr>\n",
              "    <tr>\n",
              "      <th>4</th>\n",
              "      <td>2</td>\n",
              "      <td>4</td>\n",
              "      <td>0.597930</td>\n",
              "      <td>0.488699</td>\n",
              "      <td>6</td>\n",
              "      <td>33.33%</td>\n",
              "      <td>5.88%</td>\n",
              "      <td>15.38%</td>\n",
              "      <td>69.23</td>\n",
              "      <td></td>\n",
              "    </tr>\n",
              "    <tr>\n",
              "      <th>3</th>\n",
              "      <td>0</td>\n",
              "      <td>6</td>\n",
              "      <td>0.482329</td>\n",
              "      <td>0.424284</td>\n",
              "      <td>6</td>\n",
              "      <td>0.00%</td>\n",
              "      <td>0.00%</td>\n",
              "      <td>23.08%</td>\n",
              "      <td>46.15</td>\n",
              "      <td></td>\n",
              "    </tr>\n",
              "    <tr>\n",
              "      <th>2</th>\n",
              "      <td>0</td>\n",
              "      <td>6</td>\n",
              "      <td>0.423319</td>\n",
              "      <td>0.406785</td>\n",
              "      <td>6</td>\n",
              "      <td>0.00%</td>\n",
              "      <td>0.00%</td>\n",
              "      <td>23.08%</td>\n",
              "      <td>23.08</td>\n",
              "      <td></td>\n",
              "    </tr>\n",
              "    <tr>\n",
              "      <th>1</th>\n",
              "      <td>0</td>\n",
              "      <td>6</td>\n",
              "      <td>0.373267</td>\n",
              "      <td>0.239635</td>\n",
              "      <td>6</td>\n",
              "      <td>0.00%</td>\n",
              "      <td>0.00%</td>\n",
              "      <td>23.08%</td>\n",
              "      <td>-0.00</td>\n",
              "      <td></td>\n",
              "    </tr>\n",
              "  </tbody>\n",
              "</table>\n",
              "</div>"
            ],
            "text/plain": [
              "        Defaulter_Count  Non-Defaulter_Count  ...  ks_stats  max_ks\n",
              "Decile                                        ...                  \n",
              "10                    6                    0  ...     17.65        \n",
              "9                     6                    0  ...     35.29        \n",
              "8                     5                    1  ...     46.15        \n",
              "7                     6                    0  ...     63.80        \n",
              "6                     4                    2  ...     67.87        \n",
              "5                     5                    1  ...     78.73   *****\n",
              "4                     2                    4  ...     69.23        \n",
              "3                     0                    6  ...     46.15        \n",
              "2                     0                    6  ...     23.08        \n",
              "1                     0                    6  ...     -0.00        \n",
              "\n",
              "[10 rows x 10 columns]"
            ]
          },
          "metadata": {
            "tags": []
          },
          "execution_count": 223
        }
      ]
    },
    {
      "cell_type": "markdown",
      "metadata": {
        "id": "sG29GOnAKF6H",
        "colab_type": "text"
      },
      "source": [
        "## Kullback-Leibler divergence\n",
        "It is commonly used to measure loss in machine learning – and often used in the form of cross-entropy [2]."
      ]
    },
    {
      "cell_type": "code",
      "metadata": {
        "id": "8vv6OEGIKL4c",
        "colab_type": "code",
        "colab": {
          "base_uri": "https://localhost:8080/",
          "height": 701
        },
        "outputId": "645190eb-4d0c-45ac-b5dd-4be42534359d"
      },
      "source": [
        "#!/usr/bin/env python\n",
        "# -*- coding: utf-8 -*-\n",
        "\n",
        "import matplotlib.pyplot as plt\n",
        "import numpy as np\n",
        "import matplotlib.mlab as mlab\n",
        "\n",
        "from scipy.stats import norm\n",
        "from scipy.integrate import quad\n",
        "\n",
        "def p(x):\n",
        "    return norm.pdf(x, 0, 2)\n",
        "\n",
        "def q(x):\n",
        "    return norm.pdf(x, 2, 2)\n",
        "\n",
        "def KL(x):\n",
        "    return p(x) * np.log( p(x) / q(x) )\n",
        "\n",
        "range = np.arange(-10, 10, 0.001)\n",
        "\n",
        "KL_int, err = quad(KL, -10, 10) \n",
        "print( 'KL: ', KL_int )\n",
        "\n",
        "fig = plt.figure(figsize=(18, 8), dpi=100)\n",
        "\n",
        "#---------- First Plot\n",
        "\n",
        "ax = fig.add_subplot(1,2,1)\n",
        "ax.grid(True)\n",
        "ax.spines['left'].set_position('zero')\n",
        "ax.spines['right'].set_color('none')\n",
        "ax.spines['bottom'].set_position('zero')\n",
        "ax.spines['top'].set_color('none')\n",
        "ax.set_xlim(-10,10)\n",
        "ax.set_ylim(-0.1,0.25)\n",
        "\n",
        "ax.text(-2.5, 0.17, 'p(x)', horizontalalignment='center',fontsize=17)\n",
        "ax.text(4.5, 0.17, 'q(x)', horizontalalignment='center',fontsize=17)\n",
        "\n",
        "plt.plot(range, p(range))\n",
        "plt.plot(range, q(range))\n",
        "\n",
        "#---------- Second Plot\n",
        "\n",
        "ax = fig.add_subplot(1,2,2)\n",
        "ax.grid(True)\n",
        "ax.spines['left'].set_position('zero')\n",
        "ax.spines['right'].set_color('none')\n",
        "ax.spines['bottom'].set_position('zero')\n",
        "ax.spines['top'].set_color('none')\n",
        "ax.set_xlim(-10,10)\n",
        "ax.set_ylim(-0.1,0.25)\n",
        "\n",
        "ax.text(3.5, 0.17, r'$DK_{KL}(p||q)$', horizontalalignment='center',fontsize=17)\n",
        "\n",
        "ax.plot(range, KL(range))\n",
        "\n",
        "ax.fill_between(range, 0, KL(range))\n",
        "\n",
        "plt.savefig('KullbackLeibler.png',bbox_inches='tight')\n",
        "plt.show()"
      ],
      "execution_count": 224,
      "outputs": [
        {
          "output_type": "stream",
          "text": [
            "KL:  0.4999997133484283\n"
          ],
          "name": "stdout"
        },
        {
          "output_type": "display_data",
          "data": {
            "image/png": "[encoded data removed]",
            "text/plain": [
              "<Figure size 1800x800 with 2 Axes>"
            ]
          },
          "metadata": {
            "tags": []
          }
        }
      ]
    },
    {
      "cell_type": "code",
      "metadata": {
        "id": "hbbg80iXW-3Y",
        "colab_type": "code",
        "colab": {}
      },
      "source": [
        "def featureNormalization(X):\n",
        "    \"\"\"\n",
        "    Take in numpy array of X values and return normalize X values,\n",
        "    the mean and standard deviation of each feature\n",
        "    \"\"\"\n",
        "    mean=np.mean(X,axis=0)\n",
        "    std=np.std(X,axis=0)\n",
        "    \n",
        "    X_norm = (X - mean)/std\n",
        "    \n",
        "    return X_norm , mean , std"
      ],
      "execution_count": 0,
      "outputs": []
    },
    {
      "cell_type": "code",
      "metadata": {
        "id": "qGOw8_gwWDDg",
        "colab_type": "code",
        "colab": {
          "base_uri": "https://localhost:8080/",
          "height": 52
        },
        "outputId": "43aa98a3-287a-4202-c9be-53c675252860"
      },
      "source": [
        "X_norm , mean , std = featureNormalization(X)\n",
        "print(sum(estimator.predict_proba(X_norm)[:,0]))\n",
        "print(sum((estimator.predict_proba(X_norm)[:,1])))"
      ],
      "execution_count": 241,
      "outputs": [
        {
          "output_type": "stream",
          "text": [
            "95.00853138736687\n",
            "4.991468612633083\n"
          ],
          "name": "stdout"
        }
      ]
    },
    {
      "cell_type": "code",
      "metadata": {
        "id": "QADLgnXOUzWM",
        "colab_type": "code",
        "colab": {
          "base_uri": "https://localhost:8080/",
          "height": 34
        },
        "outputId": "bb7b5495-834e-4ef9-ff54-0cde07c5046f"
      },
      "source": [
        "from scipy.stats import entropy\n",
        "entropy(estimator.predict_proba(X_norm)[:,0], qk=estimator.predict_proba(X_norm)[:,1])"
      ],
      "execution_count": 236,
      "outputs": [
        {
          "output_type": "execute_result",
          "data": {
            "text/plain": [
              "0.0008118536910079976"
            ]
          },
          "metadata": {
            "tags": []
          },
          "execution_count": 236
        }
      ]
    }
  ]
}