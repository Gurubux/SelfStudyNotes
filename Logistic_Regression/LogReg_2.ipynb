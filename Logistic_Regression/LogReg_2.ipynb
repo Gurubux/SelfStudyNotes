{
  "nbformat": 4,
  "nbformat_minor": 0,
  "metadata": {
    "colab": {
      "name": "LogReg_2.ipynb",
      "version": "0.3.2",
      "provenance": [],
      "collapsed_sections": []
    },
    "kernelspec": {
      "name": "python3",
      "display_name": "Python 3"
    }
  },
  "cells": [
    {
      "cell_type": "markdown",
      "metadata": {
        "id": "2rP6WZ2_g6QA",
        "colab_type": "text"
      },
      "source": [
        "[Benjamin Lau](https://towardsdatascience.com/andrew-ngs-machine-learning-course-in-python-regularized-logistic-regression-lasso-regression-721f311130fb)"
      ]
    },
    {
      "cell_type": "code",
      "metadata": {
        "id": "MH8zrmFSg0jY",
        "colab_type": "code",
        "outputId": "e63eb4d8-22c0-4440-b7cb-502d78f5e9cc",
        "colab": {
          "base_uri": "https://localhost:8080/",
          "height": 337
        }
      },
      "source": [
        "import numpy as np\n",
        "import pandas as pd\n",
        "import matplotlib.pyplot as plt\n",
        "df=pd.read_csv(\"/content/ex2data2.txt\", header=None)\n",
        "print(df.describe())\n",
        "df.head()"
      ],
      "execution_count": 3,
      "outputs": [
        {
          "output_type": "stream",
          "text": [
            "                0           1           2\n",
            "count  118.000000  118.000000  118.000000\n",
            "mean     0.054779    0.183102    0.491525\n",
            "std      0.496654    0.519743    0.502060\n",
            "min     -0.830070   -0.769740    0.000000\n",
            "25%     -0.372120   -0.254385    0.000000\n",
            "50%     -0.006336    0.213455    0.000000\n",
            "75%      0.478970    0.646562    1.000000\n",
            "max      1.070900    1.108900    1.000000\n"
          ],
          "name": "stdout"
        },
        {
          "output_type": "execute_result",
          "data": {
            "text/html": [
              "<div>\n",
              "<style scoped>\n",
              "    .dataframe tbody tr th:only-of-type {\n",
              "        vertical-align: middle;\n",
              "    }\n",
              "\n",
              "    .dataframe tbody tr th {\n",
              "        vertical-align: top;\n",
              "    }\n",
              "\n",
              "    .dataframe thead th {\n",
              "        text-align: right;\n",
              "    }\n",
              "</style>\n",
              "<table border=\"1\" class=\"dataframe\">\n",
              "  <thead>\n",
              "    <tr style=\"text-align: right;\">\n",
              "      <th></th>\n",
              "      <th>0</th>\n",
              "      <th>1</th>\n",
              "      <th>2</th>\n",
              "    </tr>\n",
              "  </thead>\n",
              "  <tbody>\n",
              "    <tr>\n",
              "      <th>0</th>\n",
              "      <td>0.051267</td>\n",
              "      <td>0.69956</td>\n",
              "      <td>1</td>\n",
              "    </tr>\n",
              "    <tr>\n",
              "      <th>1</th>\n",
              "      <td>-0.092742</td>\n",
              "      <td>0.68494</td>\n",
              "      <td>1</td>\n",
              "    </tr>\n",
              "    <tr>\n",
              "      <th>2</th>\n",
              "      <td>-0.213710</td>\n",
              "      <td>0.69225</td>\n",
              "      <td>1</td>\n",
              "    </tr>\n",
              "    <tr>\n",
              "      <th>3</th>\n",
              "      <td>-0.375000</td>\n",
              "      <td>0.50219</td>\n",
              "      <td>1</td>\n",
              "    </tr>\n",
              "    <tr>\n",
              "      <th>4</th>\n",
              "      <td>-0.513250</td>\n",
              "      <td>0.46564</td>\n",
              "      <td>1</td>\n",
              "    </tr>\n",
              "  </tbody>\n",
              "</table>\n",
              "</div>"
            ],
            "text/plain": [
              "          0        1  2\n",
              "0  0.051267  0.69956  1\n",
              "1 -0.092742  0.68494  1\n",
              "2 -0.213710  0.69225  1\n",
              "3 -0.375000  0.50219  1\n",
              "4 -0.513250  0.46564  1"
            ]
          },
          "metadata": {
            "tags": []
          },
          "execution_count": 3
        }
      ]
    },
    {
      "cell_type": "code",
      "metadata": {
        "id": "avk8nNk9hmUp",
        "colab_type": "code",
        "outputId": "8faec49e-a16f-4e1f-80a4-8057eb47e3d8",
        "colab": {
          "base_uri": "https://localhost:8080/",
          "height": 300
        }
      },
      "source": [
        "X=df.iloc[:,:-1].values\n",
        "y=df.iloc[:,-1].values\n",
        "pos , neg = (y==1).reshape(118,1) , (y==0).reshape(118,1)\n",
        "\n",
        "plt.scatter(X[pos[:,0],0],X[pos[:,0],1],c=\"r\",marker=\"+\")\n",
        "plt.scatter(X[neg[:,0],0],X[neg[:,0],1],marker=\"o\",s=10)\n",
        "plt.xlabel(\"Test 1\")\n",
        "plt.ylabel(\"Test 2\")\n",
        "plt.legend([\"Accepted\",\"Rejected\"],loc=0)"
      ],
      "execution_count": 4,
      "outputs": [
        {
          "output_type": "execute_result",
          "data": {
            "text/plain": [
              "<matplotlib.legend.Legend at 0x7f789f512c18>"
            ]
          },
          "metadata": {
            "tags": []
          },
          "execution_count": 4
        },
        {
          "output_type": "display_data",
          "data": {
            "image/png": "[encoded data removed]",
            "text/plain": [
              "<Figure size 432x288 with 1 Axes>"
            ]
          },
          "metadata": {
            "tags": []
          }
        }
      ]
    },
    {
      "cell_type": "code",
      "metadata": {
        "id": "ESlFv-IShp0w",
        "colab_type": "code",
        "colab": {}
      },
      "source": [
        "def mapFeature(x1,x2,degree):\n",
        "    \"\"\"\n",
        "    take in numpy array of x1 and x2, return all polynomial terms up to the given degree\n",
        "    \"\"\"\n",
        "    out = np.ones(len(x1)).reshape(len(x1),1)\n",
        "    for i in range(1,degree+1):\n",
        "        for j in range(i+1):\n",
        "            terms= (x1**(i-j) * x2**j).reshape(len(x1),1)\n",
        "            out= np.hstack((out,terms))\n",
        "    return out\n",
        "X = mapFeature(X[:,0], X[:,1],6)"
      ],
      "execution_count": 0,
      "outputs": []
    },
    {
      "cell_type": "code",
      "metadata": {
        "id": "Q_INU3D9hsqg",
        "colab_type": "code",
        "colab": {}
      },
      "source": [
        "def sigmoid(z):\n",
        "    \"\"\"\n",
        "    return the sigmoid of z\n",
        "    \"\"\"\n",
        "    \n",
        "    return 1/ (1 + np.exp(-z))\n",
        "def costFunctionReg(theta, X, y ,Lambda):\n",
        "    \"\"\"\n",
        "    Take in numpy array of theta, X, and y to return the regularize cost function and gradient\n",
        "    of a logistic regression\n",
        "    \"\"\"\n",
        "    \n",
        "    m=len(y)\n",
        "    y=y[:,np.newaxis]\n",
        "    #print(X,X.shape)\n",
        "    #print(theta,theta.shape)\n",
        "    #print(\"(X @ theta).shape-> \",(X @ theta).shape)\n",
        "    predictions = sigmoid(X @ theta)\n",
        "    #print(\"Prediction-> \",predictions.shape,predictions)\n",
        "    error = (-y * np.log(predictions)) - ((1-y)*np.log(1-predictions))\n",
        "    #print(error)\n",
        "    cost = 1/m * sum(error)\n",
        "    #print(cost)\n",
        "    regCost= cost + Lambda/(2*m) * sum(theta**2)\n",
        "    #print(regCost.shape,regCost)\n",
        "    # compute gradient\n",
        "    j_0= 1/m * (X.transpose() @ (predictions - y))[0]\n",
        "    j_1 = 1/m * (X.transpose() @ (predictions - y))[1:] + (Lambda/m)* theta[1:]\n",
        "    grad= np.vstack((j_0[:,np.newaxis],j_1))\n",
        "    return regCost[0], grad"
      ],
      "execution_count": 0,
      "outputs": []
    },
    {
      "cell_type": "code",
      "metadata": {
        "id": "EQUgG2UyhvGv",
        "colab_type": "code",
        "outputId": "d2599c3e-ac15-4383-96a8-cdeb32f69c11",
        "colab": {
          "base_uri": "https://localhost:8080/",
          "height": 50
        }
      },
      "source": [
        "# Initialize fitting parameters\n",
        "initial_theta = np.zeros((X.shape[1], 1))\n",
        "# Set regularization parameter lambda to 1\n",
        "Lambda = 1\n",
        "#Compute and display initial cost and gradient for regularized logistic regression\n",
        "cost, grad=costFunctionReg(initial_theta, X, y, Lambda)\n",
        "print(\"Cost at initial theta (zeros):\",cost)\n",
        "#print(grad)\n",
        "def classifierPredict(theta,X):\n",
        "    \"\"\"\n",
        "    take in numpy array of theta and X and predict the class \n",
        "    \"\"\"\n",
        "    predictions = X.dot(theta)\n",
        "    \n",
        "    return predictions>0\n",
        "p=classifierPredict(initial_theta,X)\n",
        "print(\"Train Accuracy:\", (sum(p==y[:,np.newaxis])/len(y) *100)[0],\"%\")"
      ],
      "execution_count": 7,
      "outputs": [
        {
          "output_type": "stream",
          "text": [
            "Cost at initial theta (zeros): 0.6931471805599461\n",
            "Train Accuracy: 50.847457627118644 %\n"
          ],
          "name": "stdout"
        }
      ]
    },
    {
      "cell_type": "code",
      "metadata": {
        "id": "G0ISre-N-HTj",
        "colab_type": "code",
        "colab": {}
      },
      "source": [
        "# import scipy.optimize as opt\n",
        "# result = opt.fmin_tnc(func=costFunctionReg, x0=initial_theta, fprime=gradientDescent, args=(X, y,Lambda))\n",
        "# result\n",
        "#costFunctionReg(result[0], X, y,Lambda)"
      ],
      "execution_count": 0,
      "outputs": []
    },
    {
      "cell_type": "code",
      "metadata": {
        "id": "kJ0u9MJOhxCH",
        "colab_type": "code",
        "outputId": "17a9f5b8-354b-4bed-b1a8-c75c8e6a66d9",
        "colab": {
          "base_uri": "https://localhost:8080/",
          "height": 521
        }
      },
      "source": [
        "def gradientDescent(theta,X,y,Lambda):\n",
        "    \"\"\"\n",
        "    Take in numpy array X, y and theta and update theta by taking num_iters gradient steps\n",
        "    with learning rate of alpha\n",
        "    \n",
        "    return theta and the list of the cost of theta during each iteration\n",
        "    \"\"\"\n",
        "    alpha,num_iters = 0.01,10000\n",
        "    m=len(y)\n",
        "    J_history =[]\n",
        "    for i in range(num_iters):\n",
        "        cost, grad = costFunctionReg(theta,X,y,Lambda)\n",
        "        theta = theta - (alpha * grad)\n",
        "        J_history.append(cost)\n",
        "    return theta , J_history\n",
        "theta , J_history = gradientDescent(initial_theta,X,y,1)\n",
        "print(\"The regularized theta using ridge regression:\\n\",theta)\n",
        "print(\"min Cost--> \",J_history.index(min(J_history)),min(J_history))\n",
        "print(\"max Cost--> \",J_history.index(max(J_history)),max(J_history))"
      ],
      "execution_count": 9,
      "outputs": [
        {
          "output_type": "stream",
          "text": [
            "The regularized theta using ridge regression:\n",
            " [[ 1.01751236e+00]\n",
            " [ 4.43195884e-01]\n",
            " [ 9.52036236e-01]\n",
            " [-1.62491923e+00]\n",
            " [-6.21366553e-01]\n",
            " [-9.94547287e-01]\n",
            " [ 3.25486613e-02]\n",
            " [-2.67509056e-01]\n",
            " [-2.67171844e-01]\n",
            " [-1.91241027e-01]\n",
            " [-1.21974336e+00]\n",
            " [-5.88885147e-02]\n",
            " [-4.74324697e-01]\n",
            " [-1.75802478e-01]\n",
            " [-9.82886112e-01]\n",
            " [-2.46886003e-01]\n",
            " [-1.65203476e-01]\n",
            " [-5.96279358e-02]\n",
            " [-2.08232656e-01]\n",
            " [-2.04751951e-01]\n",
            " [-4.96074259e-01]\n",
            " [-8.91622482e-01]\n",
            " [ 2.93091879e-04]\n",
            " [-2.33670040e-01]\n",
            " [ 4.37328790e-05]\n",
            " [-2.56047034e-01]\n",
            " [-8.56889956e-02]\n",
            " [-8.67719051e-01]]\n",
            "min Cost-->  9999 0.5388154553608921\n",
            "max Cost-->  0 0.6931471805599461\n"
          ],
          "name": "stdout"
        }
      ]
    },
    {
      "cell_type": "code",
      "metadata": {
        "id": "qGm8a_oNyycj",
        "colab_type": "code",
        "colab": {}
      },
      "source": [
        "# import scipy.optimize as opt\n",
        "# result = opt.fmin_tnc(func=costFunctionReg, x0=initial_theta, fprime=gradientDescent, args=(X, y,Lambda))\n",
        "# costFunctionReg(result[0], X, y,Lambda)"
      ],
      "execution_count": 0,
      "outputs": []
    },
    {
      "cell_type": "code",
      "metadata": {
        "id": "Ue7lIpYm1v9D",
        "colab_type": "code",
        "colab": {}
      },
      "source": [
        "#X.transpose().shape"
      ],
      "execution_count": 0,
      "outputs": []
    },
    {
      "cell_type": "code",
      "metadata": {
        "id": "gc9WEd381vyz",
        "colab_type": "code",
        "colab": {}
      },
      "source": [
        "# predictions = sigmoid(X @ initial_theta)\n",
        "# zz = predictions - y[:,np.newaxis]\n",
        "# zz.shape"
      ],
      "execution_count": 0,
      "outputs": []
    },
    {
      "cell_type": "code",
      "metadata": {
        "id": "usCTDblI2VCr",
        "colab_type": "code",
        "colab": {}
      },
      "source": [
        "# zzz = (Lambda/len(y))* initial_theta[1:]\n",
        "# zzz.shape"
      ],
      "execution_count": 0,
      "outputs": []
    },
    {
      "cell_type": "code",
      "metadata": {
        "id": "HEhcz0yG2mdb",
        "colab_type": "code",
        "colab": {}
      },
      "source": [
        "# zzzz = X.transpose() @ zz\n",
        "# zzzz[1:].shape"
      ],
      "execution_count": 0,
      "outputs": []
    },
    {
      "cell_type": "code",
      "metadata": {
        "id": "EWTiPK6j29Hi",
        "colab_type": "code",
        "colab": {}
      },
      "source": [
        "#1/len(y) * (zzz + zzzz[1:])"
      ],
      "execution_count": 0,
      "outputs": []
    },
    {
      "cell_type": "code",
      "metadata": {
        "id": "er88Io733oLz",
        "colab_type": "code",
        "colab": {}
      },
      "source": [
        "#1/len(y) * (X.transpose() @ (sigmoid(X @ initial_theta) - y[:,np.newaxis]))[1:] + (Lambda/len(y))* initial_theta[1:]"
      ],
      "execution_count": 0,
      "outputs": []
    },
    {
      "cell_type": "code",
      "metadata": {
        "id": "kz-ubLL56WjT",
        "colab_type": "code",
        "colab": {}
      },
      "source": [
        "# j_0_= 1/len(y) * (X.transpose() @ (sigmoid(X @ initial_theta) - y[:,np.newaxis]))[0]\n",
        "# j_1_ = 1/len(y) * (X.transpose() @ (sigmoid(X @ initial_theta) - y[:,np.newaxis]))[1:] + (Lambda/len(y))* initial_theta[1:]\n",
        "# print(j_0_[:,np.newaxis].shape,j_0_[:,np.newaxis])\n",
        "# print(j_1_.shape,j_1_)\n",
        "# grad= np.vstack((j_0_[:,np.newaxis],j_1_))\n",
        "# print(grad.shape)\n",
        "# grad"
      ],
      "execution_count": 0,
      "outputs": []
    },
    {
      "cell_type": "code",
      "metadata": {
        "id": "PpLekbobiGCX",
        "colab_type": "code",
        "outputId": "0d1dfcca-ccc9-4580-fe21-8be25d255c78",
        "colab": {
          "base_uri": "https://localhost:8080/",
          "height": 316
        }
      },
      "source": [
        "def mapFeaturePlot(x1,x2,degree):\n",
        "    \"\"\"\n",
        "    take in numpy array of x1 and x2, return all polynomial terms up to the given degree\n",
        "    \"\"\"\n",
        "    out = np.ones(1)\n",
        "    for i in range(1,degree+1):\n",
        "        for j in range(i+1):\n",
        "            terms= (x1**(i-j) * x2**j)\n",
        "            out= np.hstack((out,terms))\n",
        "            #print(out.shape)\n",
        "    return out\n",
        "plt.scatter(X[pos[:,0],1],X[pos[:,0],2],c=\"r\",marker=\"+\",label=\"Admitted\")\n",
        "plt.scatter(X[neg[:,0],1],X[neg[:,0],2],c=\"b\",marker=\"x\",label=\"Not admitted\")\n",
        "# Plotting decision boundary\n",
        "u_vals = np.linspace(-1,1.5,50)\n",
        "v_vals= np.linspace(-1,1.5,50)\n",
        "z=np.zeros((len(u_vals),len(v_vals)))\n",
        "print(theta.shape)\n",
        "for i in range(len(u_vals)):\n",
        "    for j in range(len(v_vals)):\n",
        "        z[i,j] =mapFeaturePlot(u_vals[i],v_vals[j],6) @ theta\n",
        "plt.contour(u_vals,v_vals,z.T,0)\n",
        "plt.xlabel(\"Exam 1 score\")\n",
        "plt.ylabel(\"Exam 2 score\")\n",
        "plt.legend(loc=0)"
      ],
      "execution_count": 18,
      "outputs": [
        {
          "output_type": "stream",
          "text": [
            "(28, 1)\n"
          ],
          "name": "stdout"
        },
        {
          "output_type": "execute_result",
          "data": {
            "text/plain": [
              "<matplotlib.legend.Legend at 0x7f789cc13c88>"
            ]
          },
          "metadata": {
            "tags": []
          },
          "execution_count": 18
        },
        {
          "output_type": "display_data",
          "data": {
            "image/png": "[encoded data removed]",
            "text/plain": [
              "<Figure size 432x288 with 1 Axes>"
            ]
          },
          "metadata": {
            "tags": []
          }
        }
      ]
    },
    {
      "cell_type": "code",
      "metadata": {
        "id": "M8Ai9YlSiIwe",
        "colab_type": "code",
        "outputId": "89815b0c-eca8-4bd3-928f-680c493359c4",
        "colab": {
          "base_uri": "https://localhost:8080/",
          "height": 33
        }
      },
      "source": [
        "def classifierPredict(theta,X):\n",
        "    \"\"\"\n",
        "    take in numpy array of theta and X and predict the class \n",
        "    \"\"\"\n",
        "    predictions = X.dot(theta)\n",
        "    \n",
        "    return predictions>0\n",
        "p=classifierPredict(theta,X)\n",
        "print(\"Train Accuracy:\", (sum(p==y[:,np.newaxis])/len(y) *100)[0],\"%\")"
      ],
      "execution_count": 19,
      "outputs": [
        {
          "output_type": "stream",
          "text": [
            "Train Accuracy: 83.05084745762711 %\n"
          ],
          "name": "stdout"
        }
      ]
    },
    {
      "cell_type": "code",
      "metadata": {
        "id": "Vvp9SfiaiK7w",
        "colab_type": "code",
        "outputId": "fc334e28-f302-4cad-acce-9ec3238a751e",
        "colab": {
          "base_uri": "https://localhost:8080/",
          "height": 537
        }
      },
      "source": [
        "from sklearn.linear_model import LogisticRegression\n",
        "clf = LogisticRegression(penalty=\"elasticnet\",solver='saga',l1_ratio=0)\n",
        "clf.fit(X,y)\n",
        "thetaLasso=clf.coef_\n",
        "print(\"The regularized theta using lasso regression:\\n\",thetaLasso.reshape(28,1))\n",
        "p_=classifierPredict(thetaLasso.reshape(28,1),X)\n",
        "print(\"lasso Train Accuracy:\", (sum(p_==y[:,np.newaxis])/len(y) *100)[0],\"%\")"
      ],
      "execution_count": 20,
      "outputs": [
        {
          "output_type": "stream",
          "text": [
            "The regularized theta using lasso regression:\n",
            " [[ 0.00519278]\n",
            " [ 0.62517395]\n",
            " [ 1.18102853]\n",
            " [-2.01942818]\n",
            " [-0.91738695]\n",
            " [-1.43106007]\n",
            " [ 0.1240259 ]\n",
            " [-0.36556492]\n",
            " [-0.35721254]\n",
            " [-0.17512811]\n",
            " [-1.45808783]\n",
            " [-0.05096968]\n",
            " [-0.61556535]\n",
            " [-0.27466979]\n",
            " [-1.19275842]\n",
            " [-0.24219648]\n",
            " [-0.20601899]\n",
            " [-0.0447374 ]\n",
            " [-0.27780556]\n",
            " [-0.2953543 ]\n",
            " [-0.45642558]\n",
            " [-1.04322428]\n",
            " [ 0.02778238]\n",
            " [-0.29245578]\n",
            " [ 0.01557692]\n",
            " [-0.32740885]\n",
            " [-0.14385549]\n",
            " [-0.9247315 ]]\n",
            "lasso Train Accuracy: 54.23728813559322 %\n"
          ],
          "name": "stdout"
        },
        {
          "output_type": "stream",
          "text": [
            "/usr/local/lib/python3.6/dist-packages/sklearn/linear_model/sag.py:337: ConvergenceWarning: The max_iter was reached which means the coef_ did not converge\n",
            "  \"the coef_ did not converge\", ConvergenceWarning)\n"
          ],
          "name": "stderr"
        }
      ]
    },
    {
      "cell_type": "code",
      "metadata": {
        "id": "WtitBAhzMk7s",
        "colab_type": "code",
        "outputId": "29c39722-034a-4e24-832c-5f8326ec3530",
        "colab": {
          "base_uri": "https://localhost:8080/",
          "height": 316
        }
      },
      "source": [
        "def mapFeaturePlot(x1,x2,degree):\n",
        "    \"\"\"\n",
        "    take in numpy array of x1 and x2, return all polynomial terms up to the given degree\n",
        "    \"\"\"\n",
        "    out = np.ones(1)\n",
        "    for i in range(1,degree+1):\n",
        "        for j in range(i+1):\n",
        "            terms= (x1**(i-j) * x2**j)\n",
        "            out= np.hstack((out,terms))\n",
        "            #print(out.shape)\n",
        "    return out\n",
        "plt.scatter(X[pos[:,0],1],X[pos[:,0],2],c=\"r\",marker=\"+\",label=\"Admitted\")\n",
        "plt.scatter(X[neg[:,0],1],X[neg[:,0],2],c=\"b\",marker=\"x\",label=\"Not admitted\")\n",
        "# Plotting decision boundary\n",
        "u_vals = np.linspace(-1,1.5,50)\n",
        "v_vals= np.linspace(-1,1.5,50)\n",
        "z=np.zeros((len(u_vals),len(v_vals)))\n",
        "print(theta.shape)\n",
        "for i in range(len(u_vals)):\n",
        "    for j in range(len(v_vals)):\n",
        "        z[i,j] =mapFeaturePlot(u_vals[i],v_vals[j],6) @ thetaLasso.reshape(28,1)\n",
        "plt.contour(u_vals,v_vals,z.T,0)\n",
        "plt.xlabel(\"Exam 1 score\")\n",
        "plt.ylabel(\"Exam 2 score\")\n",
        "plt.legend(loc=0)"
      ],
      "execution_count": 21,
      "outputs": [
        {
          "output_type": "stream",
          "text": [
            "(28, 1)\n"
          ],
          "name": "stdout"
        },
        {
          "output_type": "execute_result",
          "data": {
            "text/plain": [
              "<matplotlib.legend.Legend at 0x7f7890a17f28>"
            ]
          },
          "metadata": {
            "tags": []
          },
          "execution_count": 21
        },
        {
          "output_type": "display_data",
          "data": {
            "image/png": "[encoded data removed]",
            "text/plain": [
              "<Figure size 432x288 with 1 Axes>"
            ]
          },
          "metadata": {
            "tags": []
          }
        }
      ]
    },
    {
      "cell_type": "code",
      "metadata": {
        "id": "sZ8AHWvLOo7r",
        "colab_type": "code",
        "outputId": "f2d7fef9-f42f-4fea-9a6a-ae1ee36b966e",
        "colab": {
          "base_uri": "https://localhost:8080/",
          "height": 537
        }
      },
      "source": [
        "from sklearn.linear_model import LogisticRegression\n",
        "clf = LogisticRegression(penalty=\"elasticnet\",solver='saga',l1_ratio=1)\n",
        "clf.fit(X,y)\n",
        "thetaEN=clf.coef_\n",
        "print(\"The regularized theta using lasso regression:\\n\",thetaLasso.reshape(28,1))\n",
        "p_=classifierPredict(thetaEN.reshape(28,1),X)\n",
        "print(\"lasso Train Accuracy:\", (sum(p_==y[:,np.newaxis])/len(y) *100)[0],\"%\")"
      ],
      "execution_count": 22,
      "outputs": [
        {
          "output_type": "stream",
          "text": [
            "The regularized theta using lasso regression:\n",
            " [[ 0.00519278]\n",
            " [ 0.62517395]\n",
            " [ 1.18102853]\n",
            " [-2.01942818]\n",
            " [-0.91738695]\n",
            " [-1.43106007]\n",
            " [ 0.1240259 ]\n",
            " [-0.36556492]\n",
            " [-0.35721254]\n",
            " [-0.17512811]\n",
            " [-1.45808783]\n",
            " [-0.05096968]\n",
            " [-0.61556535]\n",
            " [-0.27466979]\n",
            " [-1.19275842]\n",
            " [-0.24219648]\n",
            " [-0.20601899]\n",
            " [-0.0447374 ]\n",
            " [-0.27780556]\n",
            " [-0.2953543 ]\n",
            " [-0.45642558]\n",
            " [-1.04322428]\n",
            " [ 0.02778238]\n",
            " [-0.29245578]\n",
            " [ 0.01557692]\n",
            " [-0.32740885]\n",
            " [-0.14385549]\n",
            " [-0.9247315 ]]\n",
            "lasso Train Accuracy: 50.847457627118644 %\n"
          ],
          "name": "stdout"
        },
        {
          "output_type": "stream",
          "text": [
            "/usr/local/lib/python3.6/dist-packages/sklearn/linear_model/sag.py:337: ConvergenceWarning: The max_iter was reached which means the coef_ did not converge\n",
            "  \"the coef_ did not converge\", ConvergenceWarning)\n"
          ],
          "name": "stderr"
        }
      ]
    },
    {
      "cell_type": "code",
      "metadata": {
        "id": "chOfwLQfOwvC",
        "colab_type": "code",
        "outputId": "6dbbfc84-5434-4556-99ff-1773cc5e7d48",
        "colab": {
          "base_uri": "https://localhost:8080/",
          "height": 316
        }
      },
      "source": [
        "plt.scatter(X[pos[:,0],1],X[pos[:,0],2],c=\"r\",marker=\"+\",label=\"Admitted\")\n",
        "plt.scatter(X[neg[:,0],1],X[neg[:,0],2],c=\"b\",marker=\"x\",label=\"Not admitted\")\n",
        "# Plotting decision boundary\n",
        "u_vals = np.linspace(-1,1.5,50)\n",
        "v_vals= np.linspace(-1,1.5,50)\n",
        "z=np.zeros((len(u_vals),len(v_vals)))\n",
        "print(theta.shape)\n",
        "for i in range(len(u_vals)):\n",
        "    for j in range(len(v_vals)):\n",
        "        z[i,j] =mapFeaturePlot(u_vals[i],v_vals[j],6) @ thetaEN.reshape(28,1)\n",
        "plt.contour(u_vals,v_vals,z.T,0)\n",
        "plt.xlabel(\"Exam 1 score\")\n",
        "plt.ylabel(\"Exam 2 score\")\n",
        "plt.legend(loc=0)"
      ],
      "execution_count": 23,
      "outputs": [
        {
          "output_type": "stream",
          "text": [
            "(28, 1)\n"
          ],
          "name": "stdout"
        },
        {
          "output_type": "execute_result",
          "data": {
            "text/plain": [
              "<matplotlib.legend.Legend at 0x7f789098b7f0>"
            ]
          },
          "metadata": {
            "tags": []
          },
          "execution_count": 23
        },
        {
          "output_type": "display_data",
          "data": {
            "image/png": "[encoded data removed]",
            "text/plain": [
              "<Figure size 432x288 with 1 Axes>"
            ]
          },
          "metadata": {
            "tags": []
          }
        }
      ]
    }
  ]
}