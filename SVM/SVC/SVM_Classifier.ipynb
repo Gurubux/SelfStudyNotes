{
  "nbformat": 4,
  "nbformat_minor": 0,
  "metadata": {
    "colab": {
      "name": "SVM_Classifier.ipynb",
      "version": "0.3.2",
      "provenance": [],
      "collapsed_sections": [],
      "toc_visible": true
    },
    "kernelspec": {
      "name": "python3",
      "display_name": "Python 3"
    }
  },
  "cells": [
    {
      "cell_type": "markdown",
      "metadata": {
        "id": "sNguU36bKUZK",
        "colab_type": "text"
      },
      "source": [
        "# Support Vector Machines (SVM) on several 2D data"
      ]
    },
    {
      "cell_type": "code",
      "metadata": {
        "id": "q-DZBn5OKP7U",
        "colab_type": "code",
        "colab": {}
      },
      "source": [
        "import numpy as np\n",
        "import pandas as pd\n",
        "import matplotlib.pyplot as plt\n",
        "from scipy.io import loadmat"
      ],
      "execution_count": 0,
      "outputs": []
    },
    {
      "cell_type": "code",
      "metadata": {
        "id": "2uhv_LmoYnik",
        "colab_type": "code",
        "colab": {}
      },
      "source": [
        "# from google.colab import drive\n",
        "# drive.mount('/content/drive')"
      ],
      "execution_count": 0,
      "outputs": []
    },
    {
      "cell_type": "code",
      "metadata": {
        "id": "oOovOgk6Ki_R",
        "colab_type": "code",
        "colab": {
          "base_uri": "https://localhost:8080/",
          "height": 176
        },
        "outputId": "1f1043e1-5f48-4c25-97e2-aca0c79e82e7"
      },
      "source": [
        "mat = loadmat(\"/content/drive/My Drive/svc_datasets/ex6data1.mat\")\n",
        "X = mat[\"X\"]\n",
        "y = mat[\"y\"]\n",
        "X[:5],y[:5]"
      ],
      "execution_count": 33,
      "outputs": [
        {
          "output_type": "execute_result",
          "data": {
            "text/plain": [
              "(array([[1.9643, 4.5957],\n",
              "        [2.2753, 3.8589],\n",
              "        [2.9781, 4.5651],\n",
              "        [2.932 , 3.5519],\n",
              "        [3.5772, 2.856 ]]), array([[1],\n",
              "        [1],\n",
              "        [1],\n",
              "        [1],\n",
              "        [1]], dtype=uint8))"
            ]
          },
          "metadata": {
            "tags": []
          },
          "execution_count": 33
        }
      ]
    },
    {
      "cell_type": "code",
      "metadata": {
        "id": "zURUuCPRLBLM",
        "colab_type": "code",
        "colab": {
          "base_uri": "https://localhost:8080/",
          "height": 286
        },
        "outputId": "0484ec58-f43f-4929-843d-49e66bbbd3a5"
      },
      "source": [
        "m,n = X.shape[0],X.shape[1]\n",
        "pos,neg= (y==1).reshape(m,1), (y==0).reshape(m,1)\n",
        "plt.scatter(X[pos[:,0],0],X[pos[:,0],1],c=\"r\",marker=\"+\",s=50)\n",
        "plt.scatter(X[neg[:,0],0],X[neg[:,0],1],c=\"y\",marker=\"o\",s=50)"
      ],
      "execution_count": 34,
      "outputs": [
        {
          "output_type": "execute_result",
          "data": {
            "text/plain": [
              "<matplotlib.collections.PathCollection at 0x7fe3887b0128>"
            ]
          },
          "metadata": {
            "tags": []
          },
          "execution_count": 34
        },
        {
          "output_type": "display_data",
          "data": {
            "image/png": "[encoded data removed]",
            "text/plain": [
              "<Figure size 432x288 with 1 Axes>"
            ]
          },
          "metadata": {
            "tags": []
          }
        }
      ]
    },
    {
      "cell_type": "markdown",
      "metadata": {
        "id": "KaPi4oKuN1ng",
        "colab_type": "text"
      },
      "source": [
        "## SVM with Linear kernels - linear - C = 1.0 (default )\n",
        "**Dataset 1**"
      ]
    },
    {
      "cell_type": "code",
      "metadata": {
        "id": "VAZUwEV0KjOo",
        "colab_type": "code",
        "colab": {
          "base_uri": "https://localhost:8080/",
          "height": 87
        },
        "outputId": "b4cdd392-0a4d-4366-d34c-8a25c3b2e63a"
      },
      "source": [
        "from sklearn.svm import SVC\n",
        "classifier = SVC(kernel=\"linear\")\n",
        "classifier.fit(X,np.ravel(y))"
      ],
      "execution_count": 35,
      "outputs": [
        {
          "output_type": "execute_result",
          "data": {
            "text/plain": [
              "SVC(C=1.0, cache_size=200, class_weight=None, coef0=0.0,\n",
              "    decision_function_shape='ovr', degree=3, gamma='auto_deprecated',\n",
              "    kernel='linear', max_iter=-1, probability=False, random_state=None,\n",
              "    shrinking=True, tol=0.001, verbose=False)"
            ]
          },
          "metadata": {
            "tags": []
          },
          "execution_count": 35
        }
      ]
    },
    {
      "cell_type": "code",
      "metadata": {
        "id": "4XsyhkFAKjZY",
        "colab_type": "code",
        "colab": {
          "base_uri": "https://localhost:8080/",
          "height": 395
        },
        "outputId": "edcdd281-e69e-4e22-c434-3427d653cc17"
      },
      "source": [
        "plt.figure(figsize=(8,6))\n",
        "plt.scatter(X[pos[:,0],0],X[pos[:,0],1],c=\"r\",marker=\"+\",s=50)\n",
        "plt.scatter(X[neg[:,0],0],X[neg[:,0],1],c=\"y\",marker=\"o\",s=50)\n",
        "\n",
        "# plotting the decision boundary\n",
        "X_1,X_2 = np.meshgrid(np.linspace(X[:,0].min(),X[:,1].max(),num=100),np.linspace(X[:,1].min(),X[:,1].max(),num=100))\n",
        "plt.contour(X_1,X_2,classifier.predict(np.array([X_1.ravel(),X_2.ravel()]).T).reshape(X_1.shape),1,colors=\"b\")\n",
        "plt.xlim(0,4.5)\n",
        "plt.ylim(1.5,5)"
      ],
      "execution_count": 36,
      "outputs": [
        {
          "output_type": "execute_result",
          "data": {
            "text/plain": [
              "(1.5, 5)"
            ]
          },
          "metadata": {
            "tags": []
          },
          "execution_count": 36
        },
        {
          "output_type": "display_data",
          "data": {
            "image/png": "[encoded data removed]",
            "text/plain": [
              "<Figure size 576x432 with 1 Axes>"
            ]
          },
          "metadata": {
            "tags": []
          }
        }
      ]
    },
    {
      "cell_type": "code",
      "metadata": {
        "id": "38-nKh3yZCwG",
        "colab_type": "code",
        "colab": {
          "base_uri": "https://localhost:8080/",
          "height": 34
        },
        "outputId": "5648e35f-939f-49d9-cfd1-155ac862b509"
      },
      "source": [
        "pred = classifier.predict(np.array([X_1.ravel(),X_2.ravel()]).T)\n",
        "pred[:5]"
      ],
      "execution_count": 37,
      "outputs": [
        {
          "output_type": "execute_result",
          "data": {
            "text/plain": [
              "array([0, 0, 0, 0, 0], dtype=uint8)"
            ]
          },
          "metadata": {
            "tags": []
          },
          "execution_count": 37
        }
      ]
    },
    {
      "cell_type": "markdown",
      "metadata": {
        "id": "r9qrv_4wXvfI",
        "colab_type": "text"
      },
      "source": [
        "## SVM with Linear kernels - linear - C = 100 -> Overfits"
      ]
    },
    {
      "cell_type": "code",
      "metadata": {
        "id": "N_6BezDEKjhw",
        "colab_type": "code",
        "colab": {
          "base_uri": "https://localhost:8080/",
          "height": 87
        },
        "outputId": "c23df37b-653a-4239-bdfc-c4091fe421ac"
      },
      "source": [
        "# Test C = 100\n",
        "classifier2 = SVC(C=100,kernel=\"linear\")\n",
        "classifier2.fit(X,np.ravel(y))"
      ],
      "execution_count": 38,
      "outputs": [
        {
          "output_type": "execute_result",
          "data": {
            "text/plain": [
              "SVC(C=100, cache_size=200, class_weight=None, coef0=0.0,\n",
              "    decision_function_shape='ovr', degree=3, gamma='auto_deprecated',\n",
              "    kernel='linear', max_iter=-1, probability=False, random_state=None,\n",
              "    shrinking=True, tol=0.001, verbose=False)"
            ]
          },
          "metadata": {
            "tags": []
          },
          "execution_count": 38
        }
      ]
    },
    {
      "cell_type": "code",
      "metadata": {
        "id": "gaIc6GVCKjsy",
        "colab_type": "code",
        "colab": {
          "base_uri": "https://localhost:8080/",
          "height": 395
        },
        "outputId": "dbe5f93b-918e-474b-fa43-a4624da5abcd"
      },
      "source": [
        "plt.figure(figsize=(8,6))\n",
        "plt.scatter(X[pos[:,0],0],X[pos[:,0],1],c=\"r\",marker=\"+\",s=50)\n",
        "plt.scatter(X[neg[:,0],0],X[neg[:,0],1],c=\"y\",marker=\"o\",s=50)\n",
        "\n",
        "# plotting the decision boundary\n",
        "X_3,X_4 = np.meshgrid(np.linspace(X[:,0].min(),X[:,1].max(),num=100),np.linspace(X[:,1].min(),X[:,1].max(),num=100))\n",
        "plt.contour(X_3,X_4,classifier2.predict(np.array([X_3.ravel(),X_4.ravel()]).T).reshape(X_3.shape),1,colors=\"b\")\n",
        "plt.xlim(0,4.5)\n",
        "plt.ylim(1.5,5)"
      ],
      "execution_count": 39,
      "outputs": [
        {
          "output_type": "execute_result",
          "data": {
            "text/plain": [
              "(1.5, 5)"
            ]
          },
          "metadata": {
            "tags": []
          },
          "execution_count": 39
        },
        {
          "output_type": "display_data",
          "data": {
            "image/png": "[encoded data removed]",
            "text/plain": [
              "<Figure size 576x432 with 1 Axes>"
            ]
          },
          "metadata": {
            "tags": []
          }
        }
      ]
    },
    {
      "cell_type": "code",
      "metadata": {
        "id": "5YG4TmmvKjoA",
        "colab_type": "code",
        "colab": {
          "base_uri": "https://localhost:8080/",
          "height": 34
        },
        "outputId": "7d14a44f-fca4-498b-ced2-755f08e562b4"
      },
      "source": [
        "pred2 = classifier2.predict(np.array([X_1.ravel(),X_2.ravel()]).T)\n",
        "pred[:5]"
      ],
      "execution_count": 40,
      "outputs": [
        {
          "output_type": "execute_result",
          "data": {
            "text/plain": [
              "array([0, 0, 0, 0, 0], dtype=uint8)"
            ]
          },
          "metadata": {
            "tags": []
          },
          "execution_count": 40
        }
      ]
    },
    {
      "cell_type": "markdown",
      "metadata": {
        "id": "TPdqeYq3NdL6",
        "colab_type": "text"
      },
      "source": [
        "## SVM with gaussian kernels - rbf\n",
        "**Dataset 2**"
      ]
    },
    {
      "cell_type": "code",
      "metadata": {
        "id": "leveckHeKjwS",
        "colab_type": "code",
        "colab": {
          "base_uri": "https://localhost:8080/",
          "height": 176
        },
        "outputId": "6a046417-2878-4ddc-ba0b-d125c78d4120"
      },
      "source": [
        "mat2 = loadmat(\"/content/drive/My Drive/svc_datasets/ex6data2.mat\")\n",
        "X2 = mat2[\"X\"]\n",
        "y2 = mat2[\"y\"]\n",
        "X2[:5],y2[:5]"
      ],
      "execution_count": 41,
      "outputs": [
        {
          "output_type": "execute_result",
          "data": {
            "text/plain": [
              "(array([[0.107143 , 0.60307  ],\n",
              "        [0.093318 , 0.649854 ],\n",
              "        [0.0979263, 0.705409 ],\n",
              "        [0.15553  , 0.784357 ],\n",
              "        [0.210829 , 0.866228 ]]), array([[1],\n",
              "        [1],\n",
              "        [1],\n",
              "        [1],\n",
              "        [1]], dtype=uint8))"
            ]
          },
          "metadata": {
            "tags": []
          },
          "execution_count": 41
        }
      ]
    },
    {
      "cell_type": "code",
      "metadata": {
        "id": "HnDiqA63Nlvj",
        "colab_type": "code",
        "colab": {
          "base_uri": "https://localhost:8080/",
          "height": 395
        },
        "outputId": "b3cf3423-37b2-4865-a3ab-50ce49eab3b1"
      },
      "source": [
        "m2,n2 = X2.shape[0],X2.shape[1]\n",
        "pos2,neg2= (y2==1).reshape(m2,1), (y2==0).reshape(m2,1)\n",
        "plt.figure(figsize=(8,6))\n",
        "plt.scatter(X2[pos2[:,0],0],X2[pos2[:,0],1],c=\"r\",marker=\"+\")\n",
        "plt.scatter(X2[neg2[:,0],0],X2[neg2[:,0],1],c=\"y\",marker=\"o\")\n",
        "plt.xlim(0,1)\n",
        "plt.ylim(0.4,1)"
      ],
      "execution_count": 42,
      "outputs": [
        {
          "output_type": "execute_result",
          "data": {
            "text/plain": [
              "(0.4, 1)"
            ]
          },
          "metadata": {
            "tags": []
          },
          "execution_count": 42
        },
        {
          "output_type": "display_data",
          "data": {
            "image/png": "[encoded data removed]",
            "text/plain": [
              "<Figure size 576x432 with 1 Axes>"
            ]
          },
          "metadata": {
            "tags": []
          }
        }
      ]
    },
    {
      "cell_type": "code",
      "metadata": {
        "id": "9NOmWQWQNvZh",
        "colab_type": "code",
        "colab": {
          "base_uri": "https://localhost:8080/",
          "height": 87
        },
        "outputId": "a1a1330c-831b-49cc-ee58-7fd074f1287a"
      },
      "source": [
        "classifier3 = SVC(kernel=\"rbf\",gamma=30)\n",
        "classifier3.fit(X2,y2.ravel())"
      ],
      "execution_count": 43,
      "outputs": [
        {
          "output_type": "execute_result",
          "data": {
            "text/plain": [
              "SVC(C=1.0, cache_size=200, class_weight=None, coef0=0.0,\n",
              "    decision_function_shape='ovr', degree=3, gamma=30, kernel='rbf',\n",
              "    max_iter=-1, probability=False, random_state=None, shrinking=True,\n",
              "    tol=0.001, verbose=False)"
            ]
          },
          "metadata": {
            "tags": []
          },
          "execution_count": 43
        }
      ]
    },
    {
      "cell_type": "code",
      "metadata": {
        "id": "VqGzQTARNvVT",
        "colab_type": "code",
        "colab": {
          "base_uri": "https://localhost:8080/",
          "height": 395
        },
        "outputId": "09d3717f-0e2a-45c8-8bc9-3b0136895629"
      },
      "source": [
        "plt.figure(figsize=(8,6))\n",
        "plt.scatter(X2[pos2[:,0],0],X2[pos2[:,0],1],c=\"r\",marker=\"+\")\n",
        "plt.scatter(X2[neg2[:,0],0],X2[neg2[:,0],1],c=\"y\",marker=\"o\")\n",
        "\n",
        "\n",
        "# plotting the decision boundary\n",
        "X_5,X_6 = np.meshgrid(np.linspace(X2[:,0].min(),X2[:,1].max(),num=100),np.linspace(X2[:,1].min(),X2[:,1].max(),num=100))\n",
        "plt.contour(X_5,X_6,classifier3.predict(np.array([X_5.ravel(),X_6.ravel()]).T).reshape(X_5.shape),1,colors=\"b\")\n",
        "plt.xlim(0,1)\n",
        "plt.ylim(0.4,1)"
      ],
      "execution_count": 44,
      "outputs": [
        {
          "output_type": "execute_result",
          "data": {
            "text/plain": [
              "(0.4, 1)"
            ]
          },
          "metadata": {
            "tags": []
          },
          "execution_count": 44
        },
        {
          "output_type": "display_data",
          "data": {
            "image/png": "[encoded data removed]",
            "text/plain": [
              "<Figure size 576x432 with 1 Axes>"
            ]
          },
          "metadata": {
            "tags": []
          }
        }
      ]
    },
    {
      "cell_type": "code",
      "metadata": {
        "id": "oUwlHX6DN_ih",
        "colab_type": "code",
        "colab": {
          "base_uri": "https://localhost:8080/",
          "height": 34
        },
        "outputId": "ba060228-25fc-4506-ae24-0c736675625d"
      },
      "source": [
        "pred_2=classifier3.predict(np.array([X_5.ravel(),X_6.ravel()]).T)\n",
        "pred_2[:5]"
      ],
      "execution_count": 45,
      "outputs": [
        {
          "output_type": "execute_result",
          "data": {
            "text/plain": [
              "array([1, 1, 1, 1, 1], dtype=uint8)"
            ]
          },
          "metadata": {
            "tags": []
          },
          "execution_count": 45
        }
      ]
    },
    {
      "cell_type": "markdown",
      "metadata": {
        "id": "9xpMBDxeOTTk",
        "colab_type": "text"
      },
      "source": [
        "## SVM - cross-validation\n",
        "**Dataset 3**"
      ]
    },
    {
      "cell_type": "code",
      "metadata": {
        "id": "LOEDAzSeOS_H",
        "colab_type": "code",
        "colab": {
          "base_uri": "https://localhost:8080/",
          "height": 318
        },
        "outputId": "ac982f24-7f3e-4614-c468-213971f2b2fb"
      },
      "source": [
        "mat3 = loadmat(\"/content/drive/My Drive/svc_datasets/ex6data3.mat\")\n",
        "X3 = mat3[\"X\"]\n",
        "y3 = mat3[\"y\"]\n",
        "Xval = mat3[\"Xval\"]\n",
        "yval = mat3[\"yval\"]\n",
        "X3[:5],y3[:5],Xval[:5],yval[:5]"
      ],
      "execution_count": 46,
      "outputs": [
        {
          "output_type": "execute_result",
          "data": {
            "text/plain": [
              "(array([[-0.158986,  0.423977],\n",
              "        [-0.347926,  0.47076 ],\n",
              "        [-0.504608,  0.353801],\n",
              "        [-0.596774,  0.114035],\n",
              "        [-0.518433, -0.172515]]), array([[1],\n",
              "        [1],\n",
              "        [1],\n",
              "        [1],\n",
              "        [1]], dtype=uint8), array([[-0.35306235, -0.67390181],\n",
              "        [-0.2271258 ,  0.44731976],\n",
              "        [ 0.09289767, -0.75352419],\n",
              "        [ 0.14824252, -0.71847308],\n",
              "        [-0.00151249,  0.16292786]]), array([[0],\n",
              "        [1],\n",
              "        [0],\n",
              "        [0],\n",
              "        [0]], dtype=uint8))"
            ]
          },
          "metadata": {
            "tags": []
          },
          "execution_count": 46
        }
      ]
    },
    {
      "cell_type": "code",
      "metadata": {
        "id": "KIuyoQveNvSR",
        "colab_type": "code",
        "colab": {
          "base_uri": "https://localhost:8080/",
          "height": 395
        },
        "outputId": "b4e33d73-fe6d-472b-9a2d-efcc3e67f988"
      },
      "source": [
        "m3,n3 = X3.shape[0],X3.shape[1]\n",
        "pos3,neg3= (y3==1).reshape(m3,1), (y3==0).reshape(m3,1)\n",
        "plt.figure(figsize=(8,6))\n",
        "plt.scatter(X3[pos3[:,0],0],X3[pos3[:,0],1],c=\"r\",marker=\"+\",s=50)\n",
        "plt.scatter(X3[neg3[:,0],0],X3[neg3[:,0],1],c=\"y\",marker=\"o\",s=50)"
      ],
      "execution_count": 47,
      "outputs": [
        {
          "output_type": "execute_result",
          "data": {
            "text/plain": [
              "<matplotlib.collections.PathCollection at 0x7fe3885beba8>"
            ]
          },
          "metadata": {
            "tags": []
          },
          "execution_count": 47
        },
        {
          "output_type": "display_data",
          "data": {
            "image/png": "[encoded data removed]",
            "text/plain": [
              "<Figure size 576x432 with 1 Axes>"
            ]
          },
          "metadata": {
            "tags": []
          }
        }
      ]
    },
    {
      "cell_type": "markdown",
      "metadata": {
        "id": "ZSgarIGdSTOV",
        "colab_type": "text"
      },
      "source": [
        "**Hyperparameter tuning**"
      ]
    },
    {
      "cell_type": "code",
      "metadata": {
        "id": "kQmLGQIeNvO3",
        "colab_type": "code",
        "colab": {}
      },
      "source": [
        "def dataset3Params(X, y, Xval, yval,vals):\n",
        "    \"\"\"\n",
        "    Returns your choice of C and sigma. You should complete this function to return the optimal C and \n",
        "    sigma based on a cross-validation set.\n",
        "    \"\"\"\n",
        "    acc = 0\n",
        "    best_c=0\n",
        "    best_gamma=0\n",
        "    for i in vals:\n",
        "        C= i\n",
        "        for j in vals:\n",
        "            gamma = 1/j\n",
        "            classifier = SVC(C=C,gamma=gamma)\n",
        "            classifier.fit(X,y)\n",
        "            prediction = classifier.predict(Xval)\n",
        "            score = classifier.score(Xval,yval)\n",
        "            if score>acc:\n",
        "                acc =score\n",
        "                best_c =C\n",
        "                best_gamma=gamma\n",
        "    return best_c, best_gamma"
      ],
      "execution_count": 0,
      "outputs": []
    },
    {
      "cell_type": "code",
      "metadata": {
        "id": "qxjQ6_OmNvK6",
        "colab_type": "code",
        "colab": {
          "base_uri": "https://localhost:8080/",
          "height": 87
        },
        "outputId": "95740495-ed60-41d0-fbf3-02ccc5721192"
      },
      "source": [
        "vals = [0.01, 0.03, 0.1, 0.3, 1, 3, 10, 30]\n",
        "C, gamma = dataset3Params(X3, y3.ravel(), Xval, yval.ravel(),vals)\n",
        "classifier4 = SVC(C=C,gamma=gamma)\n",
        "classifier4.fit(X3,y3.ravel())"
      ],
      "execution_count": 49,
      "outputs": [
        {
          "output_type": "execute_result",
          "data": {
            "text/plain": [
              "SVC(C=0.3, cache_size=200, class_weight=None, coef0=0.0,\n",
              "    decision_function_shape='ovr', degree=3, gamma=100.0, kernel='rbf',\n",
              "    max_iter=-1, probability=False, random_state=None, shrinking=True,\n",
              "    tol=0.001, verbose=False)"
            ]
          },
          "metadata": {
            "tags": []
          },
          "execution_count": 49
        }
      ]
    },
    {
      "cell_type": "code",
      "metadata": {
        "id": "_DOtUQ3Ea-Fn",
        "colab_type": "code",
        "colab": {
          "base_uri": "https://localhost:8080/",
          "height": 52
        },
        "outputId": "9eb9be54-2d33-426f-b9e6-e49e09fb0618"
      },
      "source": [
        "print(classifier4.score(X3,y3))\n",
        "print(classifier4.score(Xval,yval))"
      ],
      "execution_count": 50,
      "outputs": [
        {
          "output_type": "stream",
          "text": [
            "0.95260663507109\n",
            "0.965\n"
          ],
          "name": "stdout"
        }
      ]
    },
    {
      "cell_type": "code",
      "metadata": {
        "id": "nsxxIpz7NvCw",
        "colab_type": "code",
        "colab": {
          "base_uri": "https://localhost:8080/",
          "height": 395
        },
        "outputId": "e6f1ae7d-c653-40ee-f9ed-378c38edd392"
      },
      "source": [
        "plt.figure(figsize=(8,6))\n",
        "plt.scatter(X3[pos3[:,0],0],X3[pos3[:,0],1],c=\"r\",marker=\"+\",s=50)\n",
        "plt.scatter(X3[neg3[:,0],0],X3[neg3[:,0],1],c=\"y\",marker=\"o\",s=50)\n",
        "\n",
        "# plotting the decision boundary\n",
        "X_7,X_8 = np.meshgrid(np.linspace(X3[:,0].min(),X3[:,1].max(),num=100),np.linspace(X3[:,1].min(),X3[:,1].max(),num=100))\n",
        "plt.contour(X_7,X_8,classifier4.predict(np.array([X_7.ravel(),X_8.ravel()]).T).reshape(X_7.shape),1,colors=\"b\")\n",
        "plt.xlim(-0.6,0.3)\n",
        "plt.ylim(-0.7,0.5)"
      ],
      "execution_count": 51,
      "outputs": [
        {
          "output_type": "execute_result",
          "data": {
            "text/plain": [
              "(-0.7, 0.5)"
            ]
          },
          "metadata": {
            "tags": []
          },
          "execution_count": 51
        },
        {
          "output_type": "display_data",
          "data": {
            "image/png": "[encoded data removed]",
            "text/plain": [
              "<Figure size 576x432 with 1 Axes>"
            ]
          },
          "metadata": {
            "tags": []
          }
        }
      ]
    },
    {
      "cell_type": "code",
      "metadata": {
        "id": "ry5CRDC2bOiE",
        "colab_type": "code",
        "colab": {
          "base_uri": "https://localhost:8080/",
          "height": 395
        },
        "outputId": "0897f073-e9c0-4ce2-cc23-f7c5aa24c6c7"
      },
      "source": [
        "m4,n4 = Xval.shape[0],Xval.shape[1]\n",
        "pos4,neg4= (yval==1).reshape(m4,1), (yval==0).reshape(m4,1)\n",
        "\n",
        "plt.figure(figsize=(8,6))\n",
        "plt.scatter(Xval[pos4[:,0],0],Xval[pos4[:,0],1],c=\"r\",marker=\"+\",s=50)\n",
        "plt.scatter(Xval[neg4[:,0],0],Xval[neg4[:,0],1],c=\"y\",marker=\"o\",s=50)\n",
        "\n",
        "# plotting the decision boundary\n",
        "X_9,X_10 = np.meshgrid(np.linspace(Xval[:,0].min(),Xval[:,1].max(),num=100),np.linspace(Xval[:,1].min(),Xval[:,1].max(),num=100))\n",
        "plt.contour(X_9,X_10,classifier4.predict(np.array([X_9.ravel(),X_10.ravel()]).T).reshape(X_9.shape),1,colors=\"b\")\n",
        "plt.xlim(-0.6,0.3)\n",
        "plt.ylim(-0.7,0.5)"
      ],
      "execution_count": 52,
      "outputs": [
        {
          "output_type": "execute_result",
          "data": {
            "text/plain": [
              "(-0.7, 0.5)"
            ]
          },
          "metadata": {
            "tags": []
          },
          "execution_count": 52
        },
        {
          "output_type": "display_data",
          "data": {
            "image/png": "[encoded data removed]",
            "text/plain": [
              "<Figure size 576x432 with 1 Axes>"
            ]
          },
          "metadata": {
            "tags": []
          }
        }
      ]
    },
    {
      "cell_type": "code",
      "metadata": {
        "id": "d4GTbLNNk-gz",
        "colab_type": "code",
        "colab": {
          "base_uri": "https://localhost:8080/",
          "height": 34
        },
        "outputId": "5bc5d65b-98fe-4910-abae-283bafd75a5f"
      },
      "source": [
        "classifier4.score(Xval,yval)"
      ],
      "execution_count": 63,
      "outputs": [
        {
          "output_type": "execute_result",
          "data": {
            "text/plain": [
              "0.965"
            ]
          },
          "metadata": {
            "tags": []
          },
          "execution_count": 63
        }
      ]
    },
    {
      "cell_type": "code",
      "metadata": {
        "id": "k2AFiUmWiAbL",
        "colab_type": "code",
        "colab": {
          "base_uri": "https://localhost:8080/",
          "height": 196
        },
        "outputId": "5744a7be-22d7-4779-896d-a1468438262d"
      },
      "source": [
        "parameters = {'C':[0.01, 0.03, 0.1, 0.3, 1, 3, 10, 30,100],'kernel':['linear', 'poly', 'rbf', 'sigmoid'],'gamma':['auto','scale',100]}\n",
        "from sklearn.model_selection import GridSearchCV\n",
        "#LR_1 = LogisticRegression(C=0.1, solver='liblinear').fit(X_train,y_train)\n",
        "svc_gcv = SVC()\n",
        "cv_ = GridSearchCV(svc_gcv,parameters, cv = 5)\n",
        "cv_.fit(X3,y3.ravel())\n",
        "print(cv_.best_estimator_)\n",
        "print(cv_.best_params_)\n",
        "print(cv_.score(Xval,yval))\n",
        "print(cv_.score(X3,y3.ravel()))"
      ],
      "execution_count": 70,
      "outputs": [
        {
          "output_type": "stream",
          "text": [
            "SVC(C=3, cache_size=200, class_weight=None, coef0=0.0,\n",
            "    decision_function_shape='ovr', degree=3, gamma='scale', kernel='rbf',\n",
            "    max_iter=-1, probability=False, random_state=None, shrinking=True,\n",
            "    tol=0.001, verbose=False)\n",
            "{'C': 3, 'gamma': 'scale', 'kernel': 'rbf'}\n",
            "0.95\n",
            "0.943127962085308\n"
          ],
          "name": "stdout"
        },
        {
          "output_type": "stream",
          "text": [
            "/usr/local/lib/python3.6/dist-packages/sklearn/model_selection/_search.py:813: DeprecationWarning: The default of the `iid` parameter will change from True to False in version 0.22 and will be removed in 0.24. This will change numeric results when test-set sizes are unequal.\n",
            "  DeprecationWarning)\n"
          ],
          "name": "stderr"
        }
      ]
    },
    {
      "cell_type": "code",
      "metadata": {
        "id": "kWWZoErik56N",
        "colab_type": "code",
        "colab": {}
      },
      "source": [
        ""
      ],
      "execution_count": 0,
      "outputs": []
    },
    {
      "cell_type": "code",
      "metadata": {
        "id": "az5WBA5Fkgy-",
        "colab_type": "code",
        "colab": {
          "base_uri": "https://localhost:8080/",
          "height": 395
        },
        "outputId": "cc8dcfee-5cc3-41bd-92f5-649ee409ace8"
      },
      "source": [
        "m4,n4 = Xval.shape[0],Xval.shape[1]\n",
        "pos4,neg4= (yval==1).reshape(m4,1), (yval==0).reshape(m4,1)\n",
        "\n",
        "plt.figure(figsize=(8,6))\n",
        "plt.scatter(Xval[pos4[:,0],0],Xval[pos4[:,0],1],c=\"r\",marker=\"+\",s=50)\n",
        "plt.scatter(Xval[neg4[:,0],0],Xval[neg4[:,0],1],c=\"y\",marker=\"o\",s=50)\n",
        "\n",
        "# plotting the decision boundary\n",
        "X_9,X_10 = np.meshgrid(np.linspace(Xval[:,0].min(),Xval[:,1].max(),num=100),np.linspace(Xval[:,1].min(),Xval[:,1].max(),num=100))\n",
        "plt.contour(X_9,X_10,cv_.predict(np.array([X_9.ravel(),X_10.ravel()]).T).reshape(X_9.shape),1,colors=\"b\")\n",
        "plt.xlim(-0.6,0.3)\n",
        "plt.ylim(-0.7,0.5)"
      ],
      "execution_count": 67,
      "outputs": [
        {
          "output_type": "execute_result",
          "data": {
            "text/plain": [
              "(-0.7, 0.5)"
            ]
          },
          "metadata": {
            "tags": []
          },
          "execution_count": 67
        },
        {
          "output_type": "display_data",
          "data": {
            "image/png": "[encoded data removed]",
            "text/plain": [
              "<Figure size 576x432 with 1 Axes>"
            ]
          },
          "metadata": {
            "tags": []
          }
        }
      ]
    },
    {
      "cell_type": "code",
      "metadata": {
        "id": "xvycxF9CftXP",
        "colab_type": "code",
        "colab": {
          "base_uri": "https://localhost:8080/",
          "height": 34
        },
        "outputId": "d92ef184-70e4-4b25-aaad-48b14e407684"
      },
      "source": [
        "from sklearn.linear_model import LogisticRegression\n",
        "lr = LogisticRegression(C=100,solver = 'newton-cg')\n",
        "lr.fit(X3,y3.ravel())\n",
        "lr.score(Xval,yval)"
      ],
      "execution_count": 26,
      "outputs": [
        {
          "output_type": "execute_result",
          "data": {
            "text/plain": [
              "0.935"
            ]
          },
          "metadata": {
            "tags": []
          },
          "execution_count": 26
        }
      ]
    },
    {
      "cell_type": "code",
      "metadata": {
        "id": "lgxjERwxgwrd",
        "colab_type": "code",
        "colab": {
          "base_uri": "https://localhost:8080/",
          "height": 1000
        },
        "outputId": "41edd767-47d1-4725-d780-cd64f4cb5cc5"
      },
      "source": [
        "parameters = {'C':[0.01,0.1,1,10],'solver':['newton-cg', 'lbfgs',  'sag', 'saga'],'penalty' : ['l2' ,'none']}\n",
        "from sklearn.model_selection import GridSearchCV\n",
        "#LR_1 = LogisticRegression(C=0.1, solver='liblinear').fit(X_train,y_train)\n",
        "LR_1 = LogisticRegression()\n",
        "cv = GridSearchCV(LR_1,parameters, cv = 5)\n",
        "cv.fit(X3,y3.ravel())"
      ],
      "execution_count": 27,
      "outputs": [
        {
          "output_type": "stream",
          "text": [
            "/usr/local/lib/python3.6/dist-packages/sklearn/linear_model/logistic.py:1510: UserWarning: Setting penalty='none' will ignore the C and l1_ratio parameters\n",
            "  \"Setting penalty='none' will ignore the C and l1_ratio \"\n",
            "/usr/local/lib/python3.6/dist-packages/sklearn/linear_model/logistic.py:1510: UserWarning: Setting penalty='none' will ignore the C and l1_ratio parameters\n",
            "  \"Setting penalty='none' will ignore the C and l1_ratio \"\n",
            "/usr/local/lib/python3.6/dist-packages/sklearn/linear_model/logistic.py:1510: UserWarning: Setting penalty='none' will ignore the C and l1_ratio parameters\n",
            "  \"Setting penalty='none' will ignore the C and l1_ratio \"\n",
            "/usr/local/lib/python3.6/dist-packages/sklearn/linear_model/logistic.py:1510: UserWarning: Setting penalty='none' will ignore the C and l1_ratio parameters\n",
            "  \"Setting penalty='none' will ignore the C and l1_ratio \"\n",
            "/usr/local/lib/python3.6/dist-packages/sklearn/linear_model/logistic.py:1510: UserWarning: Setting penalty='none' will ignore the C and l1_ratio parameters\n",
            "  \"Setting penalty='none' will ignore the C and l1_ratio \"\n",
            "/usr/local/lib/python3.6/dist-packages/sklearn/linear_model/logistic.py:1510: UserWarning: Setting penalty='none' will ignore the C and l1_ratio parameters\n",
            "  \"Setting penalty='none' will ignore the C and l1_ratio \"\n",
            "/usr/local/lib/python3.6/dist-packages/sklearn/linear_model/logistic.py:1510: UserWarning: Setting penalty='none' will ignore the C and l1_ratio parameters\n",
            "  \"Setting penalty='none' will ignore the C and l1_ratio \"\n",
            "/usr/local/lib/python3.6/dist-packages/sklearn/linear_model/logistic.py:1510: UserWarning: Setting penalty='none' will ignore the C and l1_ratio parameters\n",
            "  \"Setting penalty='none' will ignore the C and l1_ratio \"\n",
            "/usr/local/lib/python3.6/dist-packages/sklearn/linear_model/logistic.py:1510: UserWarning: Setting penalty='none' will ignore the C and l1_ratio parameters\n",
            "  \"Setting penalty='none' will ignore the C and l1_ratio \"\n",
            "/usr/local/lib/python3.6/dist-packages/sklearn/linear_model/logistic.py:1510: UserWarning: Setting penalty='none' will ignore the C and l1_ratio parameters\n",
            "  \"Setting penalty='none' will ignore the C and l1_ratio \"\n",
            "/usr/local/lib/python3.6/dist-packages/sklearn/linear_model/logistic.py:1510: UserWarning: Setting penalty='none' will ignore the C and l1_ratio parameters\n",
            "  \"Setting penalty='none' will ignore the C and l1_ratio \"\n",
            "/usr/local/lib/python3.6/dist-packages/sklearn/linear_model/logistic.py:1510: UserWarning: Setting penalty='none' will ignore the C and l1_ratio parameters\n",
            "  \"Setting penalty='none' will ignore the C and l1_ratio \"\n",
            "/usr/local/lib/python3.6/dist-packages/sklearn/linear_model/logistic.py:1510: UserWarning: Setting penalty='none' will ignore the C and l1_ratio parameters\n",
            "  \"Setting penalty='none' will ignore the C and l1_ratio \"\n",
            "/usr/local/lib/python3.6/dist-packages/sklearn/linear_model/logistic.py:1510: UserWarning: Setting penalty='none' will ignore the C and l1_ratio parameters\n",
            "  \"Setting penalty='none' will ignore the C and l1_ratio \"\n",
            "/usr/local/lib/python3.6/dist-packages/sklearn/linear_model/logistic.py:1510: UserWarning: Setting penalty='none' will ignore the C and l1_ratio parameters\n",
            "  \"Setting penalty='none' will ignore the C and l1_ratio \"\n",
            "/usr/local/lib/python3.6/dist-packages/sklearn/linear_model/logistic.py:1510: UserWarning: Setting penalty='none' will ignore the C and l1_ratio parameters\n",
            "  \"Setting penalty='none' will ignore the C and l1_ratio \"\n",
            "/usr/local/lib/python3.6/dist-packages/sklearn/linear_model/logistic.py:1510: UserWarning: Setting penalty='none' will ignore the C and l1_ratio parameters\n",
            "  \"Setting penalty='none' will ignore the C and l1_ratio \"\n",
            "/usr/local/lib/python3.6/dist-packages/sklearn/linear_model/logistic.py:1510: UserWarning: Setting penalty='none' will ignore the C and l1_ratio parameters\n",
            "  \"Setting penalty='none' will ignore the C and l1_ratio \"\n",
            "/usr/local/lib/python3.6/dist-packages/sklearn/linear_model/logistic.py:1510: UserWarning: Setting penalty='none' will ignore the C and l1_ratio parameters\n",
            "  \"Setting penalty='none' will ignore the C and l1_ratio \"\n",
            "/usr/local/lib/python3.6/dist-packages/sklearn/linear_model/logistic.py:1510: UserWarning: Setting penalty='none' will ignore the C and l1_ratio parameters\n",
            "  \"Setting penalty='none' will ignore the C and l1_ratio \"\n",
            "/usr/local/lib/python3.6/dist-packages/sklearn/linear_model/logistic.py:1510: UserWarning: Setting penalty='none' will ignore the C and l1_ratio parameters\n",
            "  \"Setting penalty='none' will ignore the C and l1_ratio \"\n",
            "/usr/local/lib/python3.6/dist-packages/sklearn/linear_model/logistic.py:1510: UserWarning: Setting penalty='none' will ignore the C and l1_ratio parameters\n",
            "  \"Setting penalty='none' will ignore the C and l1_ratio \"\n",
            "/usr/local/lib/python3.6/dist-packages/sklearn/linear_model/logistic.py:1510: UserWarning: Setting penalty='none' will ignore the C and l1_ratio parameters\n",
            "  \"Setting penalty='none' will ignore the C and l1_ratio \"\n",
            "/usr/local/lib/python3.6/dist-packages/sklearn/linear_model/logistic.py:1510: UserWarning: Setting penalty='none' will ignore the C and l1_ratio parameters\n",
            "  \"Setting penalty='none' will ignore the C and l1_ratio \"\n",
            "/usr/local/lib/python3.6/dist-packages/sklearn/linear_model/logistic.py:1510: UserWarning: Setting penalty='none' will ignore the C and l1_ratio parameters\n",
            "  \"Setting penalty='none' will ignore the C and l1_ratio \"\n",
            "/usr/local/lib/python3.6/dist-packages/sklearn/linear_model/logistic.py:1510: UserWarning: Setting penalty='none' will ignore the C and l1_ratio parameters\n",
            "  \"Setting penalty='none' will ignore the C and l1_ratio \"\n",
            "/usr/local/lib/python3.6/dist-packages/sklearn/linear_model/logistic.py:1510: UserWarning: Setting penalty='none' will ignore the C and l1_ratio parameters\n",
            "  \"Setting penalty='none' will ignore the C and l1_ratio \"\n",
            "/usr/local/lib/python3.6/dist-packages/sklearn/linear_model/logistic.py:1510: UserWarning: Setting penalty='none' will ignore the C and l1_ratio parameters\n",
            "  \"Setting penalty='none' will ignore the C and l1_ratio \"\n",
            "/usr/local/lib/python3.6/dist-packages/sklearn/linear_model/logistic.py:1510: UserWarning: Setting penalty='none' will ignore the C and l1_ratio parameters\n",
            "  \"Setting penalty='none' will ignore the C and l1_ratio \"\n",
            "/usr/local/lib/python3.6/dist-packages/sklearn/linear_model/logistic.py:1510: UserWarning: Setting penalty='none' will ignore the C and l1_ratio parameters\n",
            "  \"Setting penalty='none' will ignore the C and l1_ratio \"\n",
            "/usr/local/lib/python3.6/dist-packages/sklearn/linear_model/logistic.py:1510: UserWarning: Setting penalty='none' will ignore the C and l1_ratio parameters\n",
            "  \"Setting penalty='none' will ignore the C and l1_ratio \"\n",
            "/usr/local/lib/python3.6/dist-packages/sklearn/linear_model/logistic.py:1510: UserWarning: Setting penalty='none' will ignore the C and l1_ratio parameters\n",
            "  \"Setting penalty='none' will ignore the C and l1_ratio \"\n",
            "/usr/local/lib/python3.6/dist-packages/sklearn/linear_model/logistic.py:1510: UserWarning: Setting penalty='none' will ignore the C and l1_ratio parameters\n",
            "  \"Setting penalty='none' will ignore the C and l1_ratio \"\n",
            "/usr/local/lib/python3.6/dist-packages/sklearn/linear_model/logistic.py:1510: UserWarning: Setting penalty='none' will ignore the C and l1_ratio parameters\n",
            "  \"Setting penalty='none' will ignore the C and l1_ratio \"\n",
            "/usr/local/lib/python3.6/dist-packages/sklearn/linear_model/logistic.py:1510: UserWarning: Setting penalty='none' will ignore the C and l1_ratio parameters\n",
            "  \"Setting penalty='none' will ignore the C and l1_ratio \"\n",
            "/usr/local/lib/python3.6/dist-packages/sklearn/linear_model/logistic.py:1510: UserWarning: Setting penalty='none' will ignore the C and l1_ratio parameters\n",
            "  \"Setting penalty='none' will ignore the C and l1_ratio \"\n",
            "/usr/local/lib/python3.6/dist-packages/sklearn/linear_model/logistic.py:1510: UserWarning: Setting penalty='none' will ignore the C and l1_ratio parameters\n",
            "  \"Setting penalty='none' will ignore the C and l1_ratio \"\n",
            "/usr/local/lib/python3.6/dist-packages/sklearn/linear_model/logistic.py:1510: UserWarning: Setting penalty='none' will ignore the C and l1_ratio parameters\n",
            "  \"Setting penalty='none' will ignore the C and l1_ratio \"\n",
            "/usr/local/lib/python3.6/dist-packages/sklearn/linear_model/logistic.py:1510: UserWarning: Setting penalty='none' will ignore the C and l1_ratio parameters\n",
            "  \"Setting penalty='none' will ignore the C and l1_ratio \"\n",
            "/usr/local/lib/python3.6/dist-packages/sklearn/linear_model/logistic.py:1510: UserWarning: Setting penalty='none' will ignore the C and l1_ratio parameters\n",
            "  \"Setting penalty='none' will ignore the C and l1_ratio \"\n",
            "/usr/local/lib/python3.6/dist-packages/sklearn/linear_model/logistic.py:1510: UserWarning: Setting penalty='none' will ignore the C and l1_ratio parameters\n",
            "  \"Setting penalty='none' will ignore the C and l1_ratio \"\n",
            "/usr/local/lib/python3.6/dist-packages/sklearn/linear_model/logistic.py:1510: UserWarning: Setting penalty='none' will ignore the C and l1_ratio parameters\n",
            "  \"Setting penalty='none' will ignore the C and l1_ratio \"\n",
            "/usr/local/lib/python3.6/dist-packages/sklearn/linear_model/logistic.py:1510: UserWarning: Setting penalty='none' will ignore the C and l1_ratio parameters\n",
            "  \"Setting penalty='none' will ignore the C and l1_ratio \"\n",
            "/usr/local/lib/python3.6/dist-packages/sklearn/linear_model/logistic.py:1510: UserWarning: Setting penalty='none' will ignore the C and l1_ratio parameters\n",
            "  \"Setting penalty='none' will ignore the C and l1_ratio \"\n",
            "/usr/local/lib/python3.6/dist-packages/sklearn/linear_model/logistic.py:1510: UserWarning: Setting penalty='none' will ignore the C and l1_ratio parameters\n",
            "  \"Setting penalty='none' will ignore the C and l1_ratio \"\n",
            "/usr/local/lib/python3.6/dist-packages/sklearn/linear_model/logistic.py:1510: UserWarning: Setting penalty='none' will ignore the C and l1_ratio parameters\n",
            "  \"Setting penalty='none' will ignore the C and l1_ratio \"\n",
            "/usr/local/lib/python3.6/dist-packages/sklearn/linear_model/logistic.py:1510: UserWarning: Setting penalty='none' will ignore the C and l1_ratio parameters\n",
            "  \"Setting penalty='none' will ignore the C and l1_ratio \"\n",
            "/usr/local/lib/python3.6/dist-packages/sklearn/linear_model/logistic.py:1510: UserWarning: Setting penalty='none' will ignore the C and l1_ratio parameters\n",
            "  \"Setting penalty='none' will ignore the C and l1_ratio \"\n",
            "/usr/local/lib/python3.6/dist-packages/sklearn/linear_model/logistic.py:1510: UserWarning: Setting penalty='none' will ignore the C and l1_ratio parameters\n",
            "  \"Setting penalty='none' will ignore the C and l1_ratio \"\n",
            "/usr/local/lib/python3.6/dist-packages/sklearn/linear_model/logistic.py:1510: UserWarning: Setting penalty='none' will ignore the C and l1_ratio parameters\n",
            "  \"Setting penalty='none' will ignore the C and l1_ratio \"\n",
            "/usr/local/lib/python3.6/dist-packages/sklearn/linear_model/logistic.py:1510: UserWarning: Setting penalty='none' will ignore the C and l1_ratio parameters\n",
            "  \"Setting penalty='none' will ignore the C and l1_ratio \"\n",
            "/usr/local/lib/python3.6/dist-packages/sklearn/linear_model/logistic.py:1510: UserWarning: Setting penalty='none' will ignore the C and l1_ratio parameters\n",
            "  \"Setting penalty='none' will ignore the C and l1_ratio \"\n",
            "/usr/local/lib/python3.6/dist-packages/sklearn/linear_model/logistic.py:1510: UserWarning: Setting penalty='none' will ignore the C and l1_ratio parameters\n",
            "  \"Setting penalty='none' will ignore the C and l1_ratio \"\n",
            "/usr/local/lib/python3.6/dist-packages/sklearn/linear_model/logistic.py:1510: UserWarning: Setting penalty='none' will ignore the C and l1_ratio parameters\n",
            "  \"Setting penalty='none' will ignore the C and l1_ratio \"\n",
            "/usr/local/lib/python3.6/dist-packages/sklearn/linear_model/logistic.py:1510: UserWarning: Setting penalty='none' will ignore the C and l1_ratio parameters\n",
            "  \"Setting penalty='none' will ignore the C and l1_ratio \"\n",
            "/usr/local/lib/python3.6/dist-packages/sklearn/linear_model/logistic.py:1510: UserWarning: Setting penalty='none' will ignore the C and l1_ratio parameters\n",
            "  \"Setting penalty='none' will ignore the C and l1_ratio \"\n",
            "/usr/local/lib/python3.6/dist-packages/sklearn/linear_model/logistic.py:1510: UserWarning: Setting penalty='none' will ignore the C and l1_ratio parameters\n",
            "  \"Setting penalty='none' will ignore the C and l1_ratio \"\n",
            "/usr/local/lib/python3.6/dist-packages/sklearn/linear_model/logistic.py:1510: UserWarning: Setting penalty='none' will ignore the C and l1_ratio parameters\n",
            "  \"Setting penalty='none' will ignore the C and l1_ratio \"\n",
            "/usr/local/lib/python3.6/dist-packages/sklearn/linear_model/logistic.py:1510: UserWarning: Setting penalty='none' will ignore the C and l1_ratio parameters\n",
            "  \"Setting penalty='none' will ignore the C and l1_ratio \"\n",
            "/usr/local/lib/python3.6/dist-packages/sklearn/linear_model/logistic.py:1510: UserWarning: Setting penalty='none' will ignore the C and l1_ratio parameters\n",
            "  \"Setting penalty='none' will ignore the C and l1_ratio \"\n",
            "/usr/local/lib/python3.6/dist-packages/sklearn/model_selection/_search.py:813: DeprecationWarning: The default of the `iid` parameter will change from True to False in version 0.22 and will be removed in 0.24. This will change numeric results when test-set sizes are unequal.\n",
            "  DeprecationWarning)\n",
            "/usr/local/lib/python3.6/dist-packages/sklearn/linear_model/logistic.py:1510: UserWarning: Setting penalty='none' will ignore the C and l1_ratio parameters\n",
            "  \"Setting penalty='none' will ignore the C and l1_ratio \"\n"
          ],
          "name": "stderr"
        },
        {
          "output_type": "execute_result",
          "data": {
            "text/plain": [
              "GridSearchCV(cv=5, error_score='raise-deprecating',\n",
              "             estimator=LogisticRegression(C=1.0, class_weight=None, dual=False,\n",
              "                                          fit_intercept=True,\n",
              "                                          intercept_scaling=1, l1_ratio=None,\n",
              "                                          max_iter=100, multi_class='warn',\n",
              "                                          n_jobs=None, penalty='l2',\n",
              "                                          random_state=None, solver='warn',\n",
              "                                          tol=0.0001, verbose=0,\n",
              "                                          warm_start=False),\n",
              "             iid='warn', n_jobs=None,\n",
              "             param_grid={'C': [0.01, 0.1, 1, 10], 'penalty': ['l2', 'none'],\n",
              "                         'solver': ['newton-cg', 'lbfgs', 'sag', 'saga']},\n",
              "             pre_dispatch='2*n_jobs', refit=True, return_train_score=False,\n",
              "             scoring=None, verbose=0)"
            ]
          },
          "metadata": {
            "tags": []
          },
          "execution_count": 27
        }
      ]
    },
    {
      "cell_type": "code",
      "metadata": {
        "id": "_OVbYmNWg2Wf",
        "colab_type": "code",
        "colab": {
          "base_uri": "https://localhost:8080/",
          "height": 34
        },
        "outputId": "23d38304-ed51-44ab-c8ba-469853d550f1"
      },
      "source": [
        "cv.score(Xval,yval)"
      ],
      "execution_count": 28,
      "outputs": [
        {
          "output_type": "execute_result",
          "data": {
            "text/plain": [
              "0.935"
            ]
          },
          "metadata": {
            "tags": []
          },
          "execution_count": 28
        }
      ]
    },
    {
      "cell_type": "code",
      "metadata": {
        "id": "y3gJBewhfAlU",
        "colab_type": "code",
        "colab": {
          "base_uri": "https://localhost:8080/",
          "height": 395
        },
        "outputId": "3cc1f043-683c-40e7-9ff3-ef77031ab3ce"
      },
      "source": [
        "m4,n4 = Xval.shape[0],Xval.shape[1]\n",
        "pos4,neg4= (yval==1).reshape(m4,1), (yval==0).reshape(m4,1)\n",
        "\n",
        "plt.figure(figsize=(8,6))\n",
        "plt.scatter(Xval[pos4[:,0],0],Xval[pos4[:,0],1],c=\"r\",marker=\"+\",s=50)\n",
        "plt.scatter(Xval[neg4[:,0],0],Xval[neg4[:,0],1],c=\"y\",marker=\"o\",s=50)\n",
        "\n",
        "# plotting the decision boundary\n",
        "X_9,X_10 = np.meshgrid(np.linspace(Xval[:,0].min(),Xval[:,1].max(),num=100),np.linspace(Xval[:,1].min(),Xval[:,1].max(),num=100))\n",
        "plt.contour(X_9,X_10,cv.predict(np.array([X_9.ravel(),X_10.ravel()]).T).reshape(X_9.shape),1,colors=\"b\")\n",
        "plt.xlim(-0.6,0.3)\n",
        "plt.ylim(-0.7,0.5)"
      ],
      "execution_count": 29,
      "outputs": [
        {
          "output_type": "execute_result",
          "data": {
            "text/plain": [
              "(-0.7, 0.5)"
            ]
          },
          "metadata": {
            "tags": []
          },
          "execution_count": 29
        },
        {
          "output_type": "display_data",
          "data": {
            "image/png": "[encoded data removed]",
            "text/plain": [
              "<Figure size 576x432 with 1 Axes>"
            ]
          },
          "metadata": {
            "tags": []
          }
        }
      ]
    },
    {
      "cell_type": "markdown",
      "metadata": {
        "id": "LKN0DE7aKXtY",
        "colab_type": "text"
      },
      "source": [
        "# SVM on emails datasets to classify spam emails."
      ]
    },
    {
      "cell_type": "code",
      "metadata": {
        "id": "IlTLkG1KSgFn",
        "colab_type": "code",
        "colab": {}
      },
      "source": [
        "import re\n",
        "from nltk.stem import PorterStemmer\n",
        "\n",
        "file_contents = open(\"/content/drive/My Drive/svc_datasets/emailSample1.txt\",\"r\").read()\n",
        "vocabList = open(\"/content/drive/My Drive/svc_datasets/vocab.txt\",\"r\").read()"
      ],
      "execution_count": 0,
      "outputs": []
    },
    {
      "cell_type": "code",
      "metadata": {
        "id": "wKGkafi-SgDs",
        "colab_type": "code",
        "colab": {}
      },
      "source": [
        "vocabList=vocabList.split(\"\\n\")[:-1]\n",
        "\n",
        "vocabList_d={}\n",
        "for ea in vocabList:\n",
        "    value,key = ea.split(\"\\t\")[:]\n",
        "    vocabList_d[key] = value"
      ],
      "execution_count": 0,
      "outputs": []
    },
    {
      "cell_type": "code",
      "metadata": {
        "id": "QAefm6N_SgAx",
        "colab_type": "code",
        "colab": {
          "base_uri": "https://localhost:8080/",
          "height": 54
        },
        "outputId": "5d04deb6-730a-42d4-d7de-4859292cf459"
      },
      "source": [
        "file_contents\n"
      ],
      "execution_count": 30,
      "outputs": [
        {
          "output_type": "execute_result",
          "data": {
            "text/plain": [
              "\"> Anyone knows how much it costs to host a web portal ?\\n>\\nWell, it depends on how many visitors you're expecting.\\nThis can be anywhere from less than 10 bucks a month to a couple of $100. \\nYou should checkout http://www.rackspace.com/ or perhaps Amazon EC2 \\nif youre running something big..\\n\\nTo unsubscribe yourself from this mailing list, send an email to:\\ngroupname-unsubscribe@egroups.com\\n\\n\""
            ]
          },
          "metadata": {
            "tags": []
          },
          "execution_count": 30
        }
      ]
    },
    {
      "cell_type": "markdown",
      "metadata": {
        "id": "trNDyGbrS_7r",
        "colab_type": "text"
      },
      "source": [
        "**Preprocessing emails**"
      ]
    },
    {
      "cell_type": "code",
      "metadata": {
        "id": "4V8EvQffSf-7",
        "colab_type": "code",
        "colab": {}
      },
      "source": [
        "def processEmail(email_contents,vocabList_d):\n",
        "    \"\"\"\n",
        "    Preprocesses the body of an email and returns a list of indices of the words contained in the email. \n",
        "    \"\"\"\n",
        "    # Lower case\n",
        "    email_contents = email_contents.lower()\n",
        "    \n",
        "    # Handle numbers\n",
        "    email_contents = re.sub(\"[0-9]+\",\"number\",email_contents)\n",
        "    \n",
        "    # Handle URLS\n",
        "    email_contents = re.sub(\"[http|https]://[^\\s]*\",\"httpaddr\",email_contents)\n",
        "    \n",
        "    # Handle Email Addresses\n",
        "    email_contents = re.sub(\"[^\\s]+@[^\\s]+\",\"emailaddr\",email_contents)\n",
        "    \n",
        "    # Handle $ sign\n",
        "    email_contents = re.sub(\"[$]+\",\"dollar\",email_contents)\n",
        "    \n",
        "    # Strip all special characters\n",
        "    specialChar = [\"<\",\"[\",\"^\",\">\",\"+\",\"?\",\"!\",\"'\",\".\",\",\",\":\"]\n",
        "    for char in specialChar:\n",
        "        email_contents = email_contents.replace(str(char),\"\")\n",
        "    email_contents = email_contents.replace(\"\\n\",\" \")    \n",
        "    \n",
        "    # Stem the word\n",
        "    ps = PorterStemmer()\n",
        "    email_contents = [ps.stem(token) for token in email_contents.split(\" \")]\n",
        "    email_contents= \" \".join(email_contents)\n",
        "    \n",
        "    # Process the email and return word_indices\n",
        "    \n",
        "    word_indices=[]\n",
        "    \n",
        "    for char in email_contents.split():\n",
        "        if len(char) >1 and char in vocabList_d:\n",
        "            word_indices.append(int(vocabList_d[char]))\n",
        "    \n",
        "    return word_indices"
      ],
      "execution_count": 0,
      "outputs": []
    },
    {
      "cell_type": "code",
      "metadata": {
        "id": "vP8d3w7SSf7f",
        "colab_type": "code",
        "colab": {
          "base_uri": "https://localhost:8080/",
          "height": 34
        },
        "outputId": "3432b47f-2541-4325-f148-b91056c0160e"
      },
      "source": [
        "word_indices= processEmail(file_contents,vocabList_d)\n",
        "word_indices[:5]"
      ],
      "execution_count": 32,
      "outputs": [
        {
          "output_type": "execute_result",
          "data": {
            "text/plain": [
              "[86, 916, 794, 1077, 883]"
            ]
          },
          "metadata": {
            "tags": []
          },
          "execution_count": 32
        }
      ]
    },
    {
      "cell_type": "markdown",
      "metadata": {
        "id": "oQVE-f8vTJ-3",
        "colab_type": "text"
      },
      "source": [
        "**Extracting features from emails**"
      ]
    },
    {
      "cell_type": "code",
      "metadata": {
        "id": "1BfJZKieSf5U",
        "colab_type": "code",
        "colab": {}
      },
      "source": [
        "def emailFeatures(word_indices, vocabList_d):\n",
        "    \"\"\"\n",
        "    Takes in a word_indices vector and  produces a feature vector from the word indices. \n",
        "    \"\"\"\n",
        "    n = len(vocabList_d)\n",
        "    \n",
        "    features = np.zeros((n,1))\n",
        "    \n",
        "    for i in word_indices:\n",
        "        features[i] =1\n",
        "        \n",
        "    return features"
      ],
      "execution_count": 0,
      "outputs": []
    },
    {
      "cell_type": "code",
      "metadata": {
        "id": "aoJWPLjDSf4N",
        "colab_type": "code",
        "colab": {
          "base_uri": "https://localhost:8080/",
          "height": 52
        },
        "outputId": "9a6899d4-00e3-4924-fd5c-ca27e9859019"
      },
      "source": [
        "features = emailFeatures(word_indices,vocabList_d)\n",
        "print(\"Length of feature vector: \",len(features))\n",
        "print(\"Number of non-zero entries: \",np.sum(features))"
      ],
      "execution_count": 34,
      "outputs": [
        {
          "output_type": "stream",
          "text": [
            "Length of feature vector:  1899\n",
            "Number of non-zero entries:  43.0\n"
          ],
          "name": "stdout"
        }
      ]
    },
    {
      "cell_type": "markdown",
      "metadata": {
        "id": "hJmXU6bRTRTg",
        "colab_type": "text"
      },
      "source": [
        "**Training SVM for spam classification**"
      ]
    },
    {
      "cell_type": "code",
      "metadata": {
        "id": "ijrsQxTrSfza",
        "colab_type": "code",
        "colab": {}
      },
      "source": [
        "spam_mat = loadmat(\"/content/drive/My Drive/svc_datasets/spamTrain.mat\")\n",
        "X_train =spam_mat[\"X\"]\n",
        "y_train = spam_mat[\"y\"]"
      ],
      "execution_count": 0,
      "outputs": []
    },
    {
      "cell_type": "code",
      "metadata": {
        "id": "s39RFkKfSfwY",
        "colab_type": "code",
        "colab": {
          "base_uri": "https://localhost:8080/",
          "height": 34
        },
        "outputId": "634dcda0-923e-4788-be4c-0f20afb072a1"
      },
      "source": [
        "C =0.1\n",
        "spam_svc = SVC(C=0.1,kernel =\"linear\")\n",
        "spam_svc.fit(X_train,y_train.ravel())\n",
        "print(\"Training Accuracy:\",(spam_svc.score(X_train,y_train.ravel()))*100,\"%\")"
      ],
      "execution_count": 36,
      "outputs": [
        {
          "output_type": "stream",
          "text": [
            "Training Accuracy: 99.825 %\n"
          ],
          "name": "stdout"
        }
      ]
    },
    {
      "cell_type": "code",
      "metadata": {
        "id": "nDoAjoGLSfuB",
        "colab_type": "code",
        "colab": {}
      },
      "source": [
        "spam_mat_test = loadmat(\"/content/drive/My Drive/svc_datasets/spamTest.mat\")\n",
        "X_test = spam_mat_test[\"Xtest\"]\n",
        "y_test =spam_mat_test[\"ytest\"]"
      ],
      "execution_count": 0,
      "outputs": []
    },
    {
      "cell_type": "code",
      "metadata": {
        "id": "PT1jLTObTWNx",
        "colab_type": "code",
        "colab": {
          "base_uri": "https://localhost:8080/",
          "height": 34
        },
        "outputId": "a427c3b1-8271-4b1d-aa0b-e0beaded425b"
      },
      "source": [
        "spam_svc.predict(X_test)\n",
        "print(\"Test Accuracy:\",(spam_svc.score(X_test,y_test.ravel()))*100,\"%\")"
      ],
      "execution_count": 38,
      "outputs": [
        {
          "output_type": "stream",
          "text": [
            "Test Accuracy: 98.9 %\n"
          ],
          "name": "stdout"
        }
      ]
    },
    {
      "cell_type": "markdown",
      "metadata": {
        "id": "eB8KPn5lT_MR",
        "colab_type": "text"
      },
      "source": [
        "**Top predictors for spam**"
      ]
    },
    {
      "cell_type": "code",
      "metadata": {
        "id": "wKOPBC1bTWL8",
        "colab_type": "code",
        "colab": {}
      },
      "source": [
        "weights = spam_svc.coef_[0]\n",
        "weights_col = np.hstack((np.arange(1,1900).reshape(1899,1),weights.reshape(1899,1)))\n",
        "df = pd.DataFrame(weights_col)\n",
        "\n",
        "df.sort_values(by=[1],ascending = False,inplace=True)\n",
        "\n",
        "predictors = []\n",
        "idx=[]\n",
        "for i in df[0][:15]:\n",
        "    for keys, values in vocabList_d.items():\n",
        "        if str(int(i)) == values:\n",
        "            predictors.append(keys)\n",
        "            idx.append(int(values))"
      ],
      "execution_count": 0,
      "outputs": []
    },
    {
      "cell_type": "code",
      "metadata": {
        "id": "KLeXU_QlTWJQ",
        "colab_type": "code",
        "colab": {
          "base_uri": "https://localhost:8080/",
          "height": 301
        },
        "outputId": "75458c75-001b-470d-edf4-093208ae7a54"
      },
      "source": [
        "print(\"Top predictors of spam:\")\n",
        "\n",
        "for _ in range(15):\n",
        "    print(predictors[_],\"\\t\\t\",round(df[1][idx[_]-1],6))"
      ],
      "execution_count": 40,
      "outputs": [
        {
          "output_type": "stream",
          "text": [
            "Top predictors of spam:\n",
            "our \t\t 0.500614\n",
            "click \t\t 0.465916\n",
            "remov \t\t 0.422869\n",
            "guarante \t\t 0.383622\n",
            "visit \t\t 0.36771\n",
            "basenumb \t\t 0.345064\n",
            "dollar \t\t 0.323632\n",
            "will \t\t 0.269724\n",
            "price \t\t 0.267298\n",
            "pleas \t\t 0.261169\n",
            "most \t\t 0.257298\n",
            "nbsp \t\t 0.253941\n",
            "lo \t\t 0.253467\n",
            "ga \t\t 0.248297\n",
            "hour \t\t 0.246404\n"
          ],
          "name": "stdout"
        }
      ]
    }
  ]
}